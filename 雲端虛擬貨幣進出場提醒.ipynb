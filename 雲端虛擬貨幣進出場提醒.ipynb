{
  "nbformat": 4,
  "nbformat_minor": 0,
  "metadata": {
    "colab": {
      "name": "雲端虛擬貨幣進出場提醒.ipynb",
      "provenance": [],
      "authorship_tag": "ABX9TyORO4nx/jOvuV+fa2mYo7QX",
      "include_colab_link": true
    },
    "kernelspec": {
      "name": "python3",
      "display_name": "Python 3"
    }
  },
  "cells": [
    {
      "cell_type": "markdown",
      "metadata": {
        "id": "view-in-github",
        "colab_type": "text"
      },
      "source": [
        "<a href=\"https://colab.research.google.com/github/skywalker0803r/deep-learning-ian-goodfellow/blob/master/%E9%9B%B2%E7%AB%AF%E8%99%9B%E6%93%AC%E8%B2%A8%E5%B9%A3%E9%80%B2%E5%87%BA%E5%A0%B4%E6%8F%90%E9%86%92.ipynb\" target=\"_parent\"><img src=\"https://colab.research.google.com/assets/colab-badge.svg\" alt=\"Open In Colab\"/></a>"
      ]
    },
    {
      "cell_type": "code",
      "metadata": {
        "id": "ADrC3jLdG3VJ"
      },
      "source": [
        "from email.mime.multipart import MIMEMultipart\r\n",
        "from email.mime.text import MIMEText\r\n",
        "import smtplib\r\n",
        "import finlab_crypto\r\n",
        "import pandas as pd\r\n",
        "\r\n",
        "def send_message(title,text,email='skywalker0803r@gmail.com',password=\"fbkafkfgjrddzofj\"):\r\n",
        "  content = MIMEMultipart()\r\n",
        "  content[\"subject\"] = title\r\n",
        "  content[\"from\"] = email\r\n",
        "  content[\"to\"] = email\r\n",
        "  content.attach(MIMEText(text))\r\n",
        "  with smtplib.SMTP(host=\"smtp.gmail.com\", port=\"587\") as smtp:\r\n",
        "    smtp.ehlo()\r\n",
        "    smtp.starttls()\r\n",
        "    smtp.login(email,password)\r\n",
        "    smtp.send_message(content)\r\n",
        "\r\n",
        "def main(n1=10,n2=20,symbol='ETHUSDT'):\r\n",
        "  ohlcv = finlab_crypto.crawler.get_all_binance(symbol,'4h')\r\n",
        "  table = pd.DataFrame()\r\n",
        "  table['close'] = ohlcv.close\r\n",
        "  table['n1'] = ohlcv.close.rolling(n1).mean()\r\n",
        "  table['n2'] = ohlcv.close.rolling(n2).mean()\r\n",
        "  table['buy'] = ((table['n1']>table['n2'])&(table['n1'].shift()<table['n2'].shift())).astype(int)\r\n",
        "  table['sell'] = ((table['n1']<table['n2'])&(table['n1'].shift()>table['n2'].shift())).astype(int)\r\n",
        "  \r\n",
        "  if table['buy'][-1] == 1:\r\n",
        "    message = 'BUY'\r\n",
        "  \r\n",
        "  elif table['sell'][-1] == 1:\r\n",
        "    message = 'SELL'\r\n",
        "  \r\n",
        "  else:\r\n",
        "    message = 'HOLD'\r\n",
        "  \r\n",
        "  send_message(title=message,text='Action:{},Symbol:{},Price:{}'.format(message,symbol,table['close'][-1]))"
      ],
      "execution_count": 15,
      "outputs": []
    },
    {
      "cell_type": "code",
      "metadata": {
        "id": "i-E7Got3LTMY"
      },
      "source": [
        ""
      ],
      "execution_count": null,
      "outputs": []
    }
  ]
}