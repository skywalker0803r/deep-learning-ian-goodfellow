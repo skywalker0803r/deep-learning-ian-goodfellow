{
  "nbformat": 4,
  "nbformat_minor": 0,
  "metadata": {
    "colab": {
      "name": "jax牛頓法.ipynb",
      "provenance": [],
      "authorship_tag": "ABX9TyPkehCQBJhXD2dA+UEaI3oh",
      "include_colab_link": true
    },
    "kernelspec": {
      "name": "python3",
      "display_name": "Python 3"
    }
  },
  "cells": [
    {
      "cell_type": "markdown",
      "metadata": {
        "id": "view-in-github",
        "colab_type": "text"
      },
      "source": [
        "<a href=\"https://colab.research.google.com/github/skywalker0803r/deep-learning-ian-goodfellow/blob/master/jax%E7%89%9B%E9%A0%93%E6%B3%95.ipynb\" target=\"_parent\"><img src=\"https://colab.research.google.com/assets/colab-badge.svg\" alt=\"Open In Colab\"/></a>"
      ]
    },
    {
      "cell_type": "code",
      "metadata": {
        "id": "FYGooubFuHlG",
        "colab_type": "code",
        "colab": {}
      },
      "source": [
        "import jax.numpy as np\n",
        "from jax import grad, jit, vmap,linear_util\n",
        "from jax import random\n",
        "from jax import jacfwd, jacrev\n",
        "from jax.numpy import linalg\n",
        "import matplotlib.pyplot as plt\n",
        "from numpy import nanargmin,nanargmax "
      ],
      "execution_count": 1,
      "outputs": []
    },
    {
      "cell_type": "markdown",
      "metadata": {
        "id": "1oJ47jNqzlye",
        "colab_type": "text"
      },
      "source": [
        "# loss function"
      ]
    },
    {
      "cell_type": "code",
      "metadata": {
        "id": "vCCkLz4tuaBp",
        "colab_type": "code",
        "colab": {}
      },
      "source": [
        "def L(x): \n",
        "  return x**2 + 2*x -1"
      ],
      "execution_count": 2,
      "outputs": []
    },
    {
      "cell_type": "markdown",
      "metadata": {
        "id": "0rUu63fjzoHz",
        "colab_type": "text"
      },
      "source": [
        "# Newton method"
      ]
    },
    {
      "cell_type": "code",
      "metadata": {
        "id": "XS95WZnSzoPu",
        "colab_type": "code",
        "colab": {}
      },
      "source": [
        "gradL = grad(L)\n",
        "gradL2 = grad(gradL)\n",
        "\n",
        "def minNewton(x) : \n",
        "  return x - gradL(x)/gradL2(x)\n",
        "def minGD(x,lr):\n",
        "  return x - lr*gradL(x)"
      ],
      "execution_count": 3,
      "outputs": []
    },
    {
      "cell_type": "markdown",
      "metadata": {
        "id": "qSH1ZqUJzsiG",
        "colab_type": "text"
      },
      "source": [
        "# run "
      ]
    },
    {
      "cell_type": "code",
      "metadata": {
        "id": "rP9C5rtLugsf",
        "colab_type": "code",
        "colab": {
          "base_uri": "https://localhost:8080/",
          "height": 301
        },
        "outputId": "a35394c1-518d-4b67-b39c-f9b601a9b501"
      },
      "source": [
        "# 記錄用\n",
        "history = {}\n",
        "history['lr0.1'] = []\n",
        "history['lr0.01'] = []\n",
        "history['lr0.001'] = []\n",
        "history['newton'] = []\n",
        "\n",
        "# 梯度下降法\n",
        "for lr in [0.1,0.01,0.001]:\n",
        "  x = 10.0\n",
        "  for epoch in range (100) :\n",
        "    x = minGD(x,lr)\n",
        "    history[\"lr{}\".format(lr)].append(x)\n",
        "\n",
        "# 牛頓法\n",
        "x = 10.0\n",
        "for epoch in range(100):\n",
        "  x = minNewton(x)\n",
        "  history['newton'].append(x)\n",
        "\n",
        "# 比較結果\n",
        "for i in history.keys():\n",
        "  plt.plot(history[i],label=i)\n",
        "plt.legend()\n",
        "plt.show()"
      ],
      "execution_count": 4,
      "outputs": [
        {
          "output_type": "stream",
          "text": [
            "/usr/local/lib/python3.6/dist-packages/jax/lib/xla_bridge.py:127: UserWarning: No GPU/TPU found, falling back to CPU.\n",
            "  warnings.warn('No GPU/TPU found, falling back to CPU.')\n"
          ],
          "name": "stderr"
        },
        {
          "output_type": "display_data",
          "data": {
            "image/png": "[encoded data removed]",
            "text/plain": [
              "<Figure size 432x288 with 1 Axes>"
            ]
          },
          "metadata": {
            "tags": [],
            "needs_background": "light"
          }
        }
      ]
    },
    {
      "cell_type": "code",
      "metadata": {
        "id": "uNl5URYAu1nQ",
        "colab_type": "code",
        "colab": {}
      },
      "source": [
        ""
      ],
      "execution_count": 4,
      "outputs": []
    }
  ]
}