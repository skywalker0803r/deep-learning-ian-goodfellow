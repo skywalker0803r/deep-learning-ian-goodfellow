{
  "nbformat": 4,
  "nbformat_minor": 0,
  "metadata": {
    "colab": {
      "name": "寄信.ipynb",
      "provenance": [],
      "authorship_tag": "ABX9TyMAx28vsv45HQ63Mwrof3RL",
      "include_colab_link": true
    },
    "kernelspec": {
      "name": "python3",
      "display_name": "Python 3"
    }
  },
  "cells": [
    {
      "cell_type": "markdown",
      "metadata": {
        "id": "view-in-github",
        "colab_type": "text"
      },
      "source": [
        "<a href=\"https://colab.research.google.com/github/skywalker0803r/deep-learning-ian-goodfellow/blob/master/%E5%AF%84%E4%BF%A1.ipynb\" target=\"_parent\"><img src=\"https://colab.research.google.com/assets/colab-badge.svg\" alt=\"Open In Colab\"/></a>"
      ]
    },
    {
      "cell_type": "code",
      "metadata": {
        "id": "ADrC3jLdG3VJ"
      },
      "source": [
        "from email.mime.multipart import MIMEMultipart\r\n",
        "from email.mime.text import MIMEText\r\n",
        "import smtplib\r\n",
        "\r\n",
        "def send_message(title,text,email='skywalker0803r@gmail.com',password=\"fbkafkfgjrddzofj\"):\r\n",
        "  content = MIMEMultipart()\r\n",
        "  content[\"subject\"] = title\r\n",
        "  content[\"from\"] = email\r\n",
        "  content[\"to\"] = email\r\n",
        "  content.attach(MIMEText(text))\r\n",
        "  with smtplib.SMTP(host=\"smtp.gmail.com\", port=\"587\") as smtp:\r\n",
        "    smtp.ehlo()\r\n",
        "    smtp.starttls()\r\n",
        "    smtp.login(email,password)\r\n",
        "    smtp.send_message(content)"
      ],
      "execution_count": 1,
      "outputs": []
    },
    {
      "cell_type": "code",
      "metadata": {
        "id": "RsnRU-kVG-5E"
      },
      "source": [
        "send_message('你好','測試寄信')"
      ],
      "execution_count": 2,
      "outputs": []
    },
    {
      "cell_type": "code",
      "metadata": {
        "id": "DbGtVadOHFyK"
      },
      "source": [
        ""
      ],
      "execution_count": null,
      "outputs": []
    }
  ]
}