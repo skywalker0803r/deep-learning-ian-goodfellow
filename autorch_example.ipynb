{
  "nbformat": 4,
  "nbformat_minor": 0,
  "metadata": {
    "colab": {
      "name": "autorch_example.ipynb",
      "provenance": [],
      "mount_file_id": "1dEeKYpraRlhHd-gPtK5CuoJcH2AZuQVw",
      "authorship_tag": "ABX9TyOT54RnX1SqBcdy88ilAt4j",
      "include_colab_link": true
    },
    "kernelspec": {
      "name": "python3",
      "display_name": "Python 3"
    }
  },
  "cells": [
    {
      "cell_type": "markdown",
      "metadata": {
        "id": "view-in-github",
        "colab_type": "text"
      },
      "source": [
        "<a href=\"https://colab.research.google.com/github/skywalker0803r/deep-learning-ian-goodfellow/blob/master/autorch_example.ipynb\" target=\"_parent\"><img src=\"https://colab.research.google.com/assets/colab-badge.svg\" alt=\"Open In Colab\"/></a>"
      ]
    },
    {
      "cell_type": "code",
      "metadata": {
        "id": "FbUVJT7kRXSx"
      },
      "source": [
        "import pandas as pd\n",
        "import joblib\n",
        "col_names = joblib.load('/content/drive/MyDrive/台塑輕油案子/data/phase2/dataset/col_names.pkl')\n",
        "df = pd.read_csv('/content/drive/MyDrive/台塑輕油案子/data/phase2/dataset/train.csv',index_col=0)"
      ],
      "execution_count": 84,
      "outputs": []
    },
    {
      "cell_type": "code",
      "metadata": {
        "colab": {
          "base_uri": "https://localhost:8080/"
        },
        "id": "_0aPWljUav_M",
        "outputId": "f38fc1bd-1ca3-444f-b191-54a5eeea8f6f"
      },
      "source": [
        "!git clone https://github.com/skywalker0803r/autorch.git"
      ],
      "execution_count": 85,
      "outputs": [
        {
          "output_type": "stream",
          "text": [
            "Cloning into 'autorch'...\n",
            "remote: Enumerating objects: 45, done.\u001b[K\n",
            "remote: Counting objects: 100% (45/45), done.\u001b[K\n",
            "remote: Compressing objects: 100% (36/36), done.\u001b[K\n",
            "remote: Total 45 (delta 16), reused 22 (delta 6), pack-reused 0\n",
            "Unpacking objects: 100% (45/45), done.\n"
          ],
          "name": "stdout"
        }
      ]
    },
    {
      "cell_type": "code",
      "metadata": {
        "id": "ZyvE-ti8cs0M"
      },
      "source": [
        "from autorch.utils import part"
      ],
      "execution_count": 86,
      "outputs": []
    },
    {
      "cell_type": "code",
      "metadata": {
        "colab": {
          "base_uri": "https://localhost:8080/"
        },
        "id": "fvdalJhDc02o",
        "outputId": "30edf06e-6118-466c-baa5-1f6c05aa65a1"
      },
      "source": [
        "x_col = col_names['case'] + col_names['xna']\n",
        "y_col = col_names['sle'] + col_names['shc'] + col_names['she']\n",
        "normalize_idx = [[y_col.index(col_names['sle'][i]),y_col.index(col_names['shc'][i]),y_col.index(col_names['she'][i])]for i in range(len(col_names['xna']))]\n",
        "normalize_idx"
      ],
      "execution_count": 88,
      "outputs": [
        {
          "output_type": "execute_result",
          "data": {
            "text/plain": [
              "[[0, 54, 108],\n",
              " [1, 55, 109],\n",
              " [2, 56, 110],\n",
              " [3, 57, 111],\n",
              " [4, 58, 112],\n",
              " [5, 59, 113],\n",
              " [6, 60, 114],\n",
              " [7, 61, 115],\n",
              " [8, 62, 116],\n",
              " [9, 63, 117],\n",
              " [10, 64, 118],\n",
              " [11, 65, 119],\n",
              " [12, 66, 120],\n",
              " [13, 67, 121],\n",
              " [14, 68, 122],\n",
              " [15, 69, 123],\n",
              " [16, 70, 124],\n",
              " [17, 71, 125],\n",
              " [18, 72, 126],\n",
              " [19, 73, 127],\n",
              " [20, 74, 128],\n",
              " [21, 75, 129],\n",
              " [22, 76, 130],\n",
              " [23, 77, 131],\n",
              " [24, 78, 132],\n",
              " [25, 79, 133],\n",
              " [26, 80, 134],\n",
              " [27, 81, 135],\n",
              " [28, 82, 136],\n",
              " [29, 83, 137],\n",
              " [30, 84, 138],\n",
              " [31, 85, 139],\n",
              " [32, 86, 140],\n",
              " [33, 87, 141],\n",
              " [34, 88, 142],\n",
              " [35, 89, 143],\n",
              " [36, 90, 144],\n",
              " [37, 91, 145],\n",
              " [38, 92, 146],\n",
              " [39, 93, 147],\n",
              " [40, 94, 148],\n",
              " [41, 95, 149],\n",
              " [42, 96, 150],\n",
              " [43, 97, 151],\n",
              " [44, 98, 152],\n",
              " [45, 99, 153],\n",
              " [46, 100, 154],\n",
              " [47, 101, 155],\n",
              " [48, 102, 156],\n",
              " [49, 103, 157],\n",
              " [50, 104, 158],\n",
              " [51, 105, 159],\n",
              " [52, 106, 160],\n",
              " [53, 107, 161]]"
            ]
          },
          "metadata": {
            "tags": []
          },
          "execution_count": 88
        }
      ]
    },
    {
      "cell_type": "code",
      "metadata": {
        "id": "TJzKjyZOdxwV"
      },
      "source": [
        "import numpy as np\n",
        "for i in range(54):\n",
        "  assert np.allclose(df[y_col].iloc[:,normalize_idx[i]].sum(axis=1).mean(),1.0)"
      ],
      "execution_count": 99,
      "outputs": []
    },
    {
      "cell_type": "code",
      "metadata": {
        "colab": {
          "base_uri": "https://localhost:8080/",
          "height": 531
        },
        "id": "Ey6wW4-sd718",
        "outputId": "e6482549-5414-4ed1-9555-87bb62149312"
      },
      "source": [
        "part1 = part.PartBulider(df,x_col,y_col,normalize_idx_list=normalize_idx)\n",
        "part1.train()"
      ],
      "execution_count": 100,
      "outputs": [
        {
          "output_type": "stream",
          "text": [
            "  0%|          | 1/300 [00:00<03:47,  1.32it/s]"
          ],
          "name": "stderr"
        },
        {
          "output_type": "stream",
          "text": [
            "epoch:0 train_loss:0.0130 valid_loss:0.0036\n"
          ],
          "name": "stdout"
        },
        {
          "output_type": "stream",
          "text": [
            " 17%|█▋        | 51/300 [00:53<04:26,  1.07s/it]"
          ],
          "name": "stderr"
        },
        {
          "output_type": "stream",
          "text": [
            "epoch:50 train_loss:0.0003 valid_loss:0.0003\n"
          ],
          "name": "stdout"
        },
        {
          "output_type": "stream",
          "text": [
            " 34%|███▎      | 101/300 [01:46<03:32,  1.07s/it]"
          ],
          "name": "stderr"
        },
        {
          "output_type": "stream",
          "text": [
            "epoch:100 train_loss:0.0002 valid_loss:0.0003\n"
          ],
          "name": "stdout"
        },
        {
          "output_type": "stream",
          "text": [
            " 50%|█████     | 151/300 [02:42<02:50,  1.14s/it]"
          ],
          "name": "stderr"
        },
        {
          "output_type": "stream",
          "text": [
            "epoch:150 train_loss:0.0002 valid_loss:0.0002\n"
          ],
          "name": "stdout"
        },
        {
          "output_type": "stream",
          "text": [
            " 67%|██████▋   | 201/300 [03:39<01:56,  1.18s/it]"
          ],
          "name": "stderr"
        },
        {
          "output_type": "stream",
          "text": [
            "epoch:200 train_loss:0.0001 valid_loss:0.0002\n"
          ],
          "name": "stdout"
        },
        {
          "output_type": "stream",
          "text": [
            " 84%|████████▎ | 251/300 [04:39<01:02,  1.27s/it]"
          ],
          "name": "stderr"
        },
        {
          "output_type": "stream",
          "text": [
            "epoch:250 train_loss:0.0001 valid_loss:0.0001\n"
          ],
          "name": "stdout"
        },
        {
          "output_type": "stream",
          "text": [
            "100%|██████████| 300/300 [05:46<00:00,  1.15s/it]\n"
          ],
          "name": "stderr"
        },
        {
          "output_type": "display_data",
          "data": {
            "image/png": "[encoded data removed]",
            "text/plain": [
              "<Figure size 432x288 with 1 Axes>"
            ]
          },
          "metadata": {
            "tags": [],
            "needs_background": "light"
          }
        },
        {
          "output_type": "execute_result",
          "data": {
            "text/plain": [
              "Sequential(\n",
              "  (0): Linear(in_features=58, out_features=256, bias=True)\n",
              "  (1): ReLU()\n",
              "  (2): Linear(in_features=256, out_features=256, bias=True)\n",
              "  (3): ReLU()\n",
              "  (4): Linear(in_features=256, out_features=162, bias=True)\n",
              "  (5): Sigmoid()\n",
              ")"
            ]
          },
          "metadata": {
            "tags": []
          },
          "execution_count": 100
        }
      ]
    },
    {
      "cell_type": "code",
      "metadata": {
        "colab": {
          "base_uri": "https://localhost:8080/",
          "height": 406
        },
        "id": "unvfkL9zevTt",
        "outputId": "ef910bbd-7f6a-4c68-f2c6-ebd2744bef0c"
      },
      "source": [
        "part1.test()"
      ],
      "execution_count": 101,
      "outputs": [
        {
          "output_type": "execute_result",
          "data": {
            "text/html": [
              "<div>\n",
              "<style scoped>\n",
              "    .dataframe tbody tr th:only-of-type {\n",
              "        vertical-align: middle;\n",
              "    }\n",
              "\n",
              "    .dataframe tbody tr th {\n",
              "        vertical-align: top;\n",
              "    }\n",
              "\n",
              "    .dataframe thead th {\n",
              "        text-align: right;\n",
              "    }\n",
              "</style>\n",
              "<table border=\"1\" class=\"dataframe\">\n",
              "  <thead>\n",
              "    <tr style=\"text-align: right;\">\n",
              "      <th></th>\n",
              "      <th>R2</th>\n",
              "      <th>MSE</th>\n",
              "      <th>MAPE</th>\n",
              "    </tr>\n",
              "  </thead>\n",
              "  <tbody>\n",
              "    <tr>\n",
              "      <th>Individual Component to Light End Split Factor_Oxygen_Ratio</th>\n",
              "      <td>0</td>\n",
              "      <td>1.45811e-08</td>\n",
              "      <td>0.00702352</td>\n",
              "    </tr>\n",
              "    <tr>\n",
              "      <th>Individual Component to Light End Split Factor_Methane_Ratio</th>\n",
              "      <td>0</td>\n",
              "      <td>1.37765e-08</td>\n",
              "      <td>0.00648403</td>\n",
              "    </tr>\n",
              "    <tr>\n",
              "      <th>Individual Component to Light End Split Factor_Ethane_Ratio</th>\n",
              "      <td>0</td>\n",
              "      <td>1.42369e-08</td>\n",
              "      <td>0.00682351</td>\n",
              "    </tr>\n",
              "    <tr>\n",
              "      <th>Individual Component to Light End Split Factor_Propane_Ratio</th>\n",
              "      <td>0.994332</td>\n",
              "      <td>1.20274e-07</td>\n",
              "      <td>0.0195758</td>\n",
              "    </tr>\n",
              "    <tr>\n",
              "      <th>Individual Component to Light End Split Factor_n-Butane_Ratio</th>\n",
              "      <td>0.994019</td>\n",
              "      <td>6.16698e-07</td>\n",
              "      <td>0.0441907</td>\n",
              "    </tr>\n",
              "    <tr>\n",
              "      <th>...</th>\n",
              "      <td>...</td>\n",
              "      <td>...</td>\n",
              "      <td>...</td>\n",
              "    </tr>\n",
              "    <tr>\n",
              "      <th>Individual Component to Heavy End Split Factor_n-Pentylbenzene_Ratio</th>\n",
              "      <td>0.990764</td>\n",
              "      <td>3.55964e-05</td>\n",
              "      <td>0.576765</td>\n",
              "    </tr>\n",
              "    <tr>\n",
              "      <th>Individual Component to Heavy End Split Factor_n-Dodecane_Ratio</th>\n",
              "      <td>0.996221</td>\n",
              "      <td>3.37613e-05</td>\n",
              "      <td>inf</td>\n",
              "    </tr>\n",
              "    <tr>\n",
              "      <th>Individual Component to Heavy End Split Factor_n-Hexylbenzene_Ratio</th>\n",
              "      <td>0.993072</td>\n",
              "      <td>3.46773e-05</td>\n",
              "      <td>inf</td>\n",
              "    </tr>\n",
              "    <tr>\n",
              "      <th>Individual Component to Heavy End Split Factor_n-Tridecane_Ratio</th>\n",
              "      <td>0</td>\n",
              "      <td>1.45409e-08</td>\n",
              "      <td>0.0066588</td>\n",
              "    </tr>\n",
              "    <tr>\n",
              "      <th>AVG</th>\n",
              "      <td>0.879398</td>\n",
              "      <td>3.01008e-05</td>\n",
              "      <td>inf</td>\n",
              "    </tr>\n",
              "  </tbody>\n",
              "</table>\n",
              "<p>163 rows × 3 columns</p>\n",
              "</div>"
            ],
            "text/plain": [
              "                                                          R2  ...        MAPE\n",
              "Individual Component to Light End Split Factor_...         0  ...  0.00702352\n",
              "Individual Component to Light End Split Factor_...         0  ...  0.00648403\n",
              "Individual Component to Light End Split Factor_...         0  ...  0.00682351\n",
              "Individual Component to Light End Split Factor_...  0.994332  ...   0.0195758\n",
              "Individual Component to Light End Split Factor_...  0.994019  ...   0.0441907\n",
              "...                                                      ...  ...         ...\n",
              "Individual Component to Heavy End Split Factor_...  0.990764  ...    0.576765\n",
              "Individual Component to Heavy End Split Factor_...  0.996221  ...         inf\n",
              "Individual Component to Heavy End Split Factor_...  0.993072  ...         inf\n",
              "Individual Component to Heavy End Split Factor_...         0  ...   0.0066588\n",
              "AVG                                                 0.879398  ...         inf\n",
              "\n",
              "[163 rows x 3 columns]"
            ]
          },
          "metadata": {
            "tags": []
          },
          "execution_count": 101
        }
      ]
    },
    {
      "cell_type": "code",
      "metadata": {
        "id": "g_TG60JDgP3V"
      },
      "source": [
        ""
      ],
      "execution_count": null,
      "outputs": []
    }
  ]
}