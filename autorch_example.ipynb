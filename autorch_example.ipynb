{
  "nbformat": 4,
  "nbformat_minor": 0,
  "metadata": {
    "colab": {
      "name": "autorch_example.ipynb",
      "provenance": [],
      "collapsed_sections": [],
      "mount_file_id": "https://github.com/skywalker0803r/autorch/blob/main/autorch_example.ipynb",
      "authorship_tag": "ABX9TyOc0jG4nk24FMqpZ8c6zOaS",
      "include_colab_link": true
    },
    "kernelspec": {
      "name": "python3",
      "display_name": "Python 3"
    }
  },
  "cells": [
    {
      "cell_type": "markdown",
      "metadata": {
        "id": "view-in-github",
        "colab_type": "text"
      },
      "source": [
        "<a href=\"https://colab.research.google.com/github/skywalker0803r/deep-learning-ian-goodfellow/blob/master/autorch_example.ipynb\" target=\"_parent\"><img src=\"https://colab.research.google.com/assets/colab-badge.svg\" alt=\"Open In Colab\"/></a>"
      ]
    },
    {
      "cell_type": "code",
      "metadata": {
        "colab": {
          "base_uri": "https://localhost:8080/"
        },
        "id": "_0aPWljUav_M",
        "outputId": "8341078f-899f-43df-961b-7d4bfdffd3a4"
      },
      "source": [
        "!pip install autorch==0.1.3"
      ],
      "execution_count": 1,
      "outputs": [
        {
          "output_type": "stream",
          "text": [
            "Requirement already satisfied: autorch==0.1.3 in /usr/local/lib/python3.6/dist-packages (0.1.3)\n",
            "Requirement already satisfied: matplotlib in /usr/local/lib/python3.6/dist-packages (from autorch==0.1.3) (3.2.2)\n",
            "Requirement already satisfied: tqdm in /usr/local/lib/python3.6/dist-packages (from autorch==0.1.3) (4.41.1)\n",
            "Requirement already satisfied: tensorboard in /usr/local/lib/python3.6/dist-packages (from autorch==0.1.3) (2.3.0)\n",
            "Requirement already satisfied: scikit-learn in /usr/local/lib/python3.6/dist-packages (from autorch==0.1.3) (0.22.2.post1)\n",
            "Requirement already satisfied: numpy in /usr/local/lib/python3.6/dist-packages (from autorch==0.1.3) (1.18.5)\n",
            "Requirement already satisfied: torch in /usr/local/lib/python3.6/dist-packages (from autorch==0.1.3) (1.7.0+cu101)\n",
            "Requirement already satisfied: joblib in /usr/local/lib/python3.6/dist-packages (from autorch==0.1.3) (0.17.0)\n",
            "Requirement already satisfied: pandas in /usr/local/lib/python3.6/dist-packages (from autorch==0.1.3) (1.1.4)\n",
            "Requirement already satisfied: python-dateutil>=2.1 in /usr/local/lib/python3.6/dist-packages (from matplotlib->autorch==0.1.3) (2.8.1)\n",
            "Requirement already satisfied: kiwisolver>=1.0.1 in /usr/local/lib/python3.6/dist-packages (from matplotlib->autorch==0.1.3) (1.3.1)\n",
            "Requirement already satisfied: cycler>=0.10 in /usr/local/lib/python3.6/dist-packages (from matplotlib->autorch==0.1.3) (0.10.0)\n",
            "Requirement already satisfied: pyparsing!=2.0.4,!=2.1.2,!=2.1.6,>=2.0.1 in /usr/local/lib/python3.6/dist-packages (from matplotlib->autorch==0.1.3) (2.4.7)\n",
            "Requirement already satisfied: tensorboard-plugin-wit>=1.6.0 in /usr/local/lib/python3.6/dist-packages (from tensorboard->autorch==0.1.3) (1.7.0)\n",
            "Requirement already satisfied: protobuf>=3.6.0 in /usr/local/lib/python3.6/dist-packages (from tensorboard->autorch==0.1.3) (3.12.4)\n",
            "Requirement already satisfied: google-auth<2,>=1.6.3 in /usr/local/lib/python3.6/dist-packages (from tensorboard->autorch==0.1.3) (1.17.2)\n",
            "Requirement already satisfied: wheel>=0.26; python_version >= \"3\" in /usr/local/lib/python3.6/dist-packages (from tensorboard->autorch==0.1.3) (0.35.1)\n",
            "Requirement already satisfied: grpcio>=1.24.3 in /usr/local/lib/python3.6/dist-packages (from tensorboard->autorch==0.1.3) (1.33.2)\n",
            "Requirement already satisfied: requests<3,>=2.21.0 in /usr/local/lib/python3.6/dist-packages (from tensorboard->autorch==0.1.3) (2.23.0)\n",
            "Requirement already satisfied: six>=1.10.0 in /usr/local/lib/python3.6/dist-packages (from tensorboard->autorch==0.1.3) (1.15.0)\n",
            "Requirement already satisfied: markdown>=2.6.8 in /usr/local/lib/python3.6/dist-packages (from tensorboard->autorch==0.1.3) (3.3.3)\n",
            "Requirement already satisfied: werkzeug>=0.11.15 in /usr/local/lib/python3.6/dist-packages (from tensorboard->autorch==0.1.3) (1.0.1)\n",
            "Requirement already satisfied: google-auth-oauthlib<0.5,>=0.4.1 in /usr/local/lib/python3.6/dist-packages (from tensorboard->autorch==0.1.3) (0.4.2)\n",
            "Requirement already satisfied: absl-py>=0.4 in /usr/local/lib/python3.6/dist-packages (from tensorboard->autorch==0.1.3) (0.10.0)\n",
            "Requirement already satisfied: setuptools>=41.0.0 in /usr/local/lib/python3.6/dist-packages (from tensorboard->autorch==0.1.3) (50.3.2)\n",
            "Requirement already satisfied: scipy>=0.17.0 in /usr/local/lib/python3.6/dist-packages (from scikit-learn->autorch==0.1.3) (1.4.1)\n",
            "Requirement already satisfied: future in /usr/local/lib/python3.6/dist-packages (from torch->autorch==0.1.3) (0.16.0)\n",
            "Requirement already satisfied: dataclasses in /usr/local/lib/python3.6/dist-packages (from torch->autorch==0.1.3) (0.8)\n",
            "Requirement already satisfied: typing-extensions in /usr/local/lib/python3.6/dist-packages (from torch->autorch==0.1.3) (3.7.4.3)\n",
            "Requirement already satisfied: pytz>=2017.2 in /usr/local/lib/python3.6/dist-packages (from pandas->autorch==0.1.3) (2018.9)\n",
            "Requirement already satisfied: cachetools<5.0,>=2.0.0 in /usr/local/lib/python3.6/dist-packages (from google-auth<2,>=1.6.3->tensorboard->autorch==0.1.3) (4.1.1)\n",
            "Requirement already satisfied: pyasn1-modules>=0.2.1 in /usr/local/lib/python3.6/dist-packages (from google-auth<2,>=1.6.3->tensorboard->autorch==0.1.3) (0.2.8)\n",
            "Requirement already satisfied: rsa<5,>=3.1.4; python_version >= \"3\" in /usr/local/lib/python3.6/dist-packages (from google-auth<2,>=1.6.3->tensorboard->autorch==0.1.3) (4.6)\n",
            "Requirement already satisfied: idna<3,>=2.5 in /usr/local/lib/python3.6/dist-packages (from requests<3,>=2.21.0->tensorboard->autorch==0.1.3) (2.10)\n",
            "Requirement already satisfied: chardet<4,>=3.0.2 in /usr/local/lib/python3.6/dist-packages (from requests<3,>=2.21.0->tensorboard->autorch==0.1.3) (3.0.4)\n",
            "Requirement already satisfied: urllib3!=1.25.0,!=1.25.1,<1.26,>=1.21.1 in /usr/local/lib/python3.6/dist-packages (from requests<3,>=2.21.0->tensorboard->autorch==0.1.3) (1.24.3)\n",
            "Requirement already satisfied: certifi>=2017.4.17 in /usr/local/lib/python3.6/dist-packages (from requests<3,>=2.21.0->tensorboard->autorch==0.1.3) (2020.11.8)\n",
            "Requirement already satisfied: importlib-metadata; python_version < \"3.8\" in /usr/local/lib/python3.6/dist-packages (from markdown>=2.6.8->tensorboard->autorch==0.1.3) (2.0.0)\n",
            "Requirement already satisfied: requests-oauthlib>=0.7.0 in /usr/local/lib/python3.6/dist-packages (from google-auth-oauthlib<0.5,>=0.4.1->tensorboard->autorch==0.1.3) (1.3.0)\n",
            "Requirement already satisfied: pyasn1<0.5.0,>=0.4.6 in /usr/local/lib/python3.6/dist-packages (from pyasn1-modules>=0.2.1->google-auth<2,>=1.6.3->tensorboard->autorch==0.1.3) (0.4.8)\n",
            "Requirement already satisfied: zipp>=0.5 in /usr/local/lib/python3.6/dist-packages (from importlib-metadata; python_version < \"3.8\"->markdown>=2.6.8->tensorboard->autorch==0.1.3) (3.4.0)\n",
            "Requirement already satisfied: oauthlib>=3.0.0 in /usr/local/lib/python3.6/dist-packages (from requests-oauthlib>=0.7.0->google-auth-oauthlib<0.5,>=0.4.1->tensorboard->autorch==0.1.3) (3.1.0)\n"
          ],
          "name": "stdout"
        }
      ]
    },
    {
      "cell_type": "code",
      "metadata": {
        "id": "EwW_ocBZiySG"
      },
      "source": [
        "from autorch.function import sp2wt\n",
        "from autorch.utils import part"
      ],
      "execution_count": 2,
      "outputs": []
    },
    {
      "cell_type": "code",
      "metadata": {
        "id": "FbUVJT7kRXSx"
      },
      "source": [
        "import pandas as pd\n",
        "import numpy as np\n",
        "import joblib\n",
        "c = joblib.load('/content/drive/MyDrive/台塑輕油案子/data/phase2/dataset/col_names.pkl')\n",
        "df = pd.read_csv('/content/drive/MyDrive/台塑輕油案子/data/phase2/dataset/train.csv',index_col=0)"
      ],
      "execution_count": 3,
      "outputs": []
    },
    {
      "cell_type": "code",
      "metadata": {
        "colab": {
          "base_uri": "https://localhost:8080/"
        },
        "id": "6rpmGclzdxKX",
        "outputId": "62a25ad8-1cde-4724-e6c2-e0ab4cbbc5e6"
      },
      "source": [
        "x = df[c[\"xna\"]].values\n",
        "s = df[c[\"shc\"]].values\n",
        "wt = df[c[\"xhc\"]].values\n",
        "wt_p = sp2wt(x,s)\n",
        "np.allclose(wt,wt_p)"
      ],
      "execution_count": 4,
      "outputs": [
        {
          "output_type": "execute_result",
          "data": {
            "text/plain": [
              "True"
            ]
          },
          "metadata": {
            "tags": []
          },
          "execution_count": 4
        }
      ]
    },
    {
      "cell_type": "code",
      "metadata": {
        "colab": {
          "base_uri": "https://localhost:8080/"
        },
        "id": "fvdalJhDc02o",
        "outputId": "49fc5ffb-7901-4527-abfb-7da4785f2544"
      },
      "source": [
        "x_col = c['case'] + c['xna']\n",
        "y_col = c['sle'] + c['shc'] + c['she']\n",
        "normalize_idx = [[y_col.index(c['sle'][i]),y_col.index(c['shc'][i]),y_col.index(c['she'][i])]for i in range(len(c['xna']))]\n",
        "normalize_idx"
      ],
      "execution_count": 6,
      "outputs": [
        {
          "output_type": "execute_result",
          "data": {
            "text/plain": [
              "[[0, 54, 108],\n",
              " [1, 55, 109],\n",
              " [2, 56, 110],\n",
              " [3, 57, 111],\n",
              " [4, 58, 112],\n",
              " [5, 59, 113],\n",
              " [6, 60, 114],\n",
              " [7, 61, 115],\n",
              " [8, 62, 116],\n",
              " [9, 63, 117],\n",
              " [10, 64, 118],\n",
              " [11, 65, 119],\n",
              " [12, 66, 120],\n",
              " [13, 67, 121],\n",
              " [14, 68, 122],\n",
              " [15, 69, 123],\n",
              " [16, 70, 124],\n",
              " [17, 71, 125],\n",
              " [18, 72, 126],\n",
              " [19, 73, 127],\n",
              " [20, 74, 128],\n",
              " [21, 75, 129],\n",
              " [22, 76, 130],\n",
              " [23, 77, 131],\n",
              " [24, 78, 132],\n",
              " [25, 79, 133],\n",
              " [26, 80, 134],\n",
              " [27, 81, 135],\n",
              " [28, 82, 136],\n",
              " [29, 83, 137],\n",
              " [30, 84, 138],\n",
              " [31, 85, 139],\n",
              " [32, 86, 140],\n",
              " [33, 87, 141],\n",
              " [34, 88, 142],\n",
              " [35, 89, 143],\n",
              " [36, 90, 144],\n",
              " [37, 91, 145],\n",
              " [38, 92, 146],\n",
              " [39, 93, 147],\n",
              " [40, 94, 148],\n",
              " [41, 95, 149],\n",
              " [42, 96, 150],\n",
              " [43, 97, 151],\n",
              " [44, 98, 152],\n",
              " [45, 99, 153],\n",
              " [46, 100, 154],\n",
              " [47, 101, 155],\n",
              " [48, 102, 156],\n",
              " [49, 103, 157],\n",
              " [50, 104, 158],\n",
              " [51, 105, 159],\n",
              " [52, 106, 160],\n",
              " [53, 107, 161]]"
            ]
          },
          "metadata": {
            "tags": []
          },
          "execution_count": 6
        }
      ]
    },
    {
      "cell_type": "code",
      "metadata": {
        "id": "TJzKjyZOdxwV"
      },
      "source": [
        "import numpy as np\n",
        "for i in range(54):\n",
        "  assert np.allclose(df[y_col].iloc[:,normalize_idx[i]].sum(axis=1).mean(),1.0)"
      ],
      "execution_count": 7,
      "outputs": []
    },
    {
      "cell_type": "code",
      "metadata": {
        "colab": {
          "base_uri": "https://localhost:8080/",
          "height": 531
        },
        "id": "Ey6wW4-sd718",
        "outputId": "8cbd6392-9521-40ec-d4a0-9605e59b1817"
      },
      "source": [
        "part1 = part.PartBulider(df,x_col,y_col,normalize_idx_list=normalize_idx)\n",
        "part1.train()"
      ],
      "execution_count": 8,
      "outputs": [
        {
          "output_type": "stream",
          "text": [
            "  0%|          | 1/300 [00:01<05:06,  1.03s/it]"
          ],
          "name": "stderr"
        },
        {
          "output_type": "stream",
          "text": [
            "epoch:0 train_loss:0.0132 valid_loss:0.0032\n"
          ],
          "name": "stdout"
        },
        {
          "output_type": "stream",
          "text": [
            " 17%|█▋        | 51/300 [00:51<04:11,  1.01s/it]"
          ],
          "name": "stderr"
        },
        {
          "output_type": "stream",
          "text": [
            "epoch:50 train_loss:0.0003 valid_loss:0.0003\n"
          ],
          "name": "stdout"
        },
        {
          "output_type": "stream",
          "text": [
            " 34%|███▎      | 101/300 [01:42<03:25,  1.03s/it]"
          ],
          "name": "stderr"
        },
        {
          "output_type": "stream",
          "text": [
            "epoch:100 train_loss:0.0002 valid_loss:0.0002\n"
          ],
          "name": "stdout"
        },
        {
          "output_type": "stream",
          "text": [
            " 50%|█████     | 151/300 [02:34<02:39,  1.07s/it]"
          ],
          "name": "stderr"
        },
        {
          "output_type": "stream",
          "text": [
            "epoch:150 train_loss:0.0001 valid_loss:0.0001\n"
          ],
          "name": "stdout"
        },
        {
          "output_type": "stream",
          "text": [
            " 67%|██████▋   | 201/300 [03:29<01:48,  1.10s/it]"
          ],
          "name": "stderr"
        },
        {
          "output_type": "stream",
          "text": [
            "epoch:200 train_loss:0.0001 valid_loss:0.0001\n"
          ],
          "name": "stdout"
        },
        {
          "output_type": "stream",
          "text": [
            " 84%|████████▎ | 251/300 [04:26<00:59,  1.22s/it]"
          ],
          "name": "stderr"
        },
        {
          "output_type": "stream",
          "text": [
            "epoch:250 train_loss:0.0001 valid_loss:0.0001\n"
          ],
          "name": "stdout"
        },
        {
          "output_type": "stream",
          "text": [
            "100%|██████████| 300/300 [05:31<00:00,  1.10s/it]\n"
          ],
          "name": "stderr"
        },
        {
          "output_type": "display_data",
          "data": {
            "image/png": "[encoded data removed]",
            "text/plain": [
              "<Figure size 432x288 with 1 Axes>"
            ]
          },
          "metadata": {
            "tags": [],
            "needs_background": "light"
          }
        },
        {
          "output_type": "execute_result",
          "data": {
            "text/plain": [
              "Sequential(\n",
              "  (0): Linear(in_features=58, out_features=256, bias=True)\n",
              "  (1): ReLU()\n",
              "  (2): Linear(in_features=256, out_features=256, bias=True)\n",
              "  (3): ReLU()\n",
              "  (4): Linear(in_features=256, out_features=162, bias=True)\n",
              "  (5): Sigmoid()\n",
              ")"
            ]
          },
          "metadata": {
            "tags": []
          },
          "execution_count": 8
        }
      ]
    },
    {
      "cell_type": "code",
      "metadata": {
        "colab": {
          "base_uri": "https://localhost:8080/",
          "height": 406
        },
        "id": "unvfkL9zevTt",
        "outputId": "680b6412-7425-4b69-8ad1-c6272acddafe"
      },
      "source": [
        "part1.test()"
      ],
      "execution_count": 9,
      "outputs": [
        {
          "output_type": "execute_result",
          "data": {
            "text/html": [
              "<div>\n",
              "<style scoped>\n",
              "    .dataframe tbody tr th:only-of-type {\n",
              "        vertical-align: middle;\n",
              "    }\n",
              "\n",
              "    .dataframe tbody tr th {\n",
              "        vertical-align: top;\n",
              "    }\n",
              "\n",
              "    .dataframe thead th {\n",
              "        text-align: right;\n",
              "    }\n",
              "</style>\n",
              "<table border=\"1\" class=\"dataframe\">\n",
              "  <thead>\n",
              "    <tr style=\"text-align: right;\">\n",
              "      <th></th>\n",
              "      <th>R2</th>\n",
              "      <th>MSE</th>\n",
              "      <th>MAPE</th>\n",
              "    </tr>\n",
              "  </thead>\n",
              "  <tbody>\n",
              "    <tr>\n",
              "      <th>Individual Component to Light End Split Factor_Oxygen_Ratio</th>\n",
              "      <td>0</td>\n",
              "      <td>2.74773e-08</td>\n",
              "      <td>0.0122446</td>\n",
              "    </tr>\n",
              "    <tr>\n",
              "      <th>Individual Component to Light End Split Factor_Methane_Ratio</th>\n",
              "      <td>0</td>\n",
              "      <td>2.79435e-08</td>\n",
              "      <td>0.0124721</td>\n",
              "    </tr>\n",
              "    <tr>\n",
              "      <th>Individual Component to Light End Split Factor_Ethane_Ratio</th>\n",
              "      <td>0</td>\n",
              "      <td>2.71275e-08</td>\n",
              "      <td>0.0122977</td>\n",
              "    </tr>\n",
              "    <tr>\n",
              "      <th>Individual Component to Light End Split Factor_Propane_Ratio</th>\n",
              "      <td>0.996215</td>\n",
              "      <td>8.77524e-08</td>\n",
              "      <td>0.018949</td>\n",
              "    </tr>\n",
              "    <tr>\n",
              "      <th>Individual Component to Light End Split Factor_n-Butane_Ratio</th>\n",
              "      <td>0.995523</td>\n",
              "      <td>5.00305e-07</td>\n",
              "      <td>0.0466993</td>\n",
              "    </tr>\n",
              "    <tr>\n",
              "      <th>...</th>\n",
              "      <td>...</td>\n",
              "      <td>...</td>\n",
              "      <td>...</td>\n",
              "    </tr>\n",
              "    <tr>\n",
              "      <th>Individual Component to Heavy End Split Factor_n-Pentylbenzene_Ratio</th>\n",
              "      <td>0.994234</td>\n",
              "      <td>2.1356e-05</td>\n",
              "      <td>0.625063</td>\n",
              "    </tr>\n",
              "    <tr>\n",
              "      <th>Individual Component to Heavy End Split Factor_n-Dodecane_Ratio</th>\n",
              "      <td>0.997913</td>\n",
              "      <td>2.08612e-05</td>\n",
              "      <td>inf</td>\n",
              "    </tr>\n",
              "    <tr>\n",
              "      <th>Individual Component to Heavy End Split Factor_n-Hexylbenzene_Ratio</th>\n",
              "      <td>0.996265</td>\n",
              "      <td>2.14223e-05</td>\n",
              "      <td>inf</td>\n",
              "    </tr>\n",
              "    <tr>\n",
              "      <th>Individual Component to Heavy End Split Factor_n-Tridecane_Ratio</th>\n",
              "      <td>0</td>\n",
              "      <td>2.77437e-08</td>\n",
              "      <td>0.0123711</td>\n",
              "    </tr>\n",
              "    <tr>\n",
              "      <th>AVG</th>\n",
              "      <td>0.877955</td>\n",
              "      <td>2.20063e-05</td>\n",
              "      <td>inf</td>\n",
              "    </tr>\n",
              "  </tbody>\n",
              "</table>\n",
              "<p>163 rows × 3 columns</p>\n",
              "</div>"
            ],
            "text/plain": [
              "                                                          R2  ...       MAPE\n",
              "Individual Component to Light End Split Factor_...         0  ...  0.0122446\n",
              "Individual Component to Light End Split Factor_...         0  ...  0.0124721\n",
              "Individual Component to Light End Split Factor_...         0  ...  0.0122977\n",
              "Individual Component to Light End Split Factor_...  0.996215  ...   0.018949\n",
              "Individual Component to Light End Split Factor_...  0.995523  ...  0.0466993\n",
              "...                                                      ...  ...        ...\n",
              "Individual Component to Heavy End Split Factor_...  0.994234  ...   0.625063\n",
              "Individual Component to Heavy End Split Factor_...  0.997913  ...        inf\n",
              "Individual Component to Heavy End Split Factor_...  0.996265  ...        inf\n",
              "Individual Component to Heavy End Split Factor_...         0  ...  0.0123711\n",
              "AVG                                                 0.877955  ...        inf\n",
              "\n",
              "[163 rows x 3 columns]"
            ]
          },
          "metadata": {
            "tags": []
          },
          "execution_count": 9
        }
      ]
    },
    {
      "cell_type": "code",
      "metadata": {
        "id": "g_TG60JDgP3V"
      },
      "source": [
        " \n",
        "x_test = part1.data[\"X_test\"]\n",
        "s_real = part1.data[\"Y_test\"]\n",
        "s_pred = part1.predict(x_test)\n",
        "idx = x_test.index"
      ],
      "execution_count": 10,
      "outputs": []
    },
    {
      "cell_type": "code",
      "metadata": {
        "id": "4nO59NuMlP5y"
      },
      "source": [
        "wt_real = df.loc[idx,c[\"xhc\"]]"
      ],
      "execution_count": 11,
      "outputs": []
    },
    {
      "cell_type": "code",
      "metadata": {
        "id": "Rhe9FYOelqiD"
      },
      "source": [
        "xna = x_test[c[\"xna\"]].values\n",
        "shc = s_pred[c[\"shc\"]].values\n",
        "wt_pred = sp2wt(xna,shc)\n",
        "wt_pred = pd.DataFrame(wt_pred)\n",
        "wt_pred.columns = wt_real.columns"
      ],
      "execution_count": 12,
      "outputs": []
    },
    {
      "cell_type": "code",
      "metadata": {
        "colab": {
          "base_uri": "https://localhost:8080/",
          "height": 1000
        },
        "id": "qK6IMMYSnT3Z",
        "outputId": "7e723d59-3574-4df1-c4eb-7c73b8a02067"
      },
      "source": [
        "part1.show_metrics(wt_pred,wt_real)"
      ],
      "execution_count": 13,
      "outputs": [
        {
          "output_type": "execute_result",
          "data": {
            "text/html": [
              "<div>\n",
              "<style scoped>\n",
              "    .dataframe tbody tr th:only-of-type {\n",
              "        vertical-align: middle;\n",
              "    }\n",
              "\n",
              "    .dataframe tbody tr th {\n",
              "        vertical-align: top;\n",
              "    }\n",
              "\n",
              "    .dataframe thead th {\n",
              "        text-align: right;\n",
              "    }\n",
              "</style>\n",
              "<table border=\"1\" class=\"dataframe\">\n",
              "  <thead>\n",
              "    <tr style=\"text-align: right;\">\n",
              "      <th></th>\n",
              "      <th>R2</th>\n",
              "      <th>MSE</th>\n",
              "      <th>MAPE</th>\n",
              "    </tr>\n",
              "  </thead>\n",
              "  <tbody>\n",
              "    <tr>\n",
              "      <th>Heart Cut Product Properties_Oxygen_wt%</th>\n",
              "      <td>1</td>\n",
              "      <td>0</td>\n",
              "      <td>NaN</td>\n",
              "    </tr>\n",
              "    <tr>\n",
              "      <th>Heart Cut Product Properties_Methane_wt%</th>\n",
              "      <td>1</td>\n",
              "      <td>0</td>\n",
              "      <td>NaN</td>\n",
              "    </tr>\n",
              "    <tr>\n",
              "      <th>Heart Cut Product Properties_Ethane_wt%</th>\n",
              "      <td>1</td>\n",
              "      <td>0</td>\n",
              "      <td>NaN</td>\n",
              "    </tr>\n",
              "    <tr>\n",
              "      <th>Heart Cut Product Properties_Propane_wt%</th>\n",
              "      <td>0.998803</td>\n",
              "      <td>1.60408e-10</td>\n",
              "      <td>NaN</td>\n",
              "    </tr>\n",
              "    <tr>\n",
              "      <th>Heart Cut Product Properties_n-Butane_wt%</th>\n",
              "      <td>0.998729</td>\n",
              "      <td>3.5702e-09</td>\n",
              "      <td>NaN</td>\n",
              "    </tr>\n",
              "    <tr>\n",
              "      <th>Heart Cut Product Properties_i-Pentane_wt%</th>\n",
              "      <td>0.998933</td>\n",
              "      <td>7.70501e-07</td>\n",
              "      <td>1.8884</td>\n",
              "    </tr>\n",
              "    <tr>\n",
              "      <th>Heart Cut Product Properties_n-Pentane_wt%</th>\n",
              "      <td>0.998892</td>\n",
              "      <td>4.1091e-06</td>\n",
              "      <td>1.85759</td>\n",
              "    </tr>\n",
              "    <tr>\n",
              "      <th>Heart Cut Product Properties_tr2-Pentene_wt%</th>\n",
              "      <td>0.998992</td>\n",
              "      <td>7.07716e-10</td>\n",
              "      <td>NaN</td>\n",
              "    </tr>\n",
              "    <tr>\n",
              "      <th>Heart Cut Product Properties_Cyclopentane_wt%</th>\n",
              "      <td>0.998907</td>\n",
              "      <td>3.29712e-07</td>\n",
              "      <td>NaN</td>\n",
              "    </tr>\n",
              "    <tr>\n",
              "      <th>Heart Cut Product Properties_3-Methylpentane_wt%</th>\n",
              "      <td>0.997715</td>\n",
              "      <td>8.11529e-05</td>\n",
              "      <td>2.07125</td>\n",
              "    </tr>\n",
              "    <tr>\n",
              "      <th>Heart Cut Product Properties_tr2-Hexene_wt%</th>\n",
              "      <td>0.999045</td>\n",
              "      <td>4.56273e-08</td>\n",
              "      <td>NaN</td>\n",
              "    </tr>\n",
              "    <tr>\n",
              "      <th>Heart Cut Product Properties_n-Hexane_wt%</th>\n",
              "      <td>0.99823</td>\n",
              "      <td>0.000227198</td>\n",
              "      <td>1.79531</td>\n",
              "    </tr>\n",
              "    <tr>\n",
              "      <th>Heart Cut Product Properties_Methylcyclopentane_wt%</th>\n",
              "      <td>0.998619</td>\n",
              "      <td>0.000869234</td>\n",
              "      <td>1.06681</td>\n",
              "    </tr>\n",
              "    <tr>\n",
              "      <th>Heart Cut Product Properties_2,2-Dimethylpentane_wt%</th>\n",
              "      <td>0.999452</td>\n",
              "      <td>1.82126e-05</td>\n",
              "      <td>0.653196</td>\n",
              "    </tr>\n",
              "    <tr>\n",
              "      <th>Heart Cut Product Properties_Benzene_wt%</th>\n",
              "      <td>0.999681</td>\n",
              "      <td>0.000266212</td>\n",
              "      <td>NaN</td>\n",
              "    </tr>\n",
              "    <tr>\n",
              "      <th>Heart Cut Product Properties_Cyclohexane_wt%</th>\n",
              "      <td>0.999626</td>\n",
              "      <td>0.000160471</td>\n",
              "      <td>0.637795</td>\n",
              "    </tr>\n",
              "    <tr>\n",
              "      <th>Heart Cut Product Properties_2,2,3-Trimethylbutane_wt%</th>\n",
              "      <td>0.999624</td>\n",
              "      <td>1.59383e-05</td>\n",
              "      <td>0.464696</td>\n",
              "    </tr>\n",
              "    <tr>\n",
              "      <th>Heart Cut Product Properties_4-Methyl-1-hexene_wt%</th>\n",
              "      <td>0.999747</td>\n",
              "      <td>4.10817e-09</td>\n",
              "      <td>0.314312</td>\n",
              "    </tr>\n",
              "    <tr>\n",
              "      <th>Heart Cut Product Properties_2-Methylhexane_wt%</th>\n",
              "      <td>0.999836</td>\n",
              "      <td>0.000347732</td>\n",
              "      <td>0.221207</td>\n",
              "    </tr>\n",
              "    <tr>\n",
              "      <th>Heart Cut Product Properties_t-1,3-Dimethylcyclopentane_wt%</th>\n",
              "      <td>0.99995</td>\n",
              "      <td>2.4466e-05</td>\n",
              "      <td>0.184252</td>\n",
              "    </tr>\n",
              "    <tr>\n",
              "      <th>Heart Cut Product Properties_n-Heptane_wt%</th>\n",
              "      <td>0.999928</td>\n",
              "      <td>0.000388477</td>\n",
              "      <td>0.164197</td>\n",
              "    </tr>\n",
              "    <tr>\n",
              "      <th>Heart Cut Product Properties_H2O_wt%</th>\n",
              "      <td>1</td>\n",
              "      <td>0</td>\n",
              "      <td>NaN</td>\n",
              "    </tr>\n",
              "    <tr>\n",
              "      <th>Heart Cut Product Properties_Methylcyclohexane_wt%</th>\n",
              "      <td>0.999957</td>\n",
              "      <td>0.000714591</td>\n",
              "      <td>0.162817</td>\n",
              "    </tr>\n",
              "    <tr>\n",
              "      <th>Heart Cut Product Properties_Ethylcyclopentane_wt%</th>\n",
              "      <td>0.999957</td>\n",
              "      <td>0.000341914</td>\n",
              "      <td>0.162374</td>\n",
              "    </tr>\n",
              "    <tr>\n",
              "      <th>Heart Cut Product Properties_2,3-Dimethyl-1-hexene_wt%</th>\n",
              "      <td>0.999918</td>\n",
              "      <td>5.17661e-08</td>\n",
              "      <td>0.163699</td>\n",
              "    </tr>\n",
              "    <tr>\n",
              "      <th>Heart Cut Product Properties_Toluene_wt%</th>\n",
              "      <td>0.999936</td>\n",
              "      <td>0.00017292</td>\n",
              "      <td>0.162198</td>\n",
              "    </tr>\n",
              "    <tr>\n",
              "      <th>Heart Cut Product Properties_2-Methylheptane_wt%</th>\n",
              "      <td>0.999882</td>\n",
              "      <td>0.000717134</td>\n",
              "      <td>0.17046</td>\n",
              "    </tr>\n",
              "    <tr>\n",
              "      <th>Heart Cut Product Properties_n-Octane_wt%</th>\n",
              "      <td>0.999862</td>\n",
              "      <td>0.000665418</td>\n",
              "      <td>0.216616</td>\n",
              "    </tr>\n",
              "    <tr>\n",
              "      <th>Heart Cut Product Properties_Ethylcyclohexane_wt%</th>\n",
              "      <td>0.999657</td>\n",
              "      <td>0.00337592</td>\n",
              "      <td>0.2744</td>\n",
              "    </tr>\n",
              "    <tr>\n",
              "      <th>Heart Cut Product Properties_EthylBenzene_wt%</th>\n",
              "      <td>0.999938</td>\n",
              "      <td>9.47638e-05</td>\n",
              "      <td>0.303345</td>\n",
              "    </tr>\n",
              "    <tr>\n",
              "      <th>Heart Cut Product Properties_P-Xylene_wt%</th>\n",
              "      <td>0.999926</td>\n",
              "      <td>3.53554e-05</td>\n",
              "      <td>0.373477</td>\n",
              "    </tr>\n",
              "    <tr>\n",
              "      <th>Heart Cut Product Properties_M-Xylene_wt%</th>\n",
              "      <td>0.99992</td>\n",
              "      <td>0.000231079</td>\n",
              "      <td>0.394779</td>\n",
              "    </tr>\n",
              "    <tr>\n",
              "      <th>Heart Cut Product Properties_O-Xylene_wt%</th>\n",
              "      <td>0.999802</td>\n",
              "      <td>0.000398906</td>\n",
              "      <td>0.549907</td>\n",
              "    </tr>\n",
              "    <tr>\n",
              "      <th>Heart Cut Product Properties_2-Methyloctane_wt%</th>\n",
              "      <td>0.999298</td>\n",
              "      <td>0.00346355</td>\n",
              "      <td>0.52991</td>\n",
              "    </tr>\n",
              "    <tr>\n",
              "      <th>Heart Cut Product Properties_1-Nonene_wt%</th>\n",
              "      <td>0.998637</td>\n",
              "      <td>3.70493e-06</td>\n",
              "      <td>0.597831</td>\n",
              "    </tr>\n",
              "    <tr>\n",
              "      <th>Heart Cut Product Properties_n-Nonane_wt%</th>\n",
              "      <td>0.999091</td>\n",
              "      <td>0.001808</td>\n",
              "      <td>0.546945</td>\n",
              "    </tr>\n",
              "    <tr>\n",
              "      <th>Heart Cut Product Properties_i-Propylbenzene_wt%</th>\n",
              "      <td>0.999455</td>\n",
              "      <td>2.57833e-07</td>\n",
              "      <td>0.578994</td>\n",
              "    </tr>\n",
              "    <tr>\n",
              "      <th>Heart Cut Product Properties_1-trans-3,5-Trimethylcyclohexane_wt%</th>\n",
              "      <td>0.999196</td>\n",
              "      <td>0.000544354</td>\n",
              "      <td>0.478026</td>\n",
              "    </tr>\n",
              "    <tr>\n",
              "      <th>Heart Cut Product Properties_n-Propylcyclohexane_wt%</th>\n",
              "      <td>0.998107</td>\n",
              "      <td>0.000317711</td>\n",
              "      <td>0.413265</td>\n",
              "    </tr>\n",
              "    <tr>\n",
              "      <th>Heart Cut Product Properties_n-Propylbenzene_wt%</th>\n",
              "      <td>0.999701</td>\n",
              "      <td>2.12254e-06</td>\n",
              "      <td>0.435436</td>\n",
              "    </tr>\n",
              "    <tr>\n",
              "      <th>Heart Cut Product Properties_1,3,5-Trimethylbenzene_wt%</th>\n",
              "      <td>0.999784</td>\n",
              "      <td>2.54168e-05</td>\n",
              "      <td>0.446854</td>\n",
              "    </tr>\n",
              "    <tr>\n",
              "      <th>Heart Cut Product Properties_1-Methyl-2-ethylbenzene_wt%</th>\n",
              "      <td>0.999719</td>\n",
              "      <td>8.15326e-05</td>\n",
              "      <td>0.432847</td>\n",
              "    </tr>\n",
              "    <tr>\n",
              "      <th>Heart Cut Product Properties_1,2,3-Trimethylbenzene_wt%</th>\n",
              "      <td>0.999768</td>\n",
              "      <td>2.87163e-05</td>\n",
              "      <td>0.421864</td>\n",
              "    </tr>\n",
              "    <tr>\n",
              "      <th>Heart Cut Product Properties_2,4-Dimethyloctane_wt%</th>\n",
              "      <td>0.998987</td>\n",
              "      <td>5.30905e-05</td>\n",
              "      <td>0.456999</td>\n",
              "    </tr>\n",
              "    <tr>\n",
              "      <th>Heart Cut Product Properties_2,2,3,3-Tetramethylhexane_wt%</th>\n",
              "      <td>0.999437</td>\n",
              "      <td>5.43308e-05</td>\n",
              "      <td>0.428494</td>\n",
              "    </tr>\n",
              "    <tr>\n",
              "      <th>Heart Cut Product Properties_3-Methylnonane_wt%</th>\n",
              "      <td>0.99933</td>\n",
              "      <td>0.000307769</td>\n",
              "      <td>0.420298</td>\n",
              "    </tr>\n",
              "    <tr>\n",
              "      <th>Heart Cut Product Properties_tert-Butylcyclohexane_wt%</th>\n",
              "      <td>0.999893</td>\n",
              "      <td>1.33514e-05</td>\n",
              "      <td>0.39639</td>\n",
              "    </tr>\n",
              "    <tr>\n",
              "      <th>Heart Cut Product Properties_n-Decane_wt%</th>\n",
              "      <td>0.999665</td>\n",
              "      <td>4.33572e-05</td>\n",
              "      <td>NaN</td>\n",
              "    </tr>\n",
              "    <tr>\n",
              "      <th>Heart Cut Product Properties_1,2-Diethylbenzene_wt%</th>\n",
              "      <td>0.999884</td>\n",
              "      <td>2.9601e-05</td>\n",
              "      <td>0.414305</td>\n",
              "    </tr>\n",
              "    <tr>\n",
              "      <th>Heart Cut Product Properties_n-Undecane_wt%</th>\n",
              "      <td>0.999689</td>\n",
              "      <td>1.22484e-06</td>\n",
              "      <td>NaN</td>\n",
              "    </tr>\n",
              "    <tr>\n",
              "      <th>Heart Cut Product Properties_n-Pentylbenzene_wt%</th>\n",
              "      <td>0.999837</td>\n",
              "      <td>1.26854e-07</td>\n",
              "      <td>0.452551</td>\n",
              "    </tr>\n",
              "    <tr>\n",
              "      <th>Heart Cut Product Properties_n-Dodecane_wt%</th>\n",
              "      <td>0.999909</td>\n",
              "      <td>5.87203e-10</td>\n",
              "      <td>NaN</td>\n",
              "    </tr>\n",
              "    <tr>\n",
              "      <th>Heart Cut Product Properties_n-Hexylbenzene_wt%</th>\n",
              "      <td>0.999808</td>\n",
              "      <td>5.33218e-09</td>\n",
              "      <td>NaN</td>\n",
              "    </tr>\n",
              "    <tr>\n",
              "      <th>Heart Cut Product Properties_n-Tridecane_wt%</th>\n",
              "      <td>1</td>\n",
              "      <td>0</td>\n",
              "      <td>NaN</td>\n",
              "    </tr>\n",
              "    <tr>\n",
              "      <th>AVG</th>\n",
              "      <td>0.999494</td>\n",
              "      <td>0.000295012</td>\n",
              "      <td>0.556515</td>\n",
              "    </tr>\n",
              "  </tbody>\n",
              "</table>\n",
              "</div>"
            ],
            "text/plain": [
              "                                                          R2  ...      MAPE\n",
              "Heart Cut Product Properties_Oxygen_wt%                    1  ...       NaN\n",
              "Heart Cut Product Properties_Methane_wt%                   1  ...       NaN\n",
              "Heart Cut Product Properties_Ethane_wt%                    1  ...       NaN\n",
              "Heart Cut Product Properties_Propane_wt%            0.998803  ...       NaN\n",
              "Heart Cut Product Properties_n-Butane_wt%           0.998729  ...       NaN\n",
              "Heart Cut Product Properties_i-Pentane_wt%          0.998933  ...    1.8884\n",
              "Heart Cut Product Properties_n-Pentane_wt%          0.998892  ...   1.85759\n",
              "Heart Cut Product Properties_tr2-Pentene_wt%        0.998992  ...       NaN\n",
              "Heart Cut Product Properties_Cyclopentane_wt%       0.998907  ...       NaN\n",
              "Heart Cut Product Properties_3-Methylpentane_wt%    0.997715  ...   2.07125\n",
              "Heart Cut Product Properties_tr2-Hexene_wt%         0.999045  ...       NaN\n",
              "Heart Cut Product Properties_n-Hexane_wt%            0.99823  ...   1.79531\n",
              "Heart Cut Product Properties_Methylcyclopentane...  0.998619  ...   1.06681\n",
              "Heart Cut Product Properties_2,2-Dimethylpentan...  0.999452  ...  0.653196\n",
              "Heart Cut Product Properties_Benzene_wt%            0.999681  ...       NaN\n",
              "Heart Cut Product Properties_Cyclohexane_wt%        0.999626  ...  0.637795\n",
              "Heart Cut Product Properties_2,2,3-Trimethylbut...  0.999624  ...  0.464696\n",
              "Heart Cut Product Properties_4-Methyl-1-hexene_wt%  0.999747  ...  0.314312\n",
              "Heart Cut Product Properties_2-Methylhexane_wt%     0.999836  ...  0.221207\n",
              "Heart Cut Product Properties_t-1,3-Dimethylcycl...   0.99995  ...  0.184252\n",
              "Heart Cut Product Properties_n-Heptane_wt%          0.999928  ...  0.164197\n",
              "Heart Cut Product Properties_H2O_wt%                       1  ...       NaN\n",
              "Heart Cut Product Properties_Methylcyclohexane_wt%  0.999957  ...  0.162817\n",
              "Heart Cut Product Properties_Ethylcyclopentane_wt%  0.999957  ...  0.162374\n",
              "Heart Cut Product Properties_2,3-Dimethyl-1-hex...  0.999918  ...  0.163699\n",
              "Heart Cut Product Properties_Toluene_wt%            0.999936  ...  0.162198\n",
              "Heart Cut Product Properties_2-Methylheptane_wt%    0.999882  ...   0.17046\n",
              "Heart Cut Product Properties_n-Octane_wt%           0.999862  ...  0.216616\n",
              "Heart Cut Product Properties_Ethylcyclohexane_wt%   0.999657  ...    0.2744\n",
              "Heart Cut Product Properties_EthylBenzene_wt%       0.999938  ...  0.303345\n",
              "Heart Cut Product Properties_P-Xylene_wt%           0.999926  ...  0.373477\n",
              "Heart Cut Product Properties_M-Xylene_wt%            0.99992  ...  0.394779\n",
              "Heart Cut Product Properties_O-Xylene_wt%           0.999802  ...  0.549907\n",
              "Heart Cut Product Properties_2-Methyloctane_wt%     0.999298  ...   0.52991\n",
              "Heart Cut Product Properties_1-Nonene_wt%           0.998637  ...  0.597831\n",
              "Heart Cut Product Properties_n-Nonane_wt%           0.999091  ...  0.546945\n",
              "Heart Cut Product Properties_i-Propylbenzene_wt%    0.999455  ...  0.578994\n",
              "Heart Cut Product Properties_1-trans-3,5-Trimet...  0.999196  ...  0.478026\n",
              "Heart Cut Product Properties_n-Propylcyclohexan...  0.998107  ...  0.413265\n",
              "Heart Cut Product Properties_n-Propylbenzene_wt%    0.999701  ...  0.435436\n",
              "Heart Cut Product Properties_1,3,5-Trimethylben...  0.999784  ...  0.446854\n",
              "Heart Cut Product Properties_1-Methyl-2-ethylbe...  0.999719  ...  0.432847\n",
              "Heart Cut Product Properties_1,2,3-Trimethylben...  0.999768  ...  0.421864\n",
              "Heart Cut Product Properties_2,4-Dimethyloctane...  0.998987  ...  0.456999\n",
              "Heart Cut Product Properties_2,2,3,3-Tetramethy...  0.999437  ...  0.428494\n",
              "Heart Cut Product Properties_3-Methylnonane_wt%      0.99933  ...  0.420298\n",
              "Heart Cut Product Properties_tert-Butylcyclohex...  0.999893  ...   0.39639\n",
              "Heart Cut Product Properties_n-Decane_wt%           0.999665  ...       NaN\n",
              "Heart Cut Product Properties_1,2-Diethylbenzene...  0.999884  ...  0.414305\n",
              "Heart Cut Product Properties_n-Undecane_wt%         0.999689  ...       NaN\n",
              "Heart Cut Product Properties_n-Pentylbenzene_wt%    0.999837  ...  0.452551\n",
              "Heart Cut Product Properties_n-Dodecane_wt%         0.999909  ...       NaN\n",
              "Heart Cut Product Properties_n-Hexylbenzene_wt%     0.999808  ...       NaN\n",
              "Heart Cut Product Properties_n-Tridecane_wt%               1  ...       NaN\n",
              "AVG                                                 0.999494  ...  0.556515\n",
              "\n",
              "[55 rows x 3 columns]"
            ]
          },
          "metadata": {
            "tags": []
          },
          "execution_count": 13
        }
      ]
    },
    {
      "cell_type": "code",
      "metadata": {
        "id": "4f7xi63BNALe"
      },
      "source": [
        ""
      ],
      "execution_count": null,
      "outputs": []
    }
  ]
}