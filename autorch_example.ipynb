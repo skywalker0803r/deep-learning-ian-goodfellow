{
  "nbformat": 4,
  "nbformat_minor": 0,
  "metadata": {
    "colab": {
      "name": "autorch_example.ipynb",
      "provenance": [],
      "collapsed_sections": [],
      "mount_file_id": "1dEeKYpraRlhHd-gPtK5CuoJcH2AZuQVw",
      "authorship_tag": "ABX9TyOcRGAWMatwvpyJVA31IXLG",
      "include_colab_link": true
    },
    "kernelspec": {
      "name": "python3",
      "display_name": "Python 3"
    }
  },
  "cells": [
    {
      "cell_type": "markdown",
      "metadata": {
        "id": "view-in-github",
        "colab_type": "text"
      },
      "source": [
        "<a href=\"https://colab.research.google.com/github/skywalker0803r/deep-learning-ian-goodfellow/blob/master/autorch_example.ipynb\" target=\"_parent\"><img src=\"https://colab.research.google.com/assets/colab-badge.svg\" alt=\"Open In Colab\"/></a>"
      ]
    },
    {
      "cell_type": "code",
      "metadata": {
        "colab": {
          "base_uri": "https://localhost:8080/"
        },
        "id": "_0aPWljUav_M",
        "outputId": "72255299-c366-465e-9c91-34961db27e95"
      },
      "source": [
        "!git clone https://github.com/skywalker0803r/autorch.git"
      ],
      "execution_count": 23,
      "outputs": [
        {
          "output_type": "stream",
          "text": [
            "Cloning into 'autorch'...\n",
            "remote: Enumerating objects: 61, done.\u001b[K\n",
            "remote: Counting objects: 100% (61/61), done.\u001b[K\n",
            "remote: Compressing objects: 100% (48/48), done.\u001b[K\n",
            "remote: Total 61 (delta 20), reused 22 (delta 6), pack-reused 0\u001b[K\n",
            "Unpacking objects: 100% (61/61), done.\n"
          ],
          "name": "stdout"
        }
      ]
    },
    {
      "cell_type": "code",
      "metadata": {
        "id": "EwW_ocBZiySG"
      },
      "source": [
        "from autorch.function import sp2wt\n",
        "from autorch.utils import part"
      ],
      "execution_count": 27,
      "outputs": []
    },
    {
      "cell_type": "code",
      "metadata": {
        "id": "FbUVJT7kRXSx"
      },
      "source": [
        "import pandas as pd\n",
        "import numpy as np\n",
        "import joblib\n",
        "c = joblib.load('/content/drive/MyDrive/台塑輕油案子/data/phase2/dataset/col_names.pkl')\n",
        "df = pd.read_csv('/content/drive/MyDrive/台塑輕油案子/data/phase2/dataset/train.csv',index_col=0)"
      ],
      "execution_count": 28,
      "outputs": []
    },
    {
      "cell_type": "code",
      "metadata": {
        "colab": {
          "base_uri": "https://localhost:8080/"
        },
        "id": "6rpmGclzdxKX",
        "outputId": "ccd5c8d5-0356-4937-d6ab-b4ecd93feb56"
      },
      "source": [
        "x = df[c[\"xna\"]].values\n",
        "s = df[c[\"shc\"]].values\n",
        "wt = df[c[\"xhc\"]].values\n",
        "wt_p = sp2wt(x,s)\n",
        "np.allclose(wt,wt_p)"
      ],
      "execution_count": 29,
      "outputs": [
        {
          "output_type": "execute_result",
          "data": {
            "text/plain": [
              "True"
            ]
          },
          "metadata": {
            "tags": []
          },
          "execution_count": 29
        }
      ]
    },
    {
      "cell_type": "code",
      "metadata": {
        "colab": {
          "base_uri": "https://localhost:8080/"
        },
        "id": "fvdalJhDc02o",
        "outputId": "935a0182-660a-41d4-d019-63a9ae082625"
      },
      "source": [
        "x_col = col_names['case'] + col_names['xna']\n",
        "y_col = col_names['sle'] + col_names['shc'] + col_names['she']\n",
        "normalize_idx = [[y_col.index(col_names['sle'][i]),y_col.index(col_names['shc'][i]),y_col.index(col_names['she'][i])]for i in range(len(col_names['xna']))]\n",
        "normalize_idx"
      ],
      "execution_count": 30,
      "outputs": [
        {
          "output_type": "execute_result",
          "data": {
            "text/plain": [
              "[[0, 54, 108],\n",
              " [1, 55, 109],\n",
              " [2, 56, 110],\n",
              " [3, 57, 111],\n",
              " [4, 58, 112],\n",
              " [5, 59, 113],\n",
              " [6, 60, 114],\n",
              " [7, 61, 115],\n",
              " [8, 62, 116],\n",
              " [9, 63, 117],\n",
              " [10, 64, 118],\n",
              " [11, 65, 119],\n",
              " [12, 66, 120],\n",
              " [13, 67, 121],\n",
              " [14, 68, 122],\n",
              " [15, 69, 123],\n",
              " [16, 70, 124],\n",
              " [17, 71, 125],\n",
              " [18, 72, 126],\n",
              " [19, 73, 127],\n",
              " [20, 74, 128],\n",
              " [21, 75, 129],\n",
              " [22, 76, 130],\n",
              " [23, 77, 131],\n",
              " [24, 78, 132],\n",
              " [25, 79, 133],\n",
              " [26, 80, 134],\n",
              " [27, 81, 135],\n",
              " [28, 82, 136],\n",
              " [29, 83, 137],\n",
              " [30, 84, 138],\n",
              " [31, 85, 139],\n",
              " [32, 86, 140],\n",
              " [33, 87, 141],\n",
              " [34, 88, 142],\n",
              " [35, 89, 143],\n",
              " [36, 90, 144],\n",
              " [37, 91, 145],\n",
              " [38, 92, 146],\n",
              " [39, 93, 147],\n",
              " [40, 94, 148],\n",
              " [41, 95, 149],\n",
              " [42, 96, 150],\n",
              " [43, 97, 151],\n",
              " [44, 98, 152],\n",
              " [45, 99, 153],\n",
              " [46, 100, 154],\n",
              " [47, 101, 155],\n",
              " [48, 102, 156],\n",
              " [49, 103, 157],\n",
              " [50, 104, 158],\n",
              " [51, 105, 159],\n",
              " [52, 106, 160],\n",
              " [53, 107, 161]]"
            ]
          },
          "metadata": {
            "tags": []
          },
          "execution_count": 30
        }
      ]
    },
    {
      "cell_type": "code",
      "metadata": {
        "id": "TJzKjyZOdxwV"
      },
      "source": [
        "import numpy as np\n",
        "for i in range(54):\n",
        "  assert np.allclose(df[y_col].iloc[:,normalize_idx[i]].sum(axis=1).mean(),1.0)"
      ],
      "execution_count": 31,
      "outputs": []
    },
    {
      "cell_type": "code",
      "metadata": {
        "colab": {
          "base_uri": "https://localhost:8080/",
          "height": 503
        },
        "id": "Ey6wW4-sd718",
        "outputId": "8f6b9242-d459-4be3-cbd7-bbae766b6cd0"
      },
      "source": [
        "part1 = part.PartBulider(df,x_col,y_col,normalize_idx_list=normalize_idx)\n",
        "part1.train()"
      ],
      "execution_count": 32,
      "outputs": [
        {
          "output_type": "stream",
          "text": [
            "  0%|          | 1/300 [00:01<05:14,  1.05s/it]"
          ],
          "name": "stderr"
        },
        {
          "output_type": "stream",
          "text": [
            "epoch:0 train_loss:0.0129 valid_loss:0.0035\n"
          ],
          "name": "stdout"
        },
        {
          "output_type": "stream",
          "text": [
            " 17%|█▋        | 51/300 [00:54<04:28,  1.08s/it]"
          ],
          "name": "stderr"
        },
        {
          "output_type": "stream",
          "text": [
            "epoch:50 train_loss:0.0003 valid_loss:0.0004\n"
          ],
          "name": "stdout"
        },
        {
          "output_type": "stream",
          "text": [
            " 34%|███▎      | 101/300 [01:48<03:36,  1.09s/it]"
          ],
          "name": "stderr"
        },
        {
          "output_type": "stream",
          "text": [
            "epoch:100 train_loss:0.0002 valid_loss:0.0003\n"
          ],
          "name": "stdout"
        },
        {
          "output_type": "stream",
          "text": [
            " 50%|█████     | 151/300 [02:44<02:52,  1.16s/it]"
          ],
          "name": "stderr"
        },
        {
          "output_type": "stream",
          "text": [
            "epoch:150 train_loss:0.0002 valid_loss:0.0003\n"
          ],
          "name": "stdout"
        },
        {
          "output_type": "stream",
          "text": [
            " 67%|██████▋   | 201/300 [03:46<02:09,  1.31s/it]"
          ],
          "name": "stderr"
        },
        {
          "output_type": "stream",
          "text": [
            "epoch:200 train_loss:0.0001 valid_loss:0.0002\n"
          ],
          "name": "stdout"
        },
        {
          "output_type": "stream",
          "text": [
            " 84%|████████▎ | 251/300 [04:56<01:12,  1.47s/it]"
          ],
          "name": "stderr"
        },
        {
          "output_type": "stream",
          "text": [
            "epoch:250 train_loss:0.0001 valid_loss:0.0001\n"
          ],
          "name": "stdout"
        },
        {
          "output_type": "stream",
          "text": [
            "100%|██████████| 300/300 [06:09<00:00,  1.23s/it]\n"
          ],
          "name": "stderr"
        },
        {
          "output_type": "display_data",
          "data": {
            "image/png": "[encoded data removed]",
            "text/plain": [
              "<Figure size 432x288 with 1 Axes>"
            ]
          },
          "metadata": {
            "tags": [],
            "needs_background": "light"
          }
        },
        {
          "output_type": "execute_result",
          "data": {
            "text/plain": [
              "Sequential(\n",
              "  (0): Linear(in_features=58, out_features=256, bias=True)\n",
              "  (1): ReLU()\n",
              "  (2): Linear(in_features=256, out_features=256, bias=True)\n",
              "  (3): ReLU()\n",
              "  (4): Linear(in_features=256, out_features=162, bias=True)\n",
              "  (5): Sigmoid()\n",
              ")"
            ]
          },
          "metadata": {
            "tags": []
          },
          "execution_count": 32
        }
      ]
    },
    {
      "cell_type": "code",
      "metadata": {
        "colab": {
          "base_uri": "https://localhost:8080/",
          "height": 848
        },
        "id": "unvfkL9zevTt",
        "outputId": "ac5b292a-44f7-441b-ec86-f625e37dab2c"
      },
      "source": [
        "part1.test()"
      ],
      "execution_count": 33,
      "outputs": [
        {
          "output_type": "execute_result",
          "data": {
            "text/html": [
              "<div>\n",
              "<style scoped>\n",
              "    .dataframe tbody tr th:only-of-type {\n",
              "        vertical-align: middle;\n",
              "    }\n",
              "\n",
              "    .dataframe tbody tr th {\n",
              "        vertical-align: top;\n",
              "    }\n",
              "\n",
              "    .dataframe thead th {\n",
              "        text-align: right;\n",
              "    }\n",
              "</style>\n",
              "<table border=\"1\" class=\"dataframe\">\n",
              "  <thead>\n",
              "    <tr style=\"text-align: right;\">\n",
              "      <th></th>\n",
              "      <th>R2</th>\n",
              "      <th>MSE</th>\n",
              "      <th>MAPE</th>\n",
              "    </tr>\n",
              "  </thead>\n",
              "  <tbody>\n",
              "    <tr>\n",
              "      <th>Individual Component to Light End Split Factor_Oxygen_Ratio</th>\n",
              "      <td>0</td>\n",
              "      <td>2.25095e-08</td>\n",
              "      <td>0.00997746</td>\n",
              "    </tr>\n",
              "    <tr>\n",
              "      <th>Individual Component to Light End Split Factor_Methane_Ratio</th>\n",
              "      <td>0</td>\n",
              "      <td>2.11867e-08</td>\n",
              "      <td>0.00989579</td>\n",
              "    </tr>\n",
              "    <tr>\n",
              "      <th>Individual Component to Light End Split Factor_Ethane_Ratio</th>\n",
              "      <td>0</td>\n",
              "      <td>2.20274e-08</td>\n",
              "      <td>0.00976684</td>\n",
              "    </tr>\n",
              "    <tr>\n",
              "      <th>Individual Component to Light End Split Factor_Propane_Ratio</th>\n",
              "      <td>0.992348</td>\n",
              "      <td>1.95643e-07</td>\n",
              "      <td>0.0246333</td>\n",
              "    </tr>\n",
              "    <tr>\n",
              "      <th>Individual Component to Light End Split Factor_n-Butane_Ratio</th>\n",
              "      <td>0.990177</td>\n",
              "      <td>1.21155e-06</td>\n",
              "      <td>0.0596988</td>\n",
              "    </tr>\n",
              "    <tr>\n",
              "      <th>...</th>\n",
              "      <td>...</td>\n",
              "      <td>...</td>\n",
              "      <td>...</td>\n",
              "    </tr>\n",
              "    <tr>\n",
              "      <th>Individual Component to Heavy End Split Factor_n-Pentylbenzene_Ratio</th>\n",
              "      <td>0.987505</td>\n",
              "      <td>4.71882e-05</td>\n",
              "      <td>0.828806</td>\n",
              "    </tr>\n",
              "    <tr>\n",
              "      <th>Individual Component to Heavy End Split Factor_n-Dodecane_Ratio</th>\n",
              "      <td>0.995249</td>\n",
              "      <td>4.89447e-05</td>\n",
              "      <td>inf</td>\n",
              "    </tr>\n",
              "    <tr>\n",
              "      <th>Individual Component to Heavy End Split Factor_n-Hexylbenzene_Ratio</th>\n",
              "      <td>0.989421</td>\n",
              "      <td>4.80298e-05</td>\n",
              "      <td>inf</td>\n",
              "    </tr>\n",
              "    <tr>\n",
              "      <th>Individual Component to Heavy End Split Factor_n-Tridecane_Ratio</th>\n",
              "      <td>0</td>\n",
              "      <td>2.16923e-08</td>\n",
              "      <td>0.00966886</td>\n",
              "    </tr>\n",
              "    <tr>\n",
              "      <th>AVG</th>\n",
              "      <td>0.888973</td>\n",
              "      <td>2.70692e-05</td>\n",
              "      <td>inf</td>\n",
              "    </tr>\n",
              "  </tbody>\n",
              "</table>\n",
              "<p>163 rows × 3 columns</p>\n",
              "</div>"
            ],
            "text/plain": [
              "                                                          R2  ...        MAPE\n",
              "Individual Component to Light End Split Factor_...         0  ...  0.00997746\n",
              "Individual Component to Light End Split Factor_...         0  ...  0.00989579\n",
              "Individual Component to Light End Split Factor_...         0  ...  0.00976684\n",
              "Individual Component to Light End Split Factor_...  0.992348  ...   0.0246333\n",
              "Individual Component to Light End Split Factor_...  0.990177  ...   0.0596988\n",
              "...                                                      ...  ...         ...\n",
              "Individual Component to Heavy End Split Factor_...  0.987505  ...    0.828806\n",
              "Individual Component to Heavy End Split Factor_...  0.995249  ...         inf\n",
              "Individual Component to Heavy End Split Factor_...  0.989421  ...         inf\n",
              "Individual Component to Heavy End Split Factor_...         0  ...  0.00966886\n",
              "AVG                                                 0.888973  ...         inf\n",
              "\n",
              "[163 rows x 3 columns]"
            ]
          },
          "metadata": {
            "tags": []
          },
          "execution_count": 33
        }
      ]
    },
    {
      "cell_type": "code",
      "metadata": {
        "id": "g_TG60JDgP3V"
      },
      "source": [
        " \n",
        "x_test = part1.data[\"X_test\"]\n",
        "s_real = part1.data[\"Y_test\"]\n",
        "s_pred = part1.predict(x_test)\n",
        "idx = x_test.index"
      ],
      "execution_count": 40,
      "outputs": []
    },
    {
      "cell_type": "code",
      "metadata": {
        "id": "4nO59NuMlP5y"
      },
      "source": [
        "wt_real = df.loc[idx,c[\"xhc\"]]"
      ],
      "execution_count": 41,
      "outputs": []
    },
    {
      "cell_type": "code",
      "metadata": {
        "id": "Rhe9FYOelqiD"
      },
      "source": [
        "xna = x_test[c[\"xna\"]].values\n",
        "shc = s_pred[c[\"shc\"]].values\n",
        "wt_pred = sp2wt(xna,shc)\n",
        "wt_pred = pd.DataFrame(wt_pred)\n",
        "wt_pred.columns = wt_real.columns"
      ],
      "execution_count": 44,
      "outputs": []
    },
    {
      "cell_type": "code",
      "metadata": {
        "colab": {
          "base_uri": "https://localhost:8080/",
          "height": 1000
        },
        "id": "qK6IMMYSnT3Z",
        "outputId": "be762585-c936-4071-b1da-7ebc7ca5f6bb"
      },
      "source": [
        "part1.show_metrics(wt_pred,wt_real)"
      ],
      "execution_count": 46,
      "outputs": [
        {
          "output_type": "execute_result",
          "data": {
            "text/html": [
              "<div>\n",
              "<style scoped>\n",
              "    .dataframe tbody tr th:only-of-type {\n",
              "        vertical-align: middle;\n",
              "    }\n",
              "\n",
              "    .dataframe tbody tr th {\n",
              "        vertical-align: top;\n",
              "    }\n",
              "\n",
              "    .dataframe thead th {\n",
              "        text-align: right;\n",
              "    }\n",
              "</style>\n",
              "<table border=\"1\" class=\"dataframe\">\n",
              "  <thead>\n",
              "    <tr style=\"text-align: right;\">\n",
              "      <th></th>\n",
              "      <th>R2</th>\n",
              "      <th>MSE</th>\n",
              "      <th>MAPE</th>\n",
              "    </tr>\n",
              "  </thead>\n",
              "  <tbody>\n",
              "    <tr>\n",
              "      <th>Heart Cut Product Properties_Oxygen_wt%</th>\n",
              "      <td>1</td>\n",
              "      <td>0</td>\n",
              "      <td>NaN</td>\n",
              "    </tr>\n",
              "    <tr>\n",
              "      <th>Heart Cut Product Properties_Methane_wt%</th>\n",
              "      <td>1</td>\n",
              "      <td>0</td>\n",
              "      <td>NaN</td>\n",
              "    </tr>\n",
              "    <tr>\n",
              "      <th>Heart Cut Product Properties_Ethane_wt%</th>\n",
              "      <td>1</td>\n",
              "      <td>0</td>\n",
              "      <td>NaN</td>\n",
              "    </tr>\n",
              "    <tr>\n",
              "      <th>Heart Cut Product Properties_Propane_wt%</th>\n",
              "      <td>0.998032</td>\n",
              "      <td>2.6296e-10</td>\n",
              "      <td>NaN</td>\n",
              "    </tr>\n",
              "    <tr>\n",
              "      <th>Heart Cut Product Properties_n-Butane_wt%</th>\n",
              "      <td>0.998024</td>\n",
              "      <td>5.5202e-09</td>\n",
              "      <td>NaN</td>\n",
              "    </tr>\n",
              "    <tr>\n",
              "      <th>Heart Cut Product Properties_i-Pentane_wt%</th>\n",
              "      <td>0.998412</td>\n",
              "      <td>1.14287e-06</td>\n",
              "      <td>2.39456</td>\n",
              "    </tr>\n",
              "    <tr>\n",
              "      <th>Heart Cut Product Properties_n-Pentane_wt%</th>\n",
              "      <td>0.998097</td>\n",
              "      <td>6.94799e-06</td>\n",
              "      <td>2.45597</td>\n",
              "    </tr>\n",
              "    <tr>\n",
              "      <th>Heart Cut Product Properties_tr2-Pentene_wt%</th>\n",
              "      <td>0.997757</td>\n",
              "      <td>1.47395e-09</td>\n",
              "      <td>NaN</td>\n",
              "    </tr>\n",
              "    <tr>\n",
              "      <th>Heart Cut Product Properties_Cyclopentane_wt%</th>\n",
              "      <td>0.996528</td>\n",
              "      <td>1.68426e-06</td>\n",
              "      <td>NaN</td>\n",
              "    </tr>\n",
              "    <tr>\n",
              "      <th>Heart Cut Product Properties_3-Methylpentane_wt%</th>\n",
              "      <td>0.997102</td>\n",
              "      <td>0.000102307</td>\n",
              "      <td>2.50879</td>\n",
              "    </tr>\n",
              "    <tr>\n",
              "      <th>Heart Cut Product Properties_tr2-Hexene_wt%</th>\n",
              "      <td>0.998882</td>\n",
              "      <td>5.16412e-08</td>\n",
              "      <td>NaN</td>\n",
              "    </tr>\n",
              "    <tr>\n",
              "      <th>Heart Cut Product Properties_n-Hexane_wt%</th>\n",
              "      <td>0.997585</td>\n",
              "      <td>0.000291183</td>\n",
              "      <td>2.19084</td>\n",
              "    </tr>\n",
              "    <tr>\n",
              "      <th>Heart Cut Product Properties_Methylcyclopentane_wt%</th>\n",
              "      <td>0.998577</td>\n",
              "      <td>0.000978</td>\n",
              "      <td>1.18573</td>\n",
              "    </tr>\n",
              "    <tr>\n",
              "      <th>Heart Cut Product Properties_2,2-Dimethylpentane_wt%</th>\n",
              "      <td>0.999478</td>\n",
              "      <td>1.8353e-05</td>\n",
              "      <td>0.629285</td>\n",
              "    </tr>\n",
              "    <tr>\n",
              "      <th>Heart Cut Product Properties_Benzene_wt%</th>\n",
              "      <td>0.999485</td>\n",
              "      <td>0.000539671</td>\n",
              "      <td>NaN</td>\n",
              "    </tr>\n",
              "    <tr>\n",
              "      <th>Heart Cut Product Properties_Cyclohexane_wt%</th>\n",
              "      <td>0.999653</td>\n",
              "      <td>0.000151212</td>\n",
              "      <td>0.631544</td>\n",
              "    </tr>\n",
              "    <tr>\n",
              "      <th>Heart Cut Product Properties_2,2,3-Trimethylbutane_wt%</th>\n",
              "      <td>0.999577</td>\n",
              "      <td>1.90022e-05</td>\n",
              "      <td>0.506675</td>\n",
              "    </tr>\n",
              "    <tr>\n",
              "      <th>Heart Cut Product Properties_4-Methyl-1-hexene_wt%</th>\n",
              "      <td>0.999731</td>\n",
              "      <td>4.60508e-09</td>\n",
              "      <td>0.336013</td>\n",
              "    </tr>\n",
              "    <tr>\n",
              "      <th>Heart Cut Product Properties_2-Methylhexane_wt%</th>\n",
              "      <td>0.999842</td>\n",
              "      <td>0.000349264</td>\n",
              "      <td>0.218086</td>\n",
              "    </tr>\n",
              "    <tr>\n",
              "      <th>Heart Cut Product Properties_t-1,3-Dimethylcyclopentane_wt%</th>\n",
              "      <td>0.999941</td>\n",
              "      <td>2.92107e-05</td>\n",
              "      <td>0.178587</td>\n",
              "    </tr>\n",
              "    <tr>\n",
              "      <th>Heart Cut Product Properties_n-Heptane_wt%</th>\n",
              "      <td>0.999929</td>\n",
              "      <td>0.00038732</td>\n",
              "      <td>0.157725</td>\n",
              "    </tr>\n",
              "    <tr>\n",
              "      <th>Heart Cut Product Properties_H2O_wt%</th>\n",
              "      <td>1</td>\n",
              "      <td>0</td>\n",
              "      <td>NaN</td>\n",
              "    </tr>\n",
              "    <tr>\n",
              "      <th>Heart Cut Product Properties_Methylcyclohexane_wt%</th>\n",
              "      <td>0.999947</td>\n",
              "      <td>0.000893259</td>\n",
              "      <td>0.156895</td>\n",
              "    </tr>\n",
              "    <tr>\n",
              "      <th>Heart Cut Product Properties_Ethylcyclopentane_wt%</th>\n",
              "      <td>0.999947</td>\n",
              "      <td>0.000429162</td>\n",
              "      <td>0.156792</td>\n",
              "    </tr>\n",
              "    <tr>\n",
              "      <th>Heart Cut Product Properties_2,3-Dimethyl-1-hexene_wt%</th>\n",
              "      <td>0.999918</td>\n",
              "      <td>5.04059e-08</td>\n",
              "      <td>0.159777</td>\n",
              "    </tr>\n",
              "    <tr>\n",
              "      <th>Heart Cut Product Properties_Toluene_wt%</th>\n",
              "      <td>0.999917</td>\n",
              "      <td>0.000226372</td>\n",
              "      <td>0.157258</td>\n",
              "    </tr>\n",
              "    <tr>\n",
              "      <th>Heart Cut Product Properties_2-Methylheptane_wt%</th>\n",
              "      <td>0.999847</td>\n",
              "      <td>0.000923935</td>\n",
              "      <td>0.176145</td>\n",
              "    </tr>\n",
              "    <tr>\n",
              "      <th>Heart Cut Product Properties_n-Octane_wt%</th>\n",
              "      <td>0.999799</td>\n",
              "      <td>0.000958109</td>\n",
              "      <td>0.231566</td>\n",
              "    </tr>\n",
              "    <tr>\n",
              "      <th>Heart Cut Product Properties_Ethylcyclohexane_wt%</th>\n",
              "      <td>0.999431</td>\n",
              "      <td>0.00608659</td>\n",
              "      <td>0.287298</td>\n",
              "    </tr>\n",
              "    <tr>\n",
              "      <th>Heart Cut Product Properties_EthylBenzene_wt%</th>\n",
              "      <td>0.999928</td>\n",
              "      <td>0.000119259</td>\n",
              "      <td>0.30463</td>\n",
              "    </tr>\n",
              "    <tr>\n",
              "      <th>Heart Cut Product Properties_P-Xylene_wt%</th>\n",
              "      <td>0.999928</td>\n",
              "      <td>3.72693e-05</td>\n",
              "      <td>0.377439</td>\n",
              "    </tr>\n",
              "    <tr>\n",
              "      <th>Heart Cut Product Properties_M-Xylene_wt%</th>\n",
              "      <td>0.999924</td>\n",
              "      <td>0.00023497</td>\n",
              "      <td>0.40107</td>\n",
              "    </tr>\n",
              "    <tr>\n",
              "      <th>Heart Cut Product Properties_O-Xylene_wt%</th>\n",
              "      <td>0.999838</td>\n",
              "      <td>0.00035608</td>\n",
              "      <td>0.552369</td>\n",
              "    </tr>\n",
              "    <tr>\n",
              "      <th>Heart Cut Product Properties_2-Methyloctane_wt%</th>\n",
              "      <td>0.99931</td>\n",
              "      <td>0.00342775</td>\n",
              "      <td>0.507827</td>\n",
              "    </tr>\n",
              "    <tr>\n",
              "      <th>Heart Cut Product Properties_1-Nonene_wt%</th>\n",
              "      <td>0.998771</td>\n",
              "      <td>3.42957e-06</td>\n",
              "      <td>0.537567</td>\n",
              "    </tr>\n",
              "    <tr>\n",
              "      <th>Heart Cut Product Properties_n-Nonane_wt%</th>\n",
              "      <td>0.999229</td>\n",
              "      <td>0.00164664</td>\n",
              "      <td>0.55347</td>\n",
              "    </tr>\n",
              "    <tr>\n",
              "      <th>Heart Cut Product Properties_i-Propylbenzene_wt%</th>\n",
              "      <td>0.999547</td>\n",
              "      <td>2.4386e-07</td>\n",
              "      <td>0.541158</td>\n",
              "    </tr>\n",
              "    <tr>\n",
              "      <th>Heart Cut Product Properties_1-trans-3,5-Trimethylcyclohexane_wt%</th>\n",
              "      <td>0.999222</td>\n",
              "      <td>0.000553038</td>\n",
              "      <td>0.475582</td>\n",
              "    </tr>\n",
              "    <tr>\n",
              "      <th>Heart Cut Product Properties_n-Propylcyclohexane_wt%</th>\n",
              "      <td>0.998573</td>\n",
              "      <td>0.000255775</td>\n",
              "      <td>0.424745</td>\n",
              "    </tr>\n",
              "    <tr>\n",
              "      <th>Heart Cut Product Properties_n-Propylbenzene_wt%</th>\n",
              "      <td>0.999511</td>\n",
              "      <td>3.80641e-06</td>\n",
              "      <td>0.445811</td>\n",
              "    </tr>\n",
              "    <tr>\n",
              "      <th>Heart Cut Product Properties_1,3,5-Trimethylbenzene_wt%</th>\n",
              "      <td>0.999571</td>\n",
              "      <td>5.32118e-05</td>\n",
              "      <td>0.48251</td>\n",
              "    </tr>\n",
              "    <tr>\n",
              "      <th>Heart Cut Product Properties_1-Methyl-2-ethylbenzene_wt%</th>\n",
              "      <td>0.999555</td>\n",
              "      <td>0.000141614</td>\n",
              "      <td>0.436514</td>\n",
              "    </tr>\n",
              "    <tr>\n",
              "      <th>Heart Cut Product Properties_1,2,3-Trimethylbenzene_wt%</th>\n",
              "      <td>0.999663</td>\n",
              "      <td>4.31337e-05</td>\n",
              "      <td>0.495839</td>\n",
              "    </tr>\n",
              "    <tr>\n",
              "      <th>Heart Cut Product Properties_2,4-Dimethyloctane_wt%</th>\n",
              "      <td>0.999022</td>\n",
              "      <td>5.11292e-05</td>\n",
              "      <td>0.489951</td>\n",
              "    </tr>\n",
              "    <tr>\n",
              "      <th>Heart Cut Product Properties_2,2,3,3-Tetramethylhexane_wt%</th>\n",
              "      <td>0.99914</td>\n",
              "      <td>8.15949e-05</td>\n",
              "      <td>0.465856</td>\n",
              "    </tr>\n",
              "    <tr>\n",
              "      <th>Heart Cut Product Properties_3-Methylnonane_wt%</th>\n",
              "      <td>0.999467</td>\n",
              "      <td>0.000236928</td>\n",
              "      <td>0.478597</td>\n",
              "    </tr>\n",
              "    <tr>\n",
              "      <th>Heart Cut Product Properties_tert-Butylcyclohexane_wt%</th>\n",
              "      <td>0.999857</td>\n",
              "      <td>1.87307e-05</td>\n",
              "      <td>0.501605</td>\n",
              "    </tr>\n",
              "    <tr>\n",
              "      <th>Heart Cut Product Properties_n-Decane_wt%</th>\n",
              "      <td>0.999715</td>\n",
              "      <td>4.05914e-05</td>\n",
              "      <td>NaN</td>\n",
              "    </tr>\n",
              "    <tr>\n",
              "      <th>Heart Cut Product Properties_1,2-Diethylbenzene_wt%</th>\n",
              "      <td>0.999772</td>\n",
              "      <td>6.49946e-05</td>\n",
              "      <td>0.544074</td>\n",
              "    </tr>\n",
              "    <tr>\n",
              "      <th>Heart Cut Product Properties_n-Undecane_wt%</th>\n",
              "      <td>0.999714</td>\n",
              "      <td>1.24873e-06</td>\n",
              "      <td>NaN</td>\n",
              "    </tr>\n",
              "    <tr>\n",
              "      <th>Heart Cut Product Properties_n-Pentylbenzene_wt%</th>\n",
              "      <td>0.999732</td>\n",
              "      <td>2.30227e-07</td>\n",
              "      <td>0.603906</td>\n",
              "    </tr>\n",
              "    <tr>\n",
              "      <th>Heart Cut Product Properties_n-Dodecane_wt%</th>\n",
              "      <td>0.999871</td>\n",
              "      <td>4.80606e-10</td>\n",
              "      <td>NaN</td>\n",
              "    </tr>\n",
              "    <tr>\n",
              "      <th>Heart Cut Product Properties_n-Hexylbenzene_wt%</th>\n",
              "      <td>0.99971</td>\n",
              "      <td>8.85581e-09</td>\n",
              "      <td>NaN</td>\n",
              "    </tr>\n",
              "    <tr>\n",
              "      <th>Heart Cut Product Properties_n-Tridecane_wt%</th>\n",
              "      <td>1</td>\n",
              "      <td>0</td>\n",
              "      <td>NaN</td>\n",
              "    </tr>\n",
              "    <tr>\n",
              "      <th>AVG</th>\n",
              "      <td>0.999334</td>\n",
              "      <td>0.00036601</td>\n",
              "      <td>0.624104</td>\n",
              "    </tr>\n",
              "  </tbody>\n",
              "</table>\n",
              "</div>"
            ],
            "text/plain": [
              "                                                          R2  ...      MAPE\n",
              "Heart Cut Product Properties_Oxygen_wt%                    1  ...       NaN\n",
              "Heart Cut Product Properties_Methane_wt%                   1  ...       NaN\n",
              "Heart Cut Product Properties_Ethane_wt%                    1  ...       NaN\n",
              "Heart Cut Product Properties_Propane_wt%            0.998032  ...       NaN\n",
              "Heart Cut Product Properties_n-Butane_wt%           0.998024  ...       NaN\n",
              "Heart Cut Product Properties_i-Pentane_wt%          0.998412  ...   2.39456\n",
              "Heart Cut Product Properties_n-Pentane_wt%          0.998097  ...   2.45597\n",
              "Heart Cut Product Properties_tr2-Pentene_wt%        0.997757  ...       NaN\n",
              "Heart Cut Product Properties_Cyclopentane_wt%       0.996528  ...       NaN\n",
              "Heart Cut Product Properties_3-Methylpentane_wt%    0.997102  ...   2.50879\n",
              "Heart Cut Product Properties_tr2-Hexene_wt%         0.998882  ...       NaN\n",
              "Heart Cut Product Properties_n-Hexane_wt%           0.997585  ...   2.19084\n",
              "Heart Cut Product Properties_Methylcyclopentane...  0.998577  ...   1.18573\n",
              "Heart Cut Product Properties_2,2-Dimethylpentan...  0.999478  ...  0.629285\n",
              "Heart Cut Product Properties_Benzene_wt%            0.999485  ...       NaN\n",
              "Heart Cut Product Properties_Cyclohexane_wt%        0.999653  ...  0.631544\n",
              "Heart Cut Product Properties_2,2,3-Trimethylbut...  0.999577  ...  0.506675\n",
              "Heart Cut Product Properties_4-Methyl-1-hexene_wt%  0.999731  ...  0.336013\n",
              "Heart Cut Product Properties_2-Methylhexane_wt%     0.999842  ...  0.218086\n",
              "Heart Cut Product Properties_t-1,3-Dimethylcycl...  0.999941  ...  0.178587\n",
              "Heart Cut Product Properties_n-Heptane_wt%          0.999929  ...  0.157725\n",
              "Heart Cut Product Properties_H2O_wt%                       1  ...       NaN\n",
              "Heart Cut Product Properties_Methylcyclohexane_wt%  0.999947  ...  0.156895\n",
              "Heart Cut Product Properties_Ethylcyclopentane_wt%  0.999947  ...  0.156792\n",
              "Heart Cut Product Properties_2,3-Dimethyl-1-hex...  0.999918  ...  0.159777\n",
              "Heart Cut Product Properties_Toluene_wt%            0.999917  ...  0.157258\n",
              "Heart Cut Product Properties_2-Methylheptane_wt%    0.999847  ...  0.176145\n",
              "Heart Cut Product Properties_n-Octane_wt%           0.999799  ...  0.231566\n",
              "Heart Cut Product Properties_Ethylcyclohexane_wt%   0.999431  ...  0.287298\n",
              "Heart Cut Product Properties_EthylBenzene_wt%       0.999928  ...   0.30463\n",
              "Heart Cut Product Properties_P-Xylene_wt%           0.999928  ...  0.377439\n",
              "Heart Cut Product Properties_M-Xylene_wt%           0.999924  ...   0.40107\n",
              "Heart Cut Product Properties_O-Xylene_wt%           0.999838  ...  0.552369\n",
              "Heart Cut Product Properties_2-Methyloctane_wt%      0.99931  ...  0.507827\n",
              "Heart Cut Product Properties_1-Nonene_wt%           0.998771  ...  0.537567\n",
              "Heart Cut Product Properties_n-Nonane_wt%           0.999229  ...   0.55347\n",
              "Heart Cut Product Properties_i-Propylbenzene_wt%    0.999547  ...  0.541158\n",
              "Heart Cut Product Properties_1-trans-3,5-Trimet...  0.999222  ...  0.475582\n",
              "Heart Cut Product Properties_n-Propylcyclohexan...  0.998573  ...  0.424745\n",
              "Heart Cut Product Properties_n-Propylbenzene_wt%    0.999511  ...  0.445811\n",
              "Heart Cut Product Properties_1,3,5-Trimethylben...  0.999571  ...   0.48251\n",
              "Heart Cut Product Properties_1-Methyl-2-ethylbe...  0.999555  ...  0.436514\n",
              "Heart Cut Product Properties_1,2,3-Trimethylben...  0.999663  ...  0.495839\n",
              "Heart Cut Product Properties_2,4-Dimethyloctane...  0.999022  ...  0.489951\n",
              "Heart Cut Product Properties_2,2,3,3-Tetramethy...   0.99914  ...  0.465856\n",
              "Heart Cut Product Properties_3-Methylnonane_wt%     0.999467  ...  0.478597\n",
              "Heart Cut Product Properties_tert-Butylcyclohex...  0.999857  ...  0.501605\n",
              "Heart Cut Product Properties_n-Decane_wt%           0.999715  ...       NaN\n",
              "Heart Cut Product Properties_1,2-Diethylbenzene...  0.999772  ...  0.544074\n",
              "Heart Cut Product Properties_n-Undecane_wt%         0.999714  ...       NaN\n",
              "Heart Cut Product Properties_n-Pentylbenzene_wt%    0.999732  ...  0.603906\n",
              "Heart Cut Product Properties_n-Dodecane_wt%         0.999871  ...       NaN\n",
              "Heart Cut Product Properties_n-Hexylbenzene_wt%      0.99971  ...       NaN\n",
              "Heart Cut Product Properties_n-Tridecane_wt%               1  ...       NaN\n",
              "AVG                                                 0.999334  ...  0.624104\n",
              "\n",
              "[55 rows x 3 columns]"
            ]
          },
          "metadata": {
            "tags": []
          },
          "execution_count": 46
        }
      ]
    }
  ]
}