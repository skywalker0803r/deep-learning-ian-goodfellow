{
  "nbformat": 4,
  "nbformat_minor": 0,
  "metadata": {
    "colab": {
      "name": "R2D2.ipynb",
      "provenance": [],
      "authorship_tag": "ABX9TyNGKFTNtbykKXbziCm2T76N",
      "include_colab_link": true
    },
    "kernelspec": {
      "name": "python3",
      "display_name": "Python 3"
    }
  },
  "cells": [
    {
      "cell_type": "markdown",
      "metadata": {
        "id": "view-in-github",
        "colab_type": "text"
      },
      "source": [
        "<a href=\"https://colab.research.google.com/github/skywalker0803r/deep-learning-ian-goodfellow/blob/master/R2D2.ipynb\" target=\"_parent\"><img src=\"https://colab.research.google.com/assets/colab-badge.svg\" alt=\"Open In Colab\"/></a>"
      ]
    },
    {
      "cell_type": "code",
      "metadata": {
        "id": "zyWOweI1JFWj"
      },
      "source": [
        "import torch\n",
        "import torch.nn as nn\n",
        "import numpy as np"
      ],
      "execution_count": 1,
      "outputs": []
    },
    {
      "cell_type": "code",
      "metadata": {
        "id": "3svzjFYJMLgW"
      },
      "source": [
        "class R2D2(nn.Module):\n",
        "  def __init__(self,obs_size,n_actions):\n",
        "    super().__init__()\n",
        "    self.l1 = nn.Linear(obs_size,128)\n",
        "    self.l2 = nn.LSTMCell(128,128)\n",
        "    self.l3 = nn.Linear(128,n_actions)\n",
        "    self.hx = None\n",
        "    self.cx = None\n",
        "  \n",
        "  def forward(self,x):\n",
        "    x = torch.tanh(self.l1(x))\n",
        "    if self.hx is None:\n",
        "      self.hx = torch.zeros((x.size()[0],128))\n",
        "      self.cx = torch.zeros((x.size()[0],128))\n",
        "    self.hx, self.cx = self.l2(x, (self.hx, self.cx))\n",
        "    x = torch.tanh(self.hx)\n",
        "    x = torch.tanh(self.l3(x))\n",
        "    return x"
      ],
      "execution_count": 2,
      "outputs": []
    },
    {
      "cell_type": "code",
      "metadata": {
        "id": "gKvhGgAwMOME"
      },
      "source": [
        "class MLP(nn.Module):\n",
        "  def __init__(self,obs_size,n_actions):\n",
        "    super().__init__()\n",
        "    self.l1 = nn.Linear(obs_size,128)\n",
        "    self.l2 = nn.Linear(128,n_actions)\n",
        "  \n",
        "  def forward(self,x):\n",
        "    x = torch.tanh(self.l1(x))\n",
        "    x = torch.tanh(self.l2(x))\n",
        "    return x"
      ],
      "execution_count": 3,
      "outputs": []
    },
    {
      "cell_type": "code",
      "metadata": {
        "id": "MMdD0h9NJRBg"
      },
      "source": [
        "actor1 = R2D2(10,1)\n",
        "actor2 = MLP(10,1)\n",
        "x = torch.rand((1,10))"
      ],
      "execution_count": 4,
      "outputs": []
    },
    {
      "cell_type": "markdown",
      "metadata": {
        "id": "mEVbkpWIM2uO"
      },
      "source": [
        "# R2D2(每次結果都不一樣)"
      ]
    },
    {
      "cell_type": "code",
      "metadata": {
        "id": "c_Q8dWCuLkOe",
        "outputId": "6859dceb-58ce-402e-b613-dc5c10e804bf",
        "colab": {
          "base_uri": "https://localhost:8080/"
        }
      },
      "source": [
        "for i in range(3):\n",
        "  print(actor1(x))"
      ],
      "execution_count": 5,
      "outputs": [
        {
          "output_type": "stream",
          "text": [
            "tensor([[-0.0702]], grad_fn=<TanhBackward>)\n",
            "tensor([[-0.0650]], grad_fn=<TanhBackward>)\n",
            "tensor([[-0.0625]], grad_fn=<TanhBackward>)\n"
          ],
          "name": "stdout"
        }
      ]
    },
    {
      "cell_type": "markdown",
      "metadata": {
        "id": "4AKgqrKsM6Pc"
      },
      "source": [
        "# MLP(每次結果都一樣)"
      ]
    },
    {
      "cell_type": "code",
      "metadata": {
        "id": "RhxwF-riLlbm",
        "outputId": "292c54cb-f6fc-4e31-b1ae-85d3631103fd",
        "colab": {
          "base_uri": "https://localhost:8080/"
        }
      },
      "source": [
        "for i in range(3):\n",
        "  print(actor2(x))"
      ],
      "execution_count": 6,
      "outputs": [
        {
          "output_type": "stream",
          "text": [
            "tensor([[-0.1362]], grad_fn=<TanhBackward>)\n",
            "tensor([[-0.1362]], grad_fn=<TanhBackward>)\n",
            "tensor([[-0.1362]], grad_fn=<TanhBackward>)\n"
          ],
          "name": "stdout"
        }
      ]
    },
    {
      "cell_type": "code",
      "metadata": {
        "id": "gVu6rDSeMjDg"
      },
      "source": [
        ""
      ],
      "execution_count": 6,
      "outputs": []
    },
    {
      "cell_type": "code",
      "metadata": {
        "id": "yzHzQAzFOaM3"
      },
      "source": [
        ""
      ],
      "execution_count": 6,
      "outputs": []
    }
  ]
}