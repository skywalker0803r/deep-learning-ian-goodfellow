{
  "nbformat": 4,
  "nbformat_minor": 0,
  "metadata": {
    "colab": {
      "name": "LSTNet.ipynb",
      "provenance": [],
      "authorship_tag": "ABX9TyPAGcumt5fr6wAnFWiN8XXn",
      "include_colab_link": true
    },
    "kernelspec": {
      "name": "python3",
      "display_name": "Python 3"
    }
  },
  "cells": [
    {
      "cell_type": "markdown",
      "metadata": {
        "id": "view-in-github",
        "colab_type": "text"
      },
      "source": [
        "<a href=\"https://colab.research.google.com/github/skywalker0803r/deep-learning-ian-goodfellow/blob/master/LSTNet.ipynb\" target=\"_parent\"><img src=\"https://colab.research.google.com/assets/colab-badge.svg\" alt=\"Open In Colab\"/></a>"
      ]
    },
    {
      "cell_type": "code",
      "metadata": {
        "colab": {
          "base_uri": "https://localhost:8080/",
          "height": 228
        },
        "id": "IDLckSfSdJtQ",
        "outputId": "de5fefd3-bbca-4a23-914d-e088e4f58724"
      },
      "source": [
        "import torch\n",
        "from torch import nn\n",
        "from torch.optim import Adam\n",
        "import torch.nn.functional as F \n",
        "import requests\n",
        "import numpy as np\n",
        "import pandas as pd\n",
        "import pandas_datareader.data as web\n",
        "from torch.utils.data import TensorDataset,DataLoader   \n",
        "import datetime\n",
        "from sklearn.preprocessing import MinMaxScaler,StandardScaler\n",
        "from copy import deepcopy\n",
        "import matplotlib.pyplot as plt\n",
        "\n",
        "# get model\n",
        "exec(requests.get('https://raw.githubusercontent.com/skywalker0803r/LSTNet.pytorch/master/LSTNet.py').text)\n",
        "model = LSTNet(num_features=5,output_out_features=1)\n",
        "\n",
        "# get data\n",
        "start,end = datetime.datetime(2010,1,1),datetime.date.today()\n",
        "df = web.DataReader(\"6005.tw\", \"yahoo\", start, end).drop('Adj Close',axis=1)\n",
        "df.head()"
      ],
      "execution_count": 1,
      "outputs": [
        {
          "output_type": "execute_result",
          "data": {
            "text/html": [
              "<div>\n",
              "<style scoped>\n",
              "    .dataframe tbody tr th:only-of-type {\n",
              "        vertical-align: middle;\n",
              "    }\n",
              "\n",
              "    .dataframe tbody tr th {\n",
              "        vertical-align: top;\n",
              "    }\n",
              "\n",
              "    .dataframe thead th {\n",
              "        text-align: right;\n",
              "    }\n",
              "</style>\n",
              "<table border=\"1\" class=\"dataframe\">\n",
              "  <thead>\n",
              "    <tr style=\"text-align: right;\">\n",
              "      <th></th>\n",
              "      <th>High</th>\n",
              "      <th>Low</th>\n",
              "      <th>Open</th>\n",
              "      <th>Close</th>\n",
              "      <th>Volume</th>\n",
              "    </tr>\n",
              "    <tr>\n",
              "      <th>Date</th>\n",
              "      <th></th>\n",
              "      <th></th>\n",
              "      <th></th>\n",
              "      <th></th>\n",
              "      <th></th>\n",
              "    </tr>\n",
              "  </thead>\n",
              "  <tbody>\n",
              "    <tr>\n",
              "      <th>2010-01-04</th>\n",
              "      <td>17.158199</td>\n",
              "      <td>16.606100</td>\n",
              "      <td>16.903400</td>\n",
              "      <td>16.818501</td>\n",
              "      <td>34331786.0</td>\n",
              "    </tr>\n",
              "    <tr>\n",
              "      <th>2010-01-05</th>\n",
              "      <td>17.200701</td>\n",
              "      <td>16.563601</td>\n",
              "      <td>16.988300</td>\n",
              "      <td>16.860901</td>\n",
              "      <td>25989593.0</td>\n",
              "    </tr>\n",
              "    <tr>\n",
              "      <th>2010-01-06</th>\n",
              "      <td>17.413000</td>\n",
              "      <td>16.648600</td>\n",
              "      <td>16.945900</td>\n",
              "      <td>17.115700</td>\n",
              "      <td>28718524.0</td>\n",
              "    </tr>\n",
              "    <tr>\n",
              "      <th>2010-01-07</th>\n",
              "      <td>17.158199</td>\n",
              "      <td>16.606100</td>\n",
              "      <td>17.158199</td>\n",
              "      <td>16.606100</td>\n",
              "      <td>21070925.0</td>\n",
              "    </tr>\n",
              "    <tr>\n",
              "      <th>2010-01-08</th>\n",
              "      <td>16.945900</td>\n",
              "      <td>16.393700</td>\n",
              "      <td>16.648600</td>\n",
              "      <td>16.733500</td>\n",
              "      <td>18418517.0</td>\n",
              "    </tr>\n",
              "  </tbody>\n",
              "</table>\n",
              "</div>"
            ],
            "text/plain": [
              "                 High        Low       Open      Close      Volume\n",
              "Date                                                              \n",
              "2010-01-04  17.158199  16.606100  16.903400  16.818501  34331786.0\n",
              "2010-01-05  17.200701  16.563601  16.988300  16.860901  25989593.0\n",
              "2010-01-06  17.413000  16.648600  16.945900  17.115700  28718524.0\n",
              "2010-01-07  17.158199  16.606100  17.158199  16.606100  21070925.0\n",
              "2010-01-08  16.945900  16.393700  16.648600  16.733500  18418517.0"
            ]
          },
          "metadata": {
            "tags": []
          },
          "execution_count": 1
        }
      ]
    },
    {
      "cell_type": "code",
      "metadata": {
        "id": "vjVSrYFvhkJG"
      },
      "source": [
        "def make_data_iter(df,ss_x,time_step=48):\n",
        "  data = {'x':[],'y':[]}\n",
        "  for t in range(len(df)-time_step):\n",
        "    data['x'].append(ss_x.transform(df.iloc[t:t+time_step,:].values))\n",
        "    data['y'].append(df.iloc[[t+time_step],:][['Close']].values)\n",
        "  data['x'] = np.array(data['x'])\n",
        "  data['y'] = np.array(data['y'])\n",
        "  print(data['x'].shape,data['y'].shape)\n",
        "  data = TensorDataset(torch.FloatTensor(data['x']),torch.FloatTensor(data['y']))\n",
        "  data_iter = DataLoader(data,batch_size=64)\n",
        "  return data_iter\n",
        "\n",
        "def split_df(df):\n",
        "  sp1 = int(len(df)*0.8)\n",
        "  sp2 = int(len(df)*0.9)\n",
        "  train = df.iloc[:sp1]\n",
        "  valid = df.iloc[sp1:sp2]\n",
        "  test = df.iloc[sp2:]\n",
        "  return train,valid,test"
      ],
      "execution_count": 2,
      "outputs": []
    },
    {
      "cell_type": "code",
      "metadata": {
        "colab": {
          "base_uri": "https://localhost:8080/"
        },
        "id": "LWrEjoCZjCYa",
        "outputId": "a32b5a2b-1ec1-40d5-cba3-b3b17b51905b"
      },
      "source": [
        "# split data\n",
        "train,valid,test = split_df(df)\n",
        "# use train_data make scaler\n",
        "ss_x = StandardScaler().fit(train)\n",
        "# apply scaler and make data_iter\n",
        "train_iter = make_data_iter(train,ss_x)\n",
        "valid_iter = make_data_iter(valid,ss_x)\n",
        "test_iter = make_data_iter(test,ss_x)"
      ],
      "execution_count": 3,
      "outputs": [
        {
          "output_type": "stream",
          "text": [
            "(2092, 48, 5) (2092, 1, 1)\n",
            "(220, 48, 5) (220, 1, 1)\n",
            "(220, 48, 5) (220, 1, 1)\n"
          ],
          "name": "stdout"
        }
      ]
    },
    {
      "cell_type": "markdown",
      "metadata": {
        "id": "sr3C5RdHqMBV"
      },
      "source": [
        "# test model"
      ]
    },
    {
      "cell_type": "code",
      "metadata": {
        "colab": {
          "base_uri": "https://localhost:8080/"
        },
        "id": "KGbwFukddMVf",
        "outputId": "c8d41a31-e5ab-42e4-d6d2-f86c626dddf5"
      },
      "source": [
        "for x,y in train_iter:\n",
        "  y = y.reshape(-1,1)\n",
        "  print(x.shape,y.shape)\n",
        "  y_hat = model(x)\n",
        "  print(y_hat.shape)\n",
        "  break"
      ],
      "execution_count": 4,
      "outputs": [
        {
          "output_type": "stream",
          "text": [
            "torch.Size([64, 48, 5]) torch.Size([64, 1])\n",
            "torch.Size([64, 1])\n"
          ],
          "name": "stdout"
        }
      ]
    },
    {
      "cell_type": "markdown",
      "metadata": {
        "id": "cYKma3xPoFoy"
      },
      "source": [
        "# loss and optimizer"
      ]
    },
    {
      "cell_type": "code",
      "metadata": {
        "id": "mxgt9ODihIT8"
      },
      "source": [
        "loss_fn = lambda a,b:((a-b)**2).mean()\n",
        "optimizer = Adam(model.parameters(),lr=0.001)"
      ],
      "execution_count": 5,
      "outputs": []
    },
    {
      "cell_type": "markdown",
      "metadata": {
        "id": "8W6m39c5qnjB"
      },
      "source": [
        "# train_loop"
      ]
    },
    {
      "cell_type": "code",
      "metadata": {
        "id": "xiHv40WYqUYC"
      },
      "source": [
        "def train_loop(net,train_iter,valid_iter,loss_function,optimizer,num_epochs=100):\n",
        "    train_history = []\n",
        "    valid_history = []\n",
        "    best_loss = np.inf\n",
        "    best_net = None\n",
        "    \n",
        "    for epoch in range(num_epochs):\n",
        "        # train\n",
        "        net.train()\n",
        "        train_loss = 0\n",
        "        t = 0\n",
        "        for x,y in train_iter:\n",
        "            loss = loss_function(net(x),y.reshape(-1,1))\n",
        "            # weight update\n",
        "            loss.backward()\n",
        "            optimizer.step()\n",
        "            optimizer.zero_grad()\n",
        "            # record loss\n",
        "            train_loss += loss.item()\n",
        "            t += 1\n",
        "        train_history.append(train_loss/t)\n",
        "        \n",
        "        # eval\n",
        "        net.eval()\n",
        "        valid_loss = 0\n",
        "        t = 0\n",
        "        for x,y in valid_iter:\n",
        "            loss = loss_function(net(x),y)\n",
        "            # record loss\n",
        "            valid_loss += loss.item()\n",
        "            t += 1\n",
        "        valid_history.append(valid_loss/t)\n",
        "        \n",
        "        # print the epoch loss\n",
        "        print(\"epochs {} train loss {:.4f} valid loss {:.4f}\".format(\n",
        "            epoch,train_history[-1],valid_history[-1]))\n",
        "        \n",
        "        # record best_net\n",
        "        if valid_history[-1] <= best_loss:\n",
        "            best_loss = valid_history[-1]\n",
        "            best_net = deepcopy(net.eval())\n",
        "            print('record net')\n",
        "    \n",
        "    # when end all epoch plot history\n",
        "    plt.plot(np.array(train_history),label='train')\n",
        "    plt.plot(np.array(valid_history),label='valid')\n",
        "    plt.title('loss history')\n",
        "    plt.legend()\n",
        "    plt.show()\n",
        "    \n",
        "    # return best_net\n",
        "    return best_net"
      ],
      "execution_count": 6,
      "outputs": []
    },
    {
      "cell_type": "code",
      "metadata": {
        "colab": {
          "base_uri": "https://localhost:8080/",
          "height": 1000
        },
        "id": "uh_UsTFaq3Fa",
        "outputId": "967f7e59-c301-4b17-ecef-1758bee32feb"
      },
      "source": [
        "best_model = train_loop(model,train_iter,valid_iter,loss_fn,optimizer,num_epochs=100)"
      ],
      "execution_count": 7,
      "outputs": [
        {
          "output_type": "stream",
          "text": [
            "epochs 0 train loss 90.5460 valid loss 33.0686\n",
            "record net\n",
            "epochs 1 train loss 24.4144 valid loss 2.9590\n",
            "record net\n",
            "epochs 2 train loss 4.8115 valid loss 0.1530\n",
            "record net\n",
            "epochs 3 train loss 1.6484 valid loss 0.1728\n",
            "epochs 4 train loss 0.9916 valid loss 0.0574\n",
            "record net\n",
            "epochs 5 train loss 0.7301 valid loss 0.0585\n",
            "epochs 6 train loss 0.6288 valid loss 0.0521\n",
            "record net\n",
            "epochs 7 train loss 0.5975 valid loss 0.0505\n",
            "record net\n",
            "epochs 8 train loss 0.5719 valid loss 0.0448\n",
            "record net\n",
            "epochs 9 train loss 0.5487 valid loss 0.0482\n",
            "epochs 10 train loss 0.5531 valid loss 0.0490\n",
            "epochs 11 train loss 0.5322 valid loss 0.0500\n",
            "epochs 12 train loss 0.5386 valid loss 0.0503\n",
            "epochs 13 train loss 0.5218 valid loss 0.0514\n",
            "epochs 14 train loss 0.5092 valid loss 0.0558\n",
            "epochs 15 train loss 0.4859 valid loss 0.0515\n",
            "epochs 16 train loss 0.4758 valid loss 0.0611\n",
            "epochs 17 train loss 0.4916 valid loss 0.0650\n",
            "epochs 18 train loss 0.4954 valid loss 0.0572\n",
            "epochs 19 train loss 0.4888 valid loss 0.0678\n",
            "epochs 20 train loss 0.4861 valid loss 0.0566\n",
            "epochs 21 train loss 0.4751 valid loss 0.0719\n",
            "epochs 22 train loss 0.4690 valid loss 0.0733\n",
            "epochs 23 train loss 0.4765 valid loss 0.0657\n",
            "epochs 24 train loss 0.4633 valid loss 0.0647\n",
            "epochs 25 train loss 0.4545 valid loss 0.0630\n",
            "epochs 26 train loss 0.4630 valid loss 0.0642\n",
            "epochs 27 train loss 0.4610 valid loss 0.0806\n",
            "epochs 28 train loss 0.4550 valid loss 0.0624\n",
            "epochs 29 train loss 0.4473 valid loss 0.0719\n",
            "epochs 30 train loss 0.4413 valid loss 0.0777\n",
            "epochs 31 train loss 0.4669 valid loss 0.0793\n",
            "epochs 32 train loss 0.4264 valid loss 0.0599\n",
            "epochs 33 train loss 0.4120 valid loss 0.0858\n",
            "epochs 34 train loss 0.4537 valid loss 0.0651\n",
            "epochs 35 train loss 0.4434 valid loss 0.0734\n",
            "epochs 36 train loss 0.4295 valid loss 0.0640\n",
            "epochs 37 train loss 0.4494 valid loss 0.0649\n",
            "epochs 38 train loss 0.4133 valid loss 0.0905\n",
            "epochs 39 train loss 0.4253 valid loss 0.0821\n",
            "epochs 40 train loss 0.4364 valid loss 0.0795\n",
            "epochs 41 train loss 0.4066 valid loss 0.0686\n",
            "epochs 42 train loss 0.4225 valid loss 0.0690\n",
            "epochs 43 train loss 0.4197 valid loss 0.0808\n",
            "epochs 44 train loss 0.4045 valid loss 0.0749\n",
            "epochs 45 train loss 0.3907 valid loss 0.0846\n",
            "epochs 46 train loss 0.3846 valid loss 0.0732\n",
            "epochs 47 train loss 0.3650 valid loss 0.1230\n",
            "epochs 48 train loss 0.3913 valid loss 0.0880\n",
            "epochs 49 train loss 0.3872 valid loss 0.0758\n",
            "epochs 50 train loss 0.3882 valid loss 0.0687\n",
            "epochs 51 train loss 0.3871 valid loss 0.1074\n",
            "epochs 52 train loss 0.3949 valid loss 0.0784\n",
            "epochs 53 train loss 0.3690 valid loss 0.0972\n",
            "epochs 54 train loss 0.3722 valid loss 0.0688\n",
            "epochs 55 train loss 0.3651 valid loss 0.1333\n",
            "epochs 56 train loss 0.3843 valid loss 0.0691\n",
            "epochs 57 train loss 0.3606 valid loss 0.0955\n",
            "epochs 58 train loss 0.3570 valid loss 0.0917\n",
            "epochs 59 train loss 0.3551 valid loss 0.0890\n",
            "epochs 60 train loss 0.3549 valid loss 0.0813\n",
            "epochs 61 train loss 0.3482 valid loss 0.0719\n",
            "epochs 62 train loss 0.3421 valid loss 0.1435\n",
            "epochs 63 train loss 0.3537 valid loss 0.1307\n",
            "epochs 64 train loss 0.3588 valid loss 0.1232\n",
            "epochs 65 train loss 0.3624 valid loss 0.0799\n",
            "epochs 66 train loss 0.3574 valid loss 0.1295\n",
            "epochs 67 train loss 0.3712 valid loss 0.0654\n",
            "epochs 68 train loss 0.3585 valid loss 0.0854\n",
            "epochs 69 train loss 0.3379 valid loss 0.0751\n",
            "epochs 70 train loss 0.3740 valid loss 0.2424\n",
            "epochs 71 train loss 0.3810 valid loss 0.0777\n",
            "epochs 72 train loss 0.3669 valid loss 0.1739\n",
            "epochs 73 train loss 0.3776 valid loss 0.0666\n",
            "epochs 74 train loss 0.3818 valid loss 0.1964\n",
            "epochs 75 train loss 0.3912 valid loss 0.0634\n",
            "epochs 76 train loss 0.3661 valid loss 0.1851\n",
            "epochs 77 train loss 0.3553 valid loss 0.0667\n",
            "epochs 78 train loss 0.3551 valid loss 0.1276\n",
            "epochs 79 train loss 0.3598 valid loss 0.0664\n",
            "epochs 80 train loss 0.3536 valid loss 0.1047\n",
            "epochs 81 train loss 0.3407 valid loss 0.0715\n",
            "epochs 82 train loss 0.3335 valid loss 0.1581\n",
            "epochs 83 train loss 0.3240 valid loss 0.1002\n",
            "epochs 84 train loss 0.3279 valid loss 0.0994\n",
            "epochs 85 train loss 0.3228 valid loss 0.0662\n",
            "epochs 86 train loss 0.3374 valid loss 0.1767\n",
            "epochs 87 train loss 0.3341 valid loss 0.0862\n",
            "epochs 88 train loss 0.3202 valid loss 0.1432\n",
            "epochs 89 train loss 0.3426 valid loss 0.0700\n",
            "epochs 90 train loss 0.3303 valid loss 0.1362\n",
            "epochs 91 train loss 0.3283 valid loss 0.0687\n",
            "epochs 92 train loss 0.3385 valid loss 0.1454\n",
            "epochs 93 train loss 0.3442 valid loss 0.0773\n",
            "epochs 94 train loss 0.3460 valid loss 0.1961\n",
            "epochs 95 train loss 0.3493 valid loss 0.0692\n",
            "epochs 96 train loss 0.3420 valid loss 0.1680\n",
            "epochs 97 train loss 0.3450 valid loss 0.0758\n",
            "epochs 98 train loss 0.3185 valid loss 0.1096\n",
            "epochs 99 train loss 0.3177 valid loss 0.0669\n"
          ],
          "name": "stdout"
        },
        {
          "output_type": "display_data",
          "data": {
            "image/png": "[encoded data removed]",
            "text/plain": [
              "<Figure size 432x288 with 1 Axes>"
            ]
          },
          "metadata": {
            "tags": [],
            "needs_background": "light"
          }
        }
      ]
    },
    {
      "cell_type": "code",
      "metadata": {
        "id": "I0RfCZJwyqyb"
      },
      "source": [
        "def evaluate(model,data_iter):\n",
        "  x = data_iter.dataset.tensors[0]\n",
        "  y = data_iter.dataset.tensors[1]\n",
        "  y_hat = model(x)\n",
        "  y_hat = y_hat.detach().numpy().reshape(-1,1)\n",
        "  y_real = y.detach().numpy().reshape(-1,1)\n",
        "  plt.plot(y_hat,label='y_hat')\n",
        "  plt.plot(y_real,label='y_real')\n",
        "  plt.legend()\n",
        "  plt.show()"
      ],
      "execution_count": 8,
      "outputs": []
    },
    {
      "cell_type": "code",
      "metadata": {
        "colab": {
          "base_uri": "https://localhost:8080/",
          "height": 265
        },
        "id": "VBCF6vOeyTyI",
        "outputId": "497c379d-3974-4166-e338-6567156f0abf"
      },
      "source": [
        "evaluate(best_model,train_iter)"
      ],
      "execution_count": 9,
      "outputs": [
        {
          "output_type": "display_data",
          "data": {
            "image/png": "[encoded data removed]",
            "text/plain": [
              "<Figure size 432x288 with 1 Axes>"
            ]
          },
          "metadata": {
            "tags": [],
            "needs_background": "light"
          }
        }
      ]
    },
    {
      "cell_type": "code",
      "metadata": {
        "colab": {
          "base_uri": "https://localhost:8080/",
          "height": 269
        },
        "id": "7eXvK_SazPeI",
        "outputId": "28e20361-dafe-4781-8246-baafee5597df"
      },
      "source": [
        "evaluate(best_model,valid_iter)"
      ],
      "execution_count": 10,
      "outputs": [
        {
          "output_type": "display_data",
          "data": {
            "image/png": "[encoded data removed]",
            "text/plain": [
              "<Figure size 432x288 with 1 Axes>"
            ]
          },
          "metadata": {
            "tags": [],
            "needs_background": "light"
          }
        }
      ]
    },
    {
      "cell_type": "code",
      "metadata": {
        "colab": {
          "base_uri": "https://localhost:8080/",
          "height": 265
        },
        "id": "M5W2sWclzSd4",
        "outputId": "61d5dd9d-d916-4e71-8c4c-c02b5f2d5738"
      },
      "source": [
        "evaluate(best_model,test_iter)"
      ],
      "execution_count": 11,
      "outputs": [
        {
          "output_type": "display_data",
          "data": {
            "image/png": "[encoded data removed]",
            "text/plain": [
              "<Figure size 432x288 with 1 Axes>"
            ]
          },
          "metadata": {
            "tags": [],
            "needs_background": "light"
          }
        }
      ]
    },
    {
      "cell_type": "code",
      "metadata": {
        "id": "DVSo3VK_zWPw"
      },
      "source": [
        ""
      ],
      "execution_count": 11,
      "outputs": []
    }
  ]
}