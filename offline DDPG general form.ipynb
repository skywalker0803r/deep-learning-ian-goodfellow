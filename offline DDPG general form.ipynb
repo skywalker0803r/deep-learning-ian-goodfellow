{
  "nbformat": 4,
  "nbformat_minor": 0,
  "metadata": {
    "colab": {
      "name": "R2D2.ipynb",
      "provenance": [],
      "authorship_tag": "ABX9TyNjLSc3Ol+ph/+lBacuXNzp",
      "include_colab_link": true
    },
    "kernelspec": {
      "name": "python3",
      "display_name": "Python 3"
    }
  },
  "cells": [
    {
      "cell_type": "markdown",
      "metadata": {
        "id": "view-in-github",
        "colab_type": "text"
      },
      "source": [
        "<a href=\"https://colab.research.google.com/github/skywalker0803r/deep-learning-ian-goodfellow/blob/master/offline%20DDPG%20general%20form.ipynb\" target=\"_parent\"><img src=\"https://colab.research.google.com/assets/colab-badge.svg\" alt=\"Open In Colab\"/></a>"
      ]
    },
    {
      "cell_type": "code",
      "metadata": {
        "id": "zyWOweI1JFWj"
      },
      "source": [
        "import torch\n",
        "import torch.nn as nn\n",
        "import numpy as np\n",
        "from torch.optim import Adam\n",
        "from torch.utils.data import TensorDataset,DataLoader\n",
        "\n",
        "# config\n",
        "data_size = 10000 \n",
        "batch_size = 256 \n",
        "hidden_size = 128\n",
        "state_size = 2 #['溫度,濕度']\n",
        "request_size = 1 #['需求產出']\n",
        "value_size = 1 #['實際產出']\n",
        "action_size = 10 #['感測器數量']\n",
        "time_step = 6 #['時間窗格']"
      ],
      "execution_count": 1,
      "outputs": []
    },
    {
      "cell_type": "code",
      "metadata": {
        "id": "07u3-m6Ybygh"
      },
      "source": [
        "# data\n",
        "data = {}\n",
        "data['state'] = torch.rand(data_size,state_size)\n",
        "data['request'] = torch.rand(data_size,request_size)\n",
        "data['action'] = torch.rand(data_size,time_step,action_size)\n",
        "data['value'] = torch.rand(data_size,value_size)\n",
        "data = TensorDataset(data['state'],data['request'],data['action'],data['value'])\n",
        "train_iter = DataLoader(data,batch_size,shuffle=True)"
      ],
      "execution_count": 2,
      "outputs": []
    },
    {
      "cell_type": "code",
      "metadata": {
        "id": "3svzjFYJMLgW"
      },
      "source": [
        "class R2D2(nn.Module):\n",
        "  def __init__(self,obs_size,n_actions,hidden_size):\n",
        "    super().__init__()\n",
        "    self.hidden_size = hidden_size\n",
        "    self.l1 = nn.Linear(obs_size,self.hidden_size)\n",
        "    self.l2 = nn.LSTMCell(self.hidden_size,self.hidden_size)\n",
        "    self.l3 = nn.Linear(self.hidden_size,n_actions)\n",
        "  \n",
        "  def forward(self,x,hx,cx):\n",
        "    x = torch.tanh(self.l1(x))\n",
        "    hx,cx = self.l2(x,(hx,cx))\n",
        "    x = torch.tanh(hx)\n",
        "    x = torch.tanh(self.l3(x))\n",
        "    return x,hx,cx"
      ],
      "execution_count": 3,
      "outputs": []
    },
    {
      "cell_type": "code",
      "metadata": {
        "id": "u6wMHg9xOyCo"
      },
      "source": [
        "class ActorCritic(nn.Module):\n",
        "  def __init__(self,actor,critic,time_step):\n",
        "    super().__init__()\n",
        "    self.time_step = time_step\n",
        "    self.actor = actor\n",
        "    self.critic = critic\n",
        "    self.actor_optimizer = Adam(actor.parameters())\n",
        "    self.critic_optimizer = Adam(critic.parameters())\n",
        "  \n",
        "  def forward():\n",
        "    raise NotImplementedError\n",
        "  \n",
        "  def train_critic(self,state,action,value):\n",
        "    '''\n",
        "    x: [state,action]\n",
        "    y: [value]\n",
        "    '監督式學習'\n",
        "    '''\n",
        "\n",
        "    # initialize\n",
        "    self.critic.train()\n",
        "    hx = torch.zeros((state.size()[0],critic.hidden_size))\n",
        "    cx = torch.zeros((state.size()[0],critic.hidden_size))\n",
        "    \n",
        "    # forward \n",
        "    for i in range(self.time_step):\n",
        "      output,hx,cx = critic(torch.cat((state,action[:,i,:]),dim=1),hx,cx)\n",
        "    \n",
        "    # compute loss\n",
        "    loss = ((output-value)**2).mean()\n",
        "    \n",
        "    # backward\n",
        "    loss.backward()\n",
        "    self.critic_optimizer.step()\n",
        "    self.critic_optimizer.zero_grad()\n",
        "\n",
        "    return loss.item()\n",
        "  \n",
        "  def train_actor(self,state,request):\n",
        "    '''\n",
        "    x: [state,request]\n",
        "    y: maximum critic value\n",
        "    '最大化產出'\n",
        "    '''\n",
        "    # initialize\n",
        "    self.actor.train()\n",
        "    self.critic.eval() \n",
        "    hx = torch.zeros((state.size()[0],actor.hidden_size))\n",
        "    cx = torch.zeros((state.size()[0],actor.hidden_size))\n",
        "    x = torch.cat((state,request),dim=1)\n",
        "    actions = torch.FloatTensor()\n",
        "    \n",
        "    # forward actor \n",
        "    for i in range(self.time_step):\n",
        "      output,hx,cx = actor(x,hx,cx)\n",
        "      actions = torch.cat((actions,output),dim=1)\n",
        "    actions = actions.reshape(state.size()[0],self.time_step,-1)\n",
        "\n",
        "    # forward critic\n",
        "    hx = torch.zeros((state.size()[0],critic.hidden_size))\n",
        "    cx = torch.zeros((state.size()[0],critic.hidden_size))\n",
        "    for i in range(self.time_step):\n",
        "      output,hx,cx = critic(torch.cat((state,actions[:,i,:]),dim=1),hx,cx)\n",
        "    \n",
        "    # compute loss 最大化產出\n",
        "    loss = -output.mean()\n",
        "    \n",
        "    # backward\n",
        "    loss.backward()\n",
        "    self.actor_optimizer.step()\n",
        "    self.actor.zero_grad()\n",
        "\n",
        "    return loss.item()"
      ],
      "execution_count": 4,
      "outputs": []
    },
    {
      "cell_type": "code",
      "metadata": {
        "id": "MMdD0h9NJRBg"
      },
      "source": [
        "actor = R2D2(state_size+request_size,action_size,hidden_size)\n",
        "critic = R2D2(state_size+action_size,value_size,hidden_size)\n",
        "model = ActorCritic(actor,critic,time_step)"
      ],
      "execution_count": 5,
      "outputs": []
    },
    {
      "cell_type": "markdown",
      "metadata": {
        "id": "myHQ6qE6X0GG"
      },
      "source": [
        "# train loop"
      ]
    },
    {
      "cell_type": "code",
      "metadata": {
        "id": "BDLwhCoEelnM"
      },
      "source": [
        "def train_critic():\n",
        "  loss = 0\n",
        "  for i,(bs,br,ba,bv) in enumerate(train_iter):\n",
        "    loss += model.train_critic(bs,ba,bv)\n",
        "  return loss\n",
        "\n",
        "def train_actor():\n",
        "  loss = 0\n",
        "  for i,(bs,br,ba,bv) in enumerate(train_iter):\n",
        "    loss += model.train_actor(bs,br)\n",
        "  return loss"
      ],
      "execution_count": 6,
      "outputs": []
    },
    {
      "cell_type": "code",
      "metadata": {
        "id": "OBEW8BTMXxCb"
      },
      "source": [
        "def train(model,train_iter,epochs=100):\n",
        "  train_history = {}\n",
        "  train_history['actor'] = []\n",
        "  train_history['critic'] = []\n",
        "  \n",
        "  for epoch in range(epochs):\n",
        "    loss = train_critic()\n",
        "    train_history['critic'].append(loss)\n",
        "    print('epoch:{} critic_loss:{}'.format(epoch,loss))\n",
        "    \n",
        "  for epoch in range(epochs):\n",
        "    loss = train_actor()\n",
        "    train_history['actor'].append(loss)\n",
        "    print('epoch:{} actor_loss:{}'.format(epoch,loss))\n",
        "    \n",
        "  return model,train_history"
      ],
      "execution_count": 7,
      "outputs": []
    },
    {
      "cell_type": "code",
      "metadata": {
        "id": "jPXYk0FgaO9W",
        "outputId": "2f60c5e1-fbd7-43a1-8bbc-e31f7f7bf273",
        "colab": {
          "base_uri": "https://localhost:8080/"
        }
      },
      "source": [
        "model,train_history = train(model,train_iter,epochs=100)"
      ],
      "execution_count": 8,
      "outputs": [
        {
          "output_type": "stream",
          "text": [
            "epoch:0 critic_loss:3.9076488316059113\n",
            "epoch:1 critic_loss:3.377780094742775\n",
            "epoch:2 critic_loss:3.3816442862153053\n",
            "epoch:3 critic_loss:3.363008014857769\n",
            "epoch:4 critic_loss:3.3408407419919968\n",
            "epoch:5 critic_loss:3.3425231501460075\n",
            "epoch:6 critic_loss:3.371134966611862\n",
            "epoch:7 critic_loss:3.3517239317297935\n",
            "epoch:8 critic_loss:3.33962619304657\n",
            "epoch:9 critic_loss:3.3540580347180367\n",
            "epoch:10 critic_loss:3.3382977917790413\n",
            "epoch:11 critic_loss:3.353832930326462\n",
            "epoch:12 critic_loss:3.349624417722225\n",
            "epoch:13 critic_loss:3.341405026614666\n",
            "epoch:14 critic_loss:3.3447036519646645\n",
            "epoch:15 critic_loss:3.3491202294826508\n",
            "epoch:16 critic_loss:3.376708433032036\n",
            "epoch:17 critic_loss:3.3095729425549507\n",
            "epoch:18 critic_loss:3.34204413741827\n",
            "epoch:19 critic_loss:3.3302014991641045\n",
            "epoch:20 critic_loss:3.334304131567478\n",
            "epoch:21 critic_loss:3.382670648396015\n",
            "epoch:22 critic_loss:3.326896585524082\n",
            "epoch:23 critic_loss:3.3349062725901604\n",
            "epoch:24 critic_loss:3.3570847138762474\n",
            "epoch:25 critic_loss:3.327521614730358\n",
            "epoch:26 critic_loss:3.3383555933833122\n",
            "epoch:27 critic_loss:3.334032118320465\n",
            "epoch:28 critic_loss:3.310206964612007\n",
            "epoch:29 critic_loss:3.3214995488524437\n",
            "epoch:30 critic_loss:3.3188927993178368\n",
            "epoch:31 critic_loss:3.3136429637670517\n",
            "epoch:32 critic_loss:3.352639891207218\n",
            "epoch:33 critic_loss:3.379810519516468\n",
            "epoch:34 critic_loss:3.3053323924541473\n",
            "epoch:35 critic_loss:3.285744335502386\n",
            "epoch:36 critic_loss:3.2814471274614334\n",
            "epoch:37 critic_loss:3.298583023250103\n",
            "epoch:38 critic_loss:3.2832417264580727\n",
            "epoch:39 critic_loss:3.3387855365872383\n",
            "epoch:40 critic_loss:3.3028886690735817\n",
            "epoch:41 critic_loss:3.320180580019951\n",
            "epoch:42 critic_loss:3.257485181093216\n",
            "epoch:43 critic_loss:3.242365751415491\n",
            "epoch:44 critic_loss:3.2507393062114716\n",
            "epoch:45 critic_loss:3.21832786872983\n",
            "epoch:46 critic_loss:3.2059187591075897\n",
            "epoch:47 critic_loss:3.2204190492630005\n",
            "epoch:48 critic_loss:3.1705757938325405\n",
            "epoch:49 critic_loss:3.2044255658984184\n",
            "epoch:50 critic_loss:3.1044143214821815\n",
            "epoch:51 critic_loss:3.0994945392012596\n",
            "epoch:52 critic_loss:3.097144275903702\n",
            "epoch:53 critic_loss:3.048263818025589\n",
            "epoch:54 critic_loss:3.000685788691044\n",
            "epoch:55 critic_loss:2.9134690389037132\n",
            "epoch:56 critic_loss:2.8859580233693123\n",
            "epoch:57 critic_loss:2.798649001866579\n",
            "epoch:58 critic_loss:2.698680579662323\n",
            "epoch:59 critic_loss:2.6311440095305443\n",
            "epoch:60 critic_loss:2.553655806928873\n",
            "epoch:61 critic_loss:2.490433804690838\n",
            "epoch:62 critic_loss:2.3289843685925007\n",
            "epoch:63 critic_loss:2.2102845683693886\n",
            "epoch:64 critic_loss:2.1170806735754013\n",
            "epoch:65 critic_loss:1.9670375809073448\n",
            "epoch:66 critic_loss:1.8574563972651958\n",
            "epoch:67 critic_loss:1.6638630516827106\n",
            "epoch:68 critic_loss:1.5420836471021175\n",
            "epoch:69 critic_loss:1.4212610870599747\n",
            "epoch:70 critic_loss:1.3345870450139046\n",
            "epoch:71 critic_loss:1.203706307336688\n",
            "epoch:72 critic_loss:1.115090522915125\n",
            "epoch:73 critic_loss:0.991725254803896\n",
            "epoch:74 critic_loss:0.9114161320030689\n",
            "epoch:75 critic_loss:0.8246785514056683\n",
            "epoch:76 critic_loss:0.7037038439884782\n",
            "epoch:77 critic_loss:0.6371423369273543\n",
            "epoch:78 critic_loss:0.5778789864853024\n",
            "epoch:79 critic_loss:0.535743897780776\n",
            "epoch:80 critic_loss:0.4646808300167322\n",
            "epoch:81 critic_loss:0.40089113218709826\n",
            "epoch:82 critic_loss:0.37384757213294506\n",
            "epoch:83 critic_loss:0.3591229384765029\n",
            "epoch:84 critic_loss:0.3112698239274323\n",
            "epoch:85 critic_loss:0.2683421508409083\n",
            "epoch:86 critic_loss:0.25055808713659644\n",
            "epoch:87 critic_loss:0.23838283820077777\n",
            "epoch:88 critic_loss:0.20234096562489867\n",
            "epoch:89 critic_loss:0.18699894892051816\n",
            "epoch:90 critic_loss:0.1704948537517339\n",
            "epoch:91 critic_loss:0.15437183156609535\n",
            "epoch:92 critic_loss:0.13477319153025746\n",
            "epoch:93 critic_loss:0.12941485294140875\n",
            "epoch:94 critic_loss:0.13529930566437542\n",
            "epoch:95 critic_loss:0.1278849532827735\n",
            "epoch:96 critic_loss:0.12118777097202837\n",
            "epoch:97 critic_loss:0.10453933529788628\n",
            "epoch:98 critic_loss:0.09230293449945748\n",
            "epoch:99 critic_loss:0.08801055408548564\n",
            "epoch:0 actor_loss:-37.155781388282776\n",
            "epoch:1 actor_loss:-39.1351734995842\n",
            "epoch:2 actor_loss:-39.46311962604523\n",
            "epoch:3 actor_loss:-39.58343595266342\n",
            "epoch:4 actor_loss:-39.67011779546738\n",
            "epoch:5 actor_loss:-39.734718680381775\n",
            "epoch:6 actor_loss:-39.76519590616226\n",
            "epoch:7 actor_loss:-39.783282816410065\n",
            "epoch:8 actor_loss:-39.79940748214722\n",
            "epoch:9 actor_loss:-39.81070190668106\n",
            "epoch:10 actor_loss:-39.81797671318054\n",
            "epoch:11 actor_loss:-39.823039293289185\n",
            "epoch:12 actor_loss:-39.82787823677063\n",
            "epoch:13 actor_loss:-39.832100212574005\n",
            "epoch:14 actor_loss:-39.83594334125519\n",
            "epoch:15 actor_loss:-39.83945506811142\n",
            "epoch:16 actor_loss:-39.84261727333069\n",
            "epoch:17 actor_loss:-39.84527885913849\n",
            "epoch:18 actor_loss:-39.84690070152283\n",
            "epoch:19 actor_loss:-39.84959661960602\n",
            "epoch:20 actor_loss:-39.85138463973999\n",
            "epoch:21 actor_loss:-39.85257667303085\n",
            "epoch:22 actor_loss:-39.85387086868286\n",
            "epoch:23 actor_loss:-39.854633152484894\n",
            "epoch:24 actor_loss:-39.85592830181122\n",
            "epoch:25 actor_loss:-39.85670340061188\n",
            "epoch:26 actor_loss:-39.85741752386093\n",
            "epoch:27 actor_loss:-39.85796409845352\n",
            "epoch:28 actor_loss:-39.858493864536285\n",
            "epoch:29 actor_loss:-39.8593373298645\n",
            "epoch:30 actor_loss:-39.85943406820297\n",
            "epoch:31 actor_loss:-39.86010259389877\n",
            "epoch:32 actor_loss:-39.860363364219666\n",
            "epoch:33 actor_loss:-39.8610942363739\n",
            "epoch:34 actor_loss:-39.86166751384735\n",
            "epoch:35 actor_loss:-39.86198580265045\n",
            "epoch:36 actor_loss:-39.86267364025116\n",
            "epoch:37 actor_loss:-39.86414992809296\n",
            "epoch:38 actor_loss:-39.86576062440872\n",
            "epoch:39 actor_loss:-39.86742627620697\n",
            "epoch:40 actor_loss:-39.86829090118408\n",
            "epoch:41 actor_loss:-39.869166791439056\n",
            "epoch:42 actor_loss:-39.87002241611481\n",
            "epoch:43 actor_loss:-39.870725214481354\n",
            "epoch:44 actor_loss:-39.87154972553253\n",
            "epoch:45 actor_loss:-39.872196674346924\n",
            "epoch:46 actor_loss:-39.87270963191986\n",
            "epoch:47 actor_loss:-39.873861730098724\n",
            "epoch:48 actor_loss:-39.87479680776596\n",
            "epoch:49 actor_loss:-39.87551015615463\n",
            "epoch:50 actor_loss:-39.8766034245491\n",
            "epoch:51 actor_loss:-39.8778218626976\n",
            "epoch:52 actor_loss:-39.87900233268738\n",
            "epoch:53 actor_loss:-39.8800835609436\n",
            "epoch:54 actor_loss:-39.88117843866348\n",
            "epoch:55 actor_loss:-39.881707549095154\n",
            "epoch:56 actor_loss:-39.882613599300385\n",
            "epoch:57 actor_loss:-39.88335007429123\n",
            "epoch:58 actor_loss:-39.884038507938385\n",
            "epoch:59 actor_loss:-39.88457244634628\n",
            "epoch:60 actor_loss:-39.88528525829315\n",
            "epoch:61 actor_loss:-39.88576263189316\n",
            "epoch:62 actor_loss:-39.88648647069931\n",
            "epoch:63 actor_loss:-39.88676065206528\n",
            "epoch:64 actor_loss:-39.887288093566895\n",
            "epoch:65 actor_loss:-39.887552082538605\n",
            "epoch:66 actor_loss:-39.88819599151611\n",
            "epoch:67 actor_loss:-39.88833600282669\n",
            "epoch:68 actor_loss:-39.88878399133682\n",
            "epoch:69 actor_loss:-39.88916218280792\n",
            "epoch:70 actor_loss:-39.8897847533226\n",
            "epoch:71 actor_loss:-39.89016908407211\n",
            "epoch:72 actor_loss:-39.89062660932541\n",
            "epoch:73 actor_loss:-39.89084255695343\n",
            "epoch:74 actor_loss:-39.89200150966644\n",
            "epoch:75 actor_loss:-39.894627034664154\n",
            "epoch:76 actor_loss:-39.90180838108063\n",
            "epoch:77 actor_loss:-39.936117351055145\n",
            "epoch:78 actor_loss:-39.94935321807861\n",
            "epoch:79 actor_loss:-39.95351606607437\n",
            "epoch:80 actor_loss:-39.95537579059601\n",
            "epoch:81 actor_loss:-39.95640617609024\n",
            "epoch:82 actor_loss:-39.95725464820862\n",
            "epoch:83 actor_loss:-39.958083271980286\n",
            "epoch:84 actor_loss:-39.95854926109314\n",
            "epoch:85 actor_loss:-39.95921766757965\n",
            "epoch:86 actor_loss:-39.959784507751465\n",
            "epoch:87 actor_loss:-39.960214495658875\n",
            "epoch:88 actor_loss:-39.960653603076935\n",
            "epoch:89 actor_loss:-39.96109187602997\n",
            "epoch:90 actor_loss:-39.9614634513855\n",
            "epoch:91 actor_loss:-39.96165335178375\n",
            "epoch:92 actor_loss:-39.961952686309814\n",
            "epoch:93 actor_loss:-39.96218919754028\n",
            "epoch:94 actor_loss:-39.9624417424202\n",
            "epoch:95 actor_loss:-39.962771117687225\n",
            "epoch:96 actor_loss:-39.96295481920242\n",
            "epoch:97 actor_loss:-39.96323585510254\n",
            "epoch:98 actor_loss:-39.96344298124313\n",
            "epoch:99 actor_loss:-39.963808953762054\n"
          ],
          "name": "stdout"
        }
      ]
    },
    {
      "cell_type": "code",
      "metadata": {
        "id": "H86kNlmeBLDx",
        "outputId": "fd7b2b3e-8824-4f11-c21b-d17667cbb650",
        "colab": {
          "base_uri": "https://localhost:8080/",
          "height": 530
        }
      },
      "source": [
        "import matplotlib.pyplot as plt\n",
        "\n",
        "plt.plot(train_history['critic'])\n",
        "plt.show()\n",
        "plt.plot(train_history['actor'])"
      ],
      "execution_count": 9,
      "outputs": [
        {
          "output_type": "display_data",
          "data": {
            "image/png": "[encoded data removed]",
            "text/plain": [
              "<Figure size 432x288 with 1 Axes>"
            ]
          },
          "metadata": {
            "tags": [],
            "needs_background": "light"
          }
        },
        {
          "output_type": "execute_result",
          "data": {
            "text/plain": [
              "[<matplotlib.lines.Line2D at 0x7fd744460a20>]"
            ]
          },
          "metadata": {
            "tags": []
          },
          "execution_count": 9
        },
        {
          "output_type": "display_data",
          "data": {
            "image/png": "[encoded data removed]",
            "text/plain": [
              "<Figure size 432x288 with 1 Axes>"
            ]
          },
          "metadata": {
            "tags": [],
            "needs_background": "light"
          }
        }
      ]
    },
    {
      "cell_type": "code",
      "metadata": {
        "id": "FfOkCP6IgKcv"
      },
      "source": [
        ""
      ],
      "execution_count": 9,
      "outputs": []
    }
  ]
}