{
  "nbformat": 4,
  "nbformat_minor": 0,
  "metadata": {
    "colab": {
      "name": "knowledge distillation.ipynb",
      "provenance": [],
      "authorship_tag": "ABX9TyNMp1jMDmM15jjiD/L7pGCW",
      "include_colab_link": true
    },
    "kernelspec": {
      "name": "python3",
      "display_name": "Python 3"
    },
    "language_info": {
      "name": "python"
    }
  },
  "cells": [
    {
      "cell_type": "markdown",
      "metadata": {
        "id": "view-in-github",
        "colab_type": "text"
      },
      "source": [
        "<a href=\"https://colab.research.google.com/github/skywalker0803r/deep-learning-ian-goodfellow/blob/master/knowledge_distillation.ipynb\" target=\"_parent\"><img src=\"https://colab.research.google.com/assets/colab-badge.svg\" alt=\"Open In Colab\"/></a>"
      ]
    },
    {
      "cell_type": "code",
      "metadata": {
        "id": "JtU7NhaVGrKw"
      },
      "source": [
        "from sklearn.datasets import load_iris\n",
        "import pandas as pd\n",
        "from torch import nn \n",
        "from torch.nn import Linear\n",
        "!pip install autorch > log.txt\n",
        "from torch.optim import Adam\n",
        "from autorch.utils import PartBulider\n",
        "from sklearn.metrics import accuracy_score\n",
        "\n",
        "def seed_everything(seed: int):\n",
        "  import random, os\n",
        "  import numpy as np\n",
        "  import torch\n",
        "  random.seed(seed)\n",
        "  os.environ['PYTHONHASHSEED'] = str(seed)\n",
        "  np.random.seed(seed)\n",
        "  torch.manual_seed(seed)\n",
        "  torch.cuda.manual_seed(seed)\n",
        "  torch.backends.cudnn.deterministic = True\n",
        "  torch.backends.cudnn.benchmark = True\n",
        "seed_everything(0)"
      ],
      "execution_count": 327,
      "outputs": []
    },
    {
      "cell_type": "markdown",
      "metadata": {
        "id": "eKFrWwloT9mQ"
      },
      "source": [
        "# load data 一部分當最後測試"
      ]
    },
    {
      "cell_type": "code",
      "metadata": {
        "id": "--iAzLGZMU0Q"
      },
      "source": [
        "data = load_iris()\n",
        "X = pd.DataFrame(data.data,columns=data.feature_names)\n",
        "y = pd.DataFrame(data.target,columns=['target'])\n",
        "y['target'] = y['target'].apply(lambda x:dict(zip(y.target.unique(),data.target_names))[x])\n",
        "y = pd.get_dummies(y)\n",
        "df = pd.concat([X,y],axis=1)\n",
        "from sklearn.model_selection import train_test_split\n",
        "df_train, df_test = train_test_split(df, test_size=0.5, random_state=0)"
      ],
      "execution_count": 328,
      "outputs": []
    },
    {
      "cell_type": "markdown",
      "metadata": {
        "id": "FRRwSqzcRSpz"
      },
      "source": [
        "# 老師模型表現"
      ]
    },
    {
      "cell_type": "code",
      "metadata": {
        "colab": {
          "base_uri": "https://localhost:8080/",
          "height": 321
        },
        "id": "cZhvN3W-IRl4",
        "outputId": "2ad88905-94e6-4772-e61f-641d44442efb"
      },
      "source": [
        "t_model = PartBulider(df_train,X.columns,y.columns,hidden_size=64,max_epochs=50)\n",
        "t_model.net[-1] = nn.Sequential(nn.ReLU(),nn.Linear(64,3),nn.Softmax(dim=-1))\n",
        "t_model.optimizer = Adam(t_model.net.parameters())\n",
        "t_model.train()\n",
        "display(accuracy_score(t_model.predict(df_test.iloc[:,:-3]).values.argmax(axis=1),df_test.iloc[:,-3:].values.argmax(axis=1)))"
      ],
      "execution_count": 329,
      "outputs": [
        {
          "output_type": "stream",
          "text": [
            "100%|██████████| 50/50 [00:00<00:00, 307.09it/s]\n"
          ],
          "name": "stderr"
        },
        {
          "output_type": "stream",
          "text": [
            "epoch:0 train_loss:0.1079 valid_loss:0.1056\n"
          ],
          "name": "stdout"
        },
        {
          "output_type": "display_data",
          "data": {
            "image/png": "[encoded data removed]",
            "text/plain": [
              "<Figure size 432x288 with 1 Axes>"
            ]
          },
          "metadata": {
            "tags": [],
            "needs_background": "light"
          }
        },
        {
          "output_type": "display_data",
          "data": {
            "text/plain": [
              "0.6"
            ]
          },
          "metadata": {
            "tags": []
          }
        }
      ]
    },
    {
      "cell_type": "markdown",
      "metadata": {
        "id": "DApzNvrqRiCV"
      },
      "source": [
        "# 產生偽標籤"
      ]
    },
    {
      "cell_type": "code",
      "metadata": {
        "colab": {
          "base_uri": "https://localhost:8080/",
          "height": 422
        },
        "id": "WKrVCQOJRhQk",
        "outputId": "27d31631-bf75-42ef-e3ab-c07286a62342"
      },
      "source": [
        "pseudo_label = t_model.predict(df_test.iloc[:,:-3])\n",
        "pseudo_df_test = df_test.copy()\n",
        "pseudo_df_test.iloc[:,-3:] = pseudo_label\n",
        "pseudo_df_test"
      ],
      "execution_count": 330,
      "outputs": [
        {
          "output_type": "execute_result",
          "data": {
            "text/html": [
              "<div>\n",
              "<style scoped>\n",
              "    .dataframe tbody tr th:only-of-type {\n",
              "        vertical-align: middle;\n",
              "    }\n",
              "\n",
              "    .dataframe tbody tr th {\n",
              "        vertical-align: top;\n",
              "    }\n",
              "\n",
              "    .dataframe thead th {\n",
              "        text-align: right;\n",
              "    }\n",
              "</style>\n",
              "<table border=\"1\" class=\"dataframe\">\n",
              "  <thead>\n",
              "    <tr style=\"text-align: right;\">\n",
              "      <th></th>\n",
              "      <th>sepal length (cm)</th>\n",
              "      <th>sepal width (cm)</th>\n",
              "      <th>petal length (cm)</th>\n",
              "      <th>petal width (cm)</th>\n",
              "      <th>target_setosa</th>\n",
              "      <th>target_versicolor</th>\n",
              "      <th>target_virginica</th>\n",
              "    </tr>\n",
              "  </thead>\n",
              "  <tbody>\n",
              "    <tr>\n",
              "      <th>114</th>\n",
              "      <td>5.8</td>\n",
              "      <td>2.8</td>\n",
              "      <td>5.1</td>\n",
              "      <td>2.4</td>\n",
              "      <td>0.082112</td>\n",
              "      <td>0.311709</td>\n",
              "      <td>0.606179</td>\n",
              "    </tr>\n",
              "    <tr>\n",
              "      <th>62</th>\n",
              "      <td>6.0</td>\n",
              "      <td>2.2</td>\n",
              "      <td>4.0</td>\n",
              "      <td>1.0</td>\n",
              "      <td>0.141745</td>\n",
              "      <td>0.375240</td>\n",
              "      <td>0.483015</td>\n",
              "    </tr>\n",
              "    <tr>\n",
              "      <th>33</th>\n",
              "      <td>5.5</td>\n",
              "      <td>4.2</td>\n",
              "      <td>1.4</td>\n",
              "      <td>0.2</td>\n",
              "      <td>0.836264</td>\n",
              "      <td>0.069177</td>\n",
              "      <td>0.094559</td>\n",
              "    </tr>\n",
              "    <tr>\n",
              "      <th>107</th>\n",
              "      <td>7.3</td>\n",
              "      <td>2.9</td>\n",
              "      <td>6.3</td>\n",
              "      <td>1.8</td>\n",
              "      <td>0.059861</td>\n",
              "      <td>0.307050</td>\n",
              "      <td>0.633090</td>\n",
              "    </tr>\n",
              "    <tr>\n",
              "      <th>7</th>\n",
              "      <td>5.0</td>\n",
              "      <td>3.4</td>\n",
              "      <td>1.5</td>\n",
              "      <td>0.2</td>\n",
              "      <td>0.738848</td>\n",
              "      <td>0.119876</td>\n",
              "      <td>0.141276</td>\n",
              "    </tr>\n",
              "    <tr>\n",
              "      <th>...</th>\n",
              "      <td>...</td>\n",
              "      <td>...</td>\n",
              "      <td>...</td>\n",
              "      <td>...</td>\n",
              "      <td>...</td>\n",
              "      <td>...</td>\n",
              "      <td>...</td>\n",
              "    </tr>\n",
              "    <tr>\n",
              "      <th>111</th>\n",
              "      <td>6.4</td>\n",
              "      <td>2.7</td>\n",
              "      <td>5.3</td>\n",
              "      <td>1.9</td>\n",
              "      <td>0.077663</td>\n",
              "      <td>0.326597</td>\n",
              "      <td>0.595739</td>\n",
              "    </tr>\n",
              "    <tr>\n",
              "      <th>95</th>\n",
              "      <td>5.7</td>\n",
              "      <td>3.0</td>\n",
              "      <td>4.2</td>\n",
              "      <td>1.2</td>\n",
              "      <td>0.227211</td>\n",
              "      <td>0.316701</td>\n",
              "      <td>0.456088</td>\n",
              "    </tr>\n",
              "    <tr>\n",
              "      <th>20</th>\n",
              "      <td>5.4</td>\n",
              "      <td>3.4</td>\n",
              "      <td>1.7</td>\n",
              "      <td>0.2</td>\n",
              "      <td>0.715179</td>\n",
              "      <td>0.129617</td>\n",
              "      <td>0.155204</td>\n",
              "    </tr>\n",
              "    <tr>\n",
              "      <th>15</th>\n",
              "      <td>5.7</td>\n",
              "      <td>4.4</td>\n",
              "      <td>1.5</td>\n",
              "      <td>0.4</td>\n",
              "      <td>0.849691</td>\n",
              "      <td>0.060825</td>\n",
              "      <td>0.089484</td>\n",
              "    </tr>\n",
              "    <tr>\n",
              "      <th>52</th>\n",
              "      <td>6.9</td>\n",
              "      <td>3.1</td>\n",
              "      <td>4.9</td>\n",
              "      <td>1.5</td>\n",
              "      <td>0.121310</td>\n",
              "      <td>0.305778</td>\n",
              "      <td>0.572912</td>\n",
              "    </tr>\n",
              "  </tbody>\n",
              "</table>\n",
              "<p>75 rows × 7 columns</p>\n",
              "</div>"
            ],
            "text/plain": [
              "     sepal length (cm)  sepal width (cm)  ...  target_versicolor  target_virginica\n",
              "114                5.8               2.8  ...           0.311709          0.606179\n",
              "62                 6.0               2.2  ...           0.375240          0.483015\n",
              "33                 5.5               4.2  ...           0.069177          0.094559\n",
              "107                7.3               2.9  ...           0.307050          0.633090\n",
              "7                  5.0               3.4  ...           0.119876          0.141276\n",
              "..                 ...               ...  ...                ...               ...\n",
              "111                6.4               2.7  ...           0.326597          0.595739\n",
              "95                 5.7               3.0  ...           0.316701          0.456088\n",
              "20                 5.4               3.4  ...           0.129617          0.155204\n",
              "15                 5.7               4.4  ...           0.060825          0.089484\n",
              "52                 6.9               3.1  ...           0.305778          0.572912\n",
              "\n",
              "[75 rows x 7 columns]"
            ]
          },
          "metadata": {
            "tags": []
          },
          "execution_count": 330
        }
      ]
    },
    {
      "cell_type": "markdown",
      "metadata": {
        "id": "u2DfFXMlVwmt"
      },
      "source": [
        "# 跟真實標籤比較"
      ]
    },
    {
      "cell_type": "code",
      "metadata": {
        "colab": {
          "base_uri": "https://localhost:8080/",
          "height": 422
        },
        "id": "XN7oPx5TVyZn",
        "outputId": "2455f361-d5dd-4651-c47b-4ac5e2892710"
      },
      "source": [
        "df_test"
      ],
      "execution_count": 331,
      "outputs": [
        {
          "output_type": "execute_result",
          "data": {
            "text/html": [
              "<div>\n",
              "<style scoped>\n",
              "    .dataframe tbody tr th:only-of-type {\n",
              "        vertical-align: middle;\n",
              "    }\n",
              "\n",
              "    .dataframe tbody tr th {\n",
              "        vertical-align: top;\n",
              "    }\n",
              "\n",
              "    .dataframe thead th {\n",
              "        text-align: right;\n",
              "    }\n",
              "</style>\n",
              "<table border=\"1\" class=\"dataframe\">\n",
              "  <thead>\n",
              "    <tr style=\"text-align: right;\">\n",
              "      <th></th>\n",
              "      <th>sepal length (cm)</th>\n",
              "      <th>sepal width (cm)</th>\n",
              "      <th>petal length (cm)</th>\n",
              "      <th>petal width (cm)</th>\n",
              "      <th>target_setosa</th>\n",
              "      <th>target_versicolor</th>\n",
              "      <th>target_virginica</th>\n",
              "    </tr>\n",
              "  </thead>\n",
              "  <tbody>\n",
              "    <tr>\n",
              "      <th>114</th>\n",
              "      <td>5.8</td>\n",
              "      <td>2.8</td>\n",
              "      <td>5.1</td>\n",
              "      <td>2.4</td>\n",
              "      <td>0</td>\n",
              "      <td>0</td>\n",
              "      <td>1</td>\n",
              "    </tr>\n",
              "    <tr>\n",
              "      <th>62</th>\n",
              "      <td>6.0</td>\n",
              "      <td>2.2</td>\n",
              "      <td>4.0</td>\n",
              "      <td>1.0</td>\n",
              "      <td>0</td>\n",
              "      <td>1</td>\n",
              "      <td>0</td>\n",
              "    </tr>\n",
              "    <tr>\n",
              "      <th>33</th>\n",
              "      <td>5.5</td>\n",
              "      <td>4.2</td>\n",
              "      <td>1.4</td>\n",
              "      <td>0.2</td>\n",
              "      <td>1</td>\n",
              "      <td>0</td>\n",
              "      <td>0</td>\n",
              "    </tr>\n",
              "    <tr>\n",
              "      <th>107</th>\n",
              "      <td>7.3</td>\n",
              "      <td>2.9</td>\n",
              "      <td>6.3</td>\n",
              "      <td>1.8</td>\n",
              "      <td>0</td>\n",
              "      <td>0</td>\n",
              "      <td>1</td>\n",
              "    </tr>\n",
              "    <tr>\n",
              "      <th>7</th>\n",
              "      <td>5.0</td>\n",
              "      <td>3.4</td>\n",
              "      <td>1.5</td>\n",
              "      <td>0.2</td>\n",
              "      <td>1</td>\n",
              "      <td>0</td>\n",
              "      <td>0</td>\n",
              "    </tr>\n",
              "    <tr>\n",
              "      <th>...</th>\n",
              "      <td>...</td>\n",
              "      <td>...</td>\n",
              "      <td>...</td>\n",
              "      <td>...</td>\n",
              "      <td>...</td>\n",
              "      <td>...</td>\n",
              "      <td>...</td>\n",
              "    </tr>\n",
              "    <tr>\n",
              "      <th>111</th>\n",
              "      <td>6.4</td>\n",
              "      <td>2.7</td>\n",
              "      <td>5.3</td>\n",
              "      <td>1.9</td>\n",
              "      <td>0</td>\n",
              "      <td>0</td>\n",
              "      <td>1</td>\n",
              "    </tr>\n",
              "    <tr>\n",
              "      <th>95</th>\n",
              "      <td>5.7</td>\n",
              "      <td>3.0</td>\n",
              "      <td>4.2</td>\n",
              "      <td>1.2</td>\n",
              "      <td>0</td>\n",
              "      <td>1</td>\n",
              "      <td>0</td>\n",
              "    </tr>\n",
              "    <tr>\n",
              "      <th>20</th>\n",
              "      <td>5.4</td>\n",
              "      <td>3.4</td>\n",
              "      <td>1.7</td>\n",
              "      <td>0.2</td>\n",
              "      <td>1</td>\n",
              "      <td>0</td>\n",
              "      <td>0</td>\n",
              "    </tr>\n",
              "    <tr>\n",
              "      <th>15</th>\n",
              "      <td>5.7</td>\n",
              "      <td>4.4</td>\n",
              "      <td>1.5</td>\n",
              "      <td>0.4</td>\n",
              "      <td>1</td>\n",
              "      <td>0</td>\n",
              "      <td>0</td>\n",
              "    </tr>\n",
              "    <tr>\n",
              "      <th>52</th>\n",
              "      <td>6.9</td>\n",
              "      <td>3.1</td>\n",
              "      <td>4.9</td>\n",
              "      <td>1.5</td>\n",
              "      <td>0</td>\n",
              "      <td>1</td>\n",
              "      <td>0</td>\n",
              "    </tr>\n",
              "  </tbody>\n",
              "</table>\n",
              "<p>75 rows × 7 columns</p>\n",
              "</div>"
            ],
            "text/plain": [
              "     sepal length (cm)  sepal width (cm)  ...  target_versicolor  target_virginica\n",
              "114                5.8               2.8  ...                  0                 1\n",
              "62                 6.0               2.2  ...                  1                 0\n",
              "33                 5.5               4.2  ...                  0                 0\n",
              "107                7.3               2.9  ...                  0                 1\n",
              "7                  5.0               3.4  ...                  0                 0\n",
              "..                 ...               ...  ...                ...               ...\n",
              "111                6.4               2.7  ...                  0                 1\n",
              "95                 5.7               3.0  ...                  1                 0\n",
              "20                 5.4               3.4  ...                  0                 0\n",
              "15                 5.7               4.4  ...                  0                 0\n",
              "52                 6.9               3.1  ...                  1                 0\n",
              "\n",
              "[75 rows x 7 columns]"
            ]
          },
          "metadata": {
            "tags": []
          },
          "execution_count": 331
        }
      ]
    },
    {
      "cell_type": "markdown",
      "metadata": {
        "id": "0-efS2cJMjJs"
      },
      "source": [
        "# 加入偽標籤訓練學生模型"
      ]
    },
    {
      "cell_type": "code",
      "metadata": {
        "colab": {
          "base_uri": "https://localhost:8080/",
          "height": 319
        },
        "id": "5EqA942VLLMM",
        "outputId": "3f450ae6-bc4a-43d4-815e-91a48a460e50"
      },
      "source": [
        "s_model = PartBulider(df_train.append(\n",
        "    pseudo_df_test),\n",
        "    X.columns,y.columns,hidden_size=64*2,max_epochs=50)\n",
        "\n",
        "s_model.net[-1] = nn.Sequential(nn.ReLU(),nn.Linear(64*2,3),nn.Softmax(dim=-1))\n",
        "s_model.optimizer = Adam(s_model.net.parameters())\n",
        "s_model.train()\n",
        "display(accuracy_score(s_model.predict(\n",
        "    df_test.iloc[:,:-3]).values.argmax(axis=1),\n",
        "    df_test.iloc[:,-3:].values.argmax(axis=1)))"
      ],
      "execution_count": 332,
      "outputs": [
        {
          "output_type": "stream",
          "text": [
            " 36%|███▌      | 18/50 [00:00<00:00, 171.68it/s]"
          ],
          "name": "stderr"
        },
        {
          "output_type": "stream",
          "text": [
            "epoch:0 train_loss:0.0694 valid_loss:0.0677\n"
          ],
          "name": "stdout"
        },
        {
          "output_type": "stream",
          "text": [
            "100%|██████████| 50/50 [00:00<00:00, 171.99it/s]\n"
          ],
          "name": "stderr"
        },
        {
          "output_type": "display_data",
          "data": {
            "image/png": "[encoded data removed]",
            "text/plain": [
              "<Figure size 432x288 with 1 Axes>"
            ]
          },
          "metadata": {
            "tags": [],
            "needs_background": "light"
          }
        },
        {
          "output_type": "display_data",
          "data": {
            "text/plain": [
              "0.84"
            ]
          },
          "metadata": {
            "tags": []
          }
        }
      ]
    },
    {
      "cell_type": "markdown",
      "metadata": {
        "id": "XvaZO6rMWD9F"
      },
      "source": [
        "# 可以到看acc 有顯著提高"
      ]
    },
    {
      "cell_type": "code",
      "metadata": {
        "id": "wLAGq-sZO2Sp"
      },
      "source": [
        ""
      ],
      "execution_count": 332,
      "outputs": []
    }
  ]
}