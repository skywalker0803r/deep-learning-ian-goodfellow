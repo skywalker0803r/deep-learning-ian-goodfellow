{
  "nbformat": 4,
  "nbformat_minor": 0,
  "metadata": {
    "colab": {
      "name": "PCA.ipynb",
      "provenance": [],
      "authorship_tag": "ABX9TyNx25Pt6VX+Imqjh0hPqEMj",
      "include_colab_link": true
    },
    "kernelspec": {
      "name": "python3",
      "display_name": "Python 3"
    }
  },
  "cells": [
    {
      "cell_type": "markdown",
      "metadata": {
        "id": "view-in-github",
        "colab_type": "text"
      },
      "source": [
        "<a href=\"https://colab.research.google.com/github/skywalker0803r/deep-learning-ian-goodfellow/blob/master/PCA.ipynb\" target=\"_parent\"><img src=\"https://colab.research.google.com/assets/colab-badge.svg\" alt=\"Open In Colab\"/></a>"
      ]
    },
    {
      "cell_type": "code",
      "metadata": {
        "id": "J1XaRevB8Nxy",
        "colab_type": "code",
        "colab": {}
      },
      "source": [
        "from sklearn import datasets\n",
        "import matplotlib.pyplot as plt\n",
        "from sklearn.preprocessing import StandardScaler\n",
        "from sklearn.decomposition import PCA\n",
        "import pandas as pd\n",
        "import numpy as np\n",
        "\n",
        "data = datasets.load_boston()\n",
        "x = pd.DataFrame(data.data,columns=data.feature_names)[['INDUS','LSTAT']]"
      ],
      "execution_count": 0,
      "outputs": []
    },
    {
      "cell_type": "markdown",
      "metadata": {
        "id": "Jj2K1qc-CvEB",
        "colab_type": "text"
      },
      "source": [
        "# 準備資料"
      ]
    },
    {
      "cell_type": "code",
      "metadata": {
        "id": "FbWKapMK-O3s",
        "colab_type": "code",
        "colab": {}
      },
      "source": [
        "# scaler\n",
        "ss = StandardScaler()\n",
        "x[:] = ss.fit_transform(x)"
      ],
      "execution_count": 0,
      "outputs": []
    },
    {
      "cell_type": "code",
      "metadata": {
        "id": "F27dYhKX8fXj",
        "colab_type": "code",
        "colab": {
          "base_uri": "https://localhost:8080/",
          "height": 354
        },
        "outputId": "bc9786b9-ebe2-454b-be51-8ddf8f949994"
      },
      "source": [
        "# look\n",
        "plt.scatter(x['INDUS'],x['LSTAT'])\n",
        "plt.show()\n",
        "x.corr()"
      ],
      "execution_count": 3,
      "outputs": [
        {
          "output_type": "display_data",
          "data": {
            "image/png": "[encoded data removed]",
            "text/plain": [
              "<Figure size 432x288 with 1 Axes>"
            ]
          },
          "metadata": {
            "tags": [],
            "needs_background": "light"
          }
        },
        {
          "output_type": "execute_result",
          "data": {
            "text/html": [
              "<div>\n",
              "<style scoped>\n",
              "    .dataframe tbody tr th:only-of-type {\n",
              "        vertical-align: middle;\n",
              "    }\n",
              "\n",
              "    .dataframe tbody tr th {\n",
              "        vertical-align: top;\n",
              "    }\n",
              "\n",
              "    .dataframe thead th {\n",
              "        text-align: right;\n",
              "    }\n",
              "</style>\n",
              "<table border=\"1\" class=\"dataframe\">\n",
              "  <thead>\n",
              "    <tr style=\"text-align: right;\">\n",
              "      <th></th>\n",
              "      <th>INDUS</th>\n",
              "      <th>LSTAT</th>\n",
              "    </tr>\n",
              "  </thead>\n",
              "  <tbody>\n",
              "    <tr>\n",
              "      <th>INDUS</th>\n",
              "      <td>1.0000</td>\n",
              "      <td>0.6038</td>\n",
              "    </tr>\n",
              "    <tr>\n",
              "      <th>LSTAT</th>\n",
              "      <td>0.6038</td>\n",
              "      <td>1.0000</td>\n",
              "    </tr>\n",
              "  </tbody>\n",
              "</table>\n",
              "</div>"
            ],
            "text/plain": [
              "        INDUS   LSTAT\n",
              "INDUS  1.0000  0.6038\n",
              "LSTAT  0.6038  1.0000"
            ]
          },
          "metadata": {
            "tags": []
          },
          "execution_count": 3
        }
      ]
    },
    {
      "cell_type": "markdown",
      "metadata": {
        "id": "jNy2faiyCsqm",
        "colab_type": "text"
      },
      "source": [
        "# sklearn算"
      ]
    },
    {
      "cell_type": "code",
      "metadata": {
        "id": "4SijIXud83ho",
        "colab_type": "code",
        "colab": {
          "base_uri": "https://localhost:8080/",
          "height": 34
        },
        "outputId": "2ee8e1ca-08fc-44fe-9269-8595934e6b00"
      },
      "source": [
        "# sklearn pca\n",
        "z = {}\n",
        "pca = PCA(n_components=1)\n",
        "z['sklearn'] = pca.fit_transform(x)\n",
        "print(pca.components_)"
      ],
      "execution_count": 4,
      "outputs": [
        {
          "output_type": "stream",
          "text": [
            "[[0.70710678 0.70710678]]\n"
          ],
          "name": "stdout"
        }
      ]
    },
    {
      "cell_type": "markdown",
      "metadata": {
        "id": "6WLHsb64CrLV",
        "colab_type": "text"
      },
      "source": [
        "# 手算"
      ]
    },
    {
      "cell_type": "code",
      "metadata": {
        "id": "VfoAOtIY-BE7",
        "colab_type": "code",
        "colab": {
          "base_uri": "https://localhost:8080/",
          "height": 34
        },
        "outputId": "dd956c28-da83-4bb1-ad9c-72a5dda545b7"
      },
      "source": [
        "# scratch\n",
        "w,v = np.linalg.eig(x.corr())\n",
        "w = w[1]\n",
        "v = v[1]\n",
        "print(v)\n",
        "z['scratch'] = v@x.values.T"
      ],
      "execution_count": 5,
      "outputs": [
        {
          "output_type": "stream",
          "text": [
            "[0.70710678 0.70710678]\n"
          ],
          "name": "stdout"
        }
      ]
    },
    {
      "cell_type": "markdown",
      "metadata": {
        "id": "LukYkRxVCoA1",
        "colab_type": "text"
      },
      "source": [
        "# 比較"
      ]
    },
    {
      "cell_type": "code",
      "metadata": {
        "id": "n-CmT3bS_Rrn",
        "colab_type": "code",
        "colab": {
          "base_uri": "https://localhost:8080/",
          "height": 279
        },
        "outputId": "98cda978-bdbe-4c45-d3b4-715f779e9b89"
      },
      "source": [
        "plt.scatter(x['INDUS'],x['LSTAT'],label='data point',color='b')\n",
        "plt.plot(z['sklearn'],z['sklearn'],label='sklearn',color='orange')\n",
        "plt.plot(z['scratch'],z['scratch'],label='scratch',color='red')\n",
        "plt.xlabel('INDUS')\n",
        "plt.ylabel('LSTAT')\n",
        "plt.legend()\n",
        "plt.show()"
      ],
      "execution_count": 6,
      "outputs": [
        {
          "output_type": "display_data",
          "data": {
            "image/png": "[encoded data removed]",
            "text/plain": [
              "<Figure size 432x288 with 1 Axes>"
            ]
          },
          "metadata": {
            "tags": [],
            "needs_background": "light"
          }
        }
      ]
    },
    {
      "cell_type": "code",
      "metadata": {
        "id": "CO_WMPU4_3jB",
        "colab_type": "code",
        "colab": {}
      },
      "source": [
        ""
      ],
      "execution_count": 0,
      "outputs": []
    }
  ]
}