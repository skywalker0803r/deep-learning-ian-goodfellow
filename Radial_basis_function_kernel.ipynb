{
  "nbformat": 4,
  "nbformat_minor": 0,
  "metadata": {
    "colab": {
      "name": "Radial basis function kernel.ipynb",
      "provenance": [],
      "authorship_tag": "ABX9TyMEC3I2b1C1FkfBCPyCeZq4",
      "include_colab_link": true
    },
    "kernelspec": {
      "name": "python3",
      "display_name": "Python 3"
    }
  },
  "cells": [
    {
      "cell_type": "markdown",
      "metadata": {
        "id": "view-in-github",
        "colab_type": "text"
      },
      "source": [
        "<a href=\"https://colab.research.google.com/github/skywalker0803r/deep-learning-ian-goodfellow/blob/master/Radial_basis_function_kernel.ipynb\" target=\"_parent\"><img src=\"https://colab.research.google.com/assets/colab-badge.svg\" alt=\"Open In Colab\"/></a>"
      ]
    },
    {
      "cell_type": "code",
      "metadata": {
        "id": "mT75axqEeBv3",
        "colab_type": "code",
        "colab": {
          "base_uri": "https://localhost:8080/",
          "height": 265
        },
        "outputId": "9589bc02-573b-4847-ece9-0a1909784285"
      },
      "source": [
        "import numpy as np\n",
        "import pandas as pd\n",
        "import matplotlib.pyplot as plt\n",
        "\n",
        "# data point\n",
        "batch_size = 3\n",
        "num_features = 2\n",
        "X = np.random.normal(size=(batch_size,num_features))\n",
        "for i in range(batch_size):\n",
        "  plt.scatter(X[i,0],X[i,1],label=i)\n",
        "plt.legend()\n",
        "plt.show()"
      ],
      "execution_count": 129,
      "outputs": [
        {
          "output_type": "display_data",
          "data": {
            "image/png": "[encoded data removed]",
            "text/plain": [
              "<Figure size 432x288 with 1 Axes>"
            ]
          },
          "metadata": {
            "tags": [],
            "needs_background": "light"
          }
        }
      ]
    },
    {
      "cell_type": "markdown",
      "metadata": {
        "id": "HXabSLZelIUr",
        "colab_type": "text"
      },
      "source": [
        "# RBF KERNEL"
      ]
    },
    {
      "cell_type": "markdown",
      "metadata": {
        "id": "8EP2smbrjRQo",
        "colab_type": "text"
      },
      "source": [
        "#![alt text](https://ww2.mathworks.cn/matlabcentral/mlc-downloads/downloads/4356651d-2606-4b23-b053-60647095485d/dea2832c-c54a-4951-a9a2-0c67fe8457df/images/screenshot.jpg)"
      ]
    },
    {
      "cell_type": "code",
      "metadata": {
        "id": "wgRl5t_NeJiP",
        "colab_type": "code",
        "colab": {}
      },
      "source": [
        "from numpy.linalg import norm\n",
        "\n",
        "σ = X.std()**2\n",
        "def rbf_kernel(x,y):\n",
        "  term1 = -norm(x-y)**2\n",
        "  term2 = 2*(σ**2)\n",
        "  return np.exp(term1/term2)"
      ],
      "execution_count": 0,
      "outputs": []
    },
    {
      "cell_type": "markdown",
      "metadata": {
        "id": "dsmP6Xp1jhwI",
        "colab_type": "text"
      },
      "source": [
        "# compute"
      ]
    },
    {
      "cell_type": "code",
      "metadata": {
        "id": "i-fa6X_ThsXE",
        "colab_type": "code",
        "colab": {
          "base_uri": "https://localhost:8080/",
          "height": 68
        },
        "outputId": "18165893-b68b-479d-8c59-cdd968066716"
      },
      "source": [
        "table = np.empty(shape=(batch_size,batch_size))\n",
        "for i in range(batch_size):\n",
        "  for j in range(batch_size):\n",
        "    table[i,j] = rbf_kernel(X[i],X[j])\n",
        "table"
      ],
      "execution_count": 140,
      "outputs": [
        {
          "output_type": "execute_result",
          "data": {
            "text/plain": [
              "array([[1.        , 0.92603853, 0.32399364],\n",
              "       [0.92603853, 1.        , 0.30366561],\n",
              "       [0.32399364, 0.30366561, 1.        ]])"
            ]
          },
          "metadata": {
            "tags": []
          },
          "execution_count": 140
        }
      ]
    },
    {
      "cell_type": "code",
      "metadata": {
        "id": "2c3UsV79mSYo",
        "colab_type": "code",
        "colab": {
          "base_uri": "https://localhost:8080/",
          "height": 103
        },
        "outputId": "c89fc3df-cecb-46a8-e3bb-9ba0aee4c2dc"
      },
      "source": [
        "table = pd.DataFrame(table)\n",
        "table.style.background_gradient()"
      ],
      "execution_count": 141,
      "outputs": [
        {
          "output_type": "execute_result",
          "data": {
            "text/html": [
              "<style  type=\"text/css\" >\n",
              "    #T_d9246462_a950_11ea_b3a3_0242ac1c0002row0_col0 {\n",
              "            background-color:  #023858;\n",
              "            color:  #f1f1f1;\n",
              "        }    #T_d9246462_a950_11ea_b3a3_0242ac1c0002row0_col1 {\n",
              "            background-color:  #045585;\n",
              "            color:  #f1f1f1;\n",
              "        }    #T_d9246462_a950_11ea_b3a3_0242ac1c0002row0_col2 {\n",
              "            background-color:  #fbf3f9;\n",
              "            color:  #000000;\n",
              "        }    #T_d9246462_a950_11ea_b3a3_0242ac1c0002row1_col0 {\n",
              "            background-color:  #045687;\n",
              "            color:  #f1f1f1;\n",
              "        }    #T_d9246462_a950_11ea_b3a3_0242ac1c0002row1_col1 {\n",
              "            background-color:  #023858;\n",
              "            color:  #f1f1f1;\n",
              "        }    #T_d9246462_a950_11ea_b3a3_0242ac1c0002row1_col2 {\n",
              "            background-color:  #fff7fb;\n",
              "            color:  #000000;\n",
              "        }    #T_d9246462_a950_11ea_b3a3_0242ac1c0002row2_col0 {\n",
              "            background-color:  #fff7fb;\n",
              "            color:  #000000;\n",
              "        }    #T_d9246462_a950_11ea_b3a3_0242ac1c0002row2_col1 {\n",
              "            background-color:  #fff7fb;\n",
              "            color:  #000000;\n",
              "        }    #T_d9246462_a950_11ea_b3a3_0242ac1c0002row2_col2 {\n",
              "            background-color:  #023858;\n",
              "            color:  #f1f1f1;\n",
              "        }</style><table id=\"T_d9246462_a950_11ea_b3a3_0242ac1c0002\" ><thead>    <tr>        <th class=\"blank level0\" ></th>        <th class=\"col_heading level0 col0\" >0</th>        <th class=\"col_heading level0 col1\" >1</th>        <th class=\"col_heading level0 col2\" >2</th>    </tr></thead><tbody>\n",
              "                <tr>\n",
              "                        <th id=\"T_d9246462_a950_11ea_b3a3_0242ac1c0002level0_row0\" class=\"row_heading level0 row0\" >0</th>\n",
              "                        <td id=\"T_d9246462_a950_11ea_b3a3_0242ac1c0002row0_col0\" class=\"data row0 col0\" >1.000000</td>\n",
              "                        <td id=\"T_d9246462_a950_11ea_b3a3_0242ac1c0002row0_col1\" class=\"data row0 col1\" >0.926039</td>\n",
              "                        <td id=\"T_d9246462_a950_11ea_b3a3_0242ac1c0002row0_col2\" class=\"data row0 col2\" >0.323994</td>\n",
              "            </tr>\n",
              "            <tr>\n",
              "                        <th id=\"T_d9246462_a950_11ea_b3a3_0242ac1c0002level0_row1\" class=\"row_heading level0 row1\" >1</th>\n",
              "                        <td id=\"T_d9246462_a950_11ea_b3a3_0242ac1c0002row1_col0\" class=\"data row1 col0\" >0.926039</td>\n",
              "                        <td id=\"T_d9246462_a950_11ea_b3a3_0242ac1c0002row1_col1\" class=\"data row1 col1\" >1.000000</td>\n",
              "                        <td id=\"T_d9246462_a950_11ea_b3a3_0242ac1c0002row1_col2\" class=\"data row1 col2\" >0.303666</td>\n",
              "            </tr>\n",
              "            <tr>\n",
              "                        <th id=\"T_d9246462_a950_11ea_b3a3_0242ac1c0002level0_row2\" class=\"row_heading level0 row2\" >2</th>\n",
              "                        <td id=\"T_d9246462_a950_11ea_b3a3_0242ac1c0002row2_col0\" class=\"data row2 col0\" >0.323994</td>\n",
              "                        <td id=\"T_d9246462_a950_11ea_b3a3_0242ac1c0002row2_col1\" class=\"data row2 col1\" >0.303666</td>\n",
              "                        <td id=\"T_d9246462_a950_11ea_b3a3_0242ac1c0002row2_col2\" class=\"data row2 col2\" >1.000000</td>\n",
              "            </tr>\n",
              "    </tbody></table>"
            ],
            "text/plain": [
              "<pandas.io.formats.style.Styler at 0x7fec6b24f6d8>"
            ]
          },
          "metadata": {
            "tags": []
          },
          "execution_count": 141
        }
      ]
    },
    {
      "cell_type": "code",
      "metadata": {
        "id": "OG4F1An4mcfW",
        "colab_type": "code",
        "colab": {}
      },
      "source": [
        ""
      ],
      "execution_count": 0,
      "outputs": []
    }
  ]
}