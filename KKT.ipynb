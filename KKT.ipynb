{
  "nbformat": 4,
  "nbformat_minor": 0,
  "metadata": {
    "colab": {
      "name": "KKT.ipynb",
      "provenance": [],
      "authorship_tag": "ABX9TyM0bO2rgkCL4E3q4LCAxMA1",
      "include_colab_link": true
    },
    "kernelspec": {
      "name": "python3",
      "display_name": "Python 3"
    }
  },
  "cells": [
    {
      "cell_type": "markdown",
      "metadata": {
        "id": "view-in-github",
        "colab_type": "text"
      },
      "source": [
        "<a href=\"https://colab.research.google.com/github/skywalker0803r/deep-learning-ian-goodfellow/blob/master/KKT.ipynb\" target=\"_parent\"><img src=\"https://colab.research.google.com/assets/colab-badge.svg\" alt=\"Open In Colab\"/></a>"
      ]
    },
    {
      "cell_type": "code",
      "metadata": {
        "id": "hoOTA25gEwjP",
        "outputId": "27d6dba5-a593-4676-99e2-80301f6e1b94",
        "colab": {
          "base_uri": "https://localhost:8080/",
          "height": 282
        }
      },
      "source": [
        "import torch\n",
        "\n",
        "lfn = lambda x,l:x**2/2 + l*(x-1)\n",
        "x = torch.tensor(0.1,requires_grad=True)\n",
        "l = torch.tensor(0.1,requires_grad=True)\n",
        "\n",
        "xs = []\n",
        "ls = []\n",
        "for i in range(200):\n",
        "    loss = lfn(x,l)\n",
        "    dx,dl = torch.autograd.grad(loss,[x,l])\n",
        "    with torch.no_grad():\n",
        "        x -= 0.1*dx\n",
        "        l += 0.1*dl\n",
        "    xs.append(x.item())\n",
        "    ls.append(l.item())\n",
        "    \n",
        "import matplotlib.pyplot as plt\n",
        "plt.plot(xs,label='x')\n",
        "plt.plot(ls,label='lambda')\n",
        "plt.legend()\n",
        "x.item()"
      ],
      "execution_count": 1,
      "outputs": [
        {
          "output_type": "execute_result",
          "data": {
            "text/plain": [
              "0.9999805092811584"
            ]
          },
          "metadata": {
            "tags": []
          },
          "execution_count": 1
        },
        {
          "output_type": "display_data",
          "data": {
            "image/png": "[encoded data removed]",
            "text/plain": [
              "<Figure size 432x288 with 1 Axes>"
            ]
          },
          "metadata": {
            "tags": [],
            "needs_background": "light"
          }
        }
      ]
    },
    {
      "cell_type": "code",
      "metadata": {
        "id": "wi-7UgBtEys8"
      },
      "source": [
        ""
      ],
      "execution_count": null,
      "outputs": []
    }
  ]
}