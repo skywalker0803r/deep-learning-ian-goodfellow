{
  "nbformat": 4,
  "nbformat_minor": 0,
  "metadata": {
    "colab": {
      "provenance": [],
      "authorship_tag": "ABX9TyPPpfphgrkVOG6fL+fZ9nPF",
      "include_colab_link": true
    },
    "kernelspec": {
      "name": "python3",
      "display_name": "Python 3"
    },
    "language_info": {
      "name": "python"
    }
  },
  "cells": [
    {
      "cell_type": "markdown",
      "metadata": {
        "id": "view-in-github",
        "colab_type": "text"
      },
      "source": [
        "<a href=\"https://colab.research.google.com/github/skywalker0803r/deep-learning-ian-goodfellow/blob/master/%E6%99%82%E9%96%93%E5%BA%8F%E5%88%97%E6%A8%A1%E6%9D%BF.ipynb\" target=\"_parent\"><img src=\"https://colab.research.google.com/assets/colab-badge.svg\" alt=\"Open In Colab\"/></a>"
      ]
    },
    {
      "cell_type": "code",
      "source": [
        "import torch\n",
        "import torch.nn as nn\n",
        "import numpy as np\n",
        "from torch.optim import Adam\n",
        "import pandas as pd\n",
        "from torch.utils.data import TensorDataset,DataLoader\n",
        "\n",
        "class R2D2(nn.Module):\n",
        "  def __init__(self,obs_size,n_actions,hidden_size):\n",
        "    super().__init__()\n",
        "    self.hidden_size = hidden_size\n",
        "    self.l1 = nn.Linear(obs_size,self.hidden_size)\n",
        "    self.l2 = nn.LSTMCell(self.hidden_size,self.hidden_size)\n",
        "    self.l3 = nn.Linear(self.hidden_size,n_actions)\n",
        "\n",
        "  def forward(self,x,hx,cx):\n",
        "    x = torch.tanh(self.l1(x))\n",
        "    hx,cx = self.l2(x,(hx,cx))\n",
        "    x = torch.tanh(hx)\n",
        "    x = torch.sigmoid(self.l3(x)) # to range[0,1]\n",
        "    return x,hx,cx"
      ],
      "metadata": {
        "id": "uc_Qokdv86vj"
      },
      "execution_count": 24,
      "outputs": []
    },
    {
      "cell_type": "code",
      "execution_count": 25,
      "metadata": {
        "id": "SKqd99LG7v7Y"
      },
      "outputs": [],
      "source": [
        "def r2d2_forward(model,x,eval=False,time_step=3):\n",
        "  # 切換模式\n",
        "  if eval == True:\n",
        "    model.eval()\n",
        "  else:\n",
        "    model.train()\n",
        "\n",
        "  # 初始化隱變量\n",
        "  hx = torch.zeros((x.size()[0],model.hidden_size))\n",
        "  cx = torch.zeros((x.size()[0],model.hidden_size))\n",
        "\n",
        "  # 空Y\n",
        "  values = torch.FloatTensor()\n",
        "\n",
        "  # RNN FORWARD用法\n",
        "  for t in range(time_step):\n",
        "    # 根據當前t時刻狀態,動作,hx,cx當輸入得到,v(產出),更新hx,cx\n",
        "    v,hx,cx = model(x[:,t,:],hx,cx)\n",
        "    values = torch.cat((values,v),dim=1)\n",
        "\n",
        "  # 一系列產出(Batch,Time,Features)\n",
        "  values = values.reshape(x.size()[0],time_step,-1)\n",
        "\n",
        "  # 只取最後一個時間點\n",
        "  return values[:,-1,:] # return last time_step"
      ]
    },
    {
      "cell_type": "code",
      "source": [
        "model = R2D2(\n",
        "    obs_size=5,\n",
        "    n_actions=1,\n",
        "    hidden_size=64\n",
        "    )"
      ],
      "metadata": {
        "id": "NjKz35w983Gl"
      },
      "execution_count": 26,
      "outputs": []
    },
    {
      "cell_type": "markdown",
      "source": [
        "# BATCH , TIME ,FEATURE"
      ],
      "metadata": {
        "id": "mDVOJ9PR-KSs"
      }
    },
    {
      "cell_type": "code",
      "source": [
        "x = torch.rand(64,16,5)\n",
        "x.shape"
      ],
      "metadata": {
        "colab": {
          "base_uri": "https://localhost:8080/"
        },
        "id": "4otUEcvB9Lmp",
        "outputId": "1f4e2577-d28d-44ca-a486-78e7d9662fb4"
      },
      "execution_count": 27,
      "outputs": [
        {
          "output_type": "execute_result",
          "data": {
            "text/plain": [
              "torch.Size([64, 16, 5])"
            ]
          },
          "metadata": {},
          "execution_count": 27
        }
      ]
    },
    {
      "cell_type": "markdown",
      "source": [
        "# BATCH,FEATURE"
      ],
      "metadata": {
        "id": "dDbZgqLe-PYz"
      }
    },
    {
      "cell_type": "code",
      "source": [
        "y = r2d2_forward(model,x,eval=False)\n",
        "y.shape"
      ],
      "metadata": {
        "colab": {
          "base_uri": "https://localhost:8080/"
        },
        "id": "gDCALPmu9cs7",
        "outputId": "4290cfcf-d374-4a5e-c8ae-9d4a33a2267f"
      },
      "execution_count": 28,
      "outputs": [
        {
          "output_type": "execute_result",
          "data": {
            "text/plain": [
              "torch.Size([64, 1])"
            ]
          },
          "metadata": {},
          "execution_count": 28
        }
      ]
    },
    {
      "cell_type": "code",
      "source": [],
      "metadata": {
        "id": "vqxI7huC9jWS"
      },
      "execution_count": null,
      "outputs": []
    }
  ]
}