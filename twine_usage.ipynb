{
  "nbformat": 4,
  "nbformat_minor": 0,
  "metadata": {
    "colab": {
      "name": "Untitled148.ipynb",
      "provenance": [],
      "authorship_tag": "ABX9TyMMn+1Lw8uikmlp+H4IFcwV",
      "include_colab_link": true
    },
    "kernelspec": {
      "name": "python3",
      "display_name": "Python 3"
    }
  },
  "cells": [
    {
      "cell_type": "markdown",
      "metadata": {
        "id": "view-in-github",
        "colab_type": "text"
      },
      "source": [
        "<a href=\"https://colab.research.google.com/github/skywalker0803r/deep-learning-ian-goodfellow/blob/master/twine_usage.ipynb\" target=\"_parent\"><img src=\"https://colab.research.google.com/assets/colab-badge.svg\" alt=\"Open In Colab\"/></a>"
      ]
    },
    {
      "cell_type": "code",
      "metadata": {
        "colab": {
          "base_uri": "https://localhost:8080/"
        },
        "id": "r7GAzzPKIaCy",
        "outputId": "e04dd9c2-868a-477e-eb4c-be7bf1f0fdfb"
      },
      "source": [
        "!git clone https://github.com/skywalker0803r/autorch"
      ],
      "execution_count": 2,
      "outputs": [
        {
          "output_type": "stream",
          "text": [
            "Cloning into 'autorch'...\n",
            "remote: Enumerating objects: 187, done.\u001b[K\n",
            "remote: Counting objects: 100% (187/187), done.\u001b[K\n",
            "remote: Compressing objects: 100% (151/151), done.\u001b[K\n",
            "remote: Total 187 (delta 79), reused 58 (delta 19), pack-reused 0\u001b[K\n",
            "Receiving objects: 100% (187/187), 1.18 MiB | 2.98 MiB/s, done.\n",
            "Resolving deltas: 100% (79/79), done.\n"
          ],
          "name": "stdout"
        }
      ]
    },
    {
      "cell_type": "code",
      "metadata": {
        "id": "DK7MvCUjIib0"
      },
      "source": [
        "!cd autorch"
      ],
      "execution_count": 3,
      "outputs": []
    },
    {
      "cell_type": "code",
      "metadata": {
        "colab": {
          "base_uri": "https://localhost:8080/"
        },
        "id": "pUXiwpdtIl8Z",
        "outputId": "7f948541-024d-4c54-ec06-3cc28aac47e4"
      },
      "source": [
        "!pip install twine"
      ],
      "execution_count": 4,
      "outputs": [
        {
          "output_type": "stream",
          "text": [
            "Collecting twine\n",
            "  Downloading https://files.pythonhosted.org/packages/ad/db/b2c65078b783c6694bdfa0911bbbe0e2be7fcbc98ff23a99b8be544906b6/twine-3.2.0-py3-none-any.whl\n",
            "Collecting colorama>=0.4.3\n",
            "  Downloading https://files.pythonhosted.org/packages/44/98/5b86278fbbf250d239ae0ecb724f8572af1c91f4a11edf4d36a206189440/colorama-0.4.4-py2.py3-none-any.whl\n",
            "Collecting keyring>=15.1\n",
            "  Downloading https://files.pythonhosted.org/packages/53/14/1c952bcd21255f42f9ba0280d3abd8074dca2c27d136eb749b98ab478f72/keyring-21.5.0-py3-none-any.whl\n",
            "Collecting requests-toolbelt!=0.9.0,>=0.8.0\n",
            "\u001b[?25l  Downloading https://files.pythonhosted.org/packages/60/ef/7681134338fc097acef8d9b2f8abe0458e4d87559c689a8c306d0957ece5/requests_toolbelt-0.9.1-py2.py3-none-any.whl (54kB)\n",
            "\u001b[K     |████████████████████████████████| 61kB 5.6MB/s \n",
            "\u001b[?25hCollecting pkginfo>=1.4.2\n",
            "  Downloading https://files.pythonhosted.org/packages/4f/3c/535287349af1b117e082f8e77feca52fbe2fdf61ef1e6da6bcc2a72a3a79/pkginfo-1.6.1-py2.py3-none-any.whl\n",
            "Requirement already satisfied: requests>=2.20 in /usr/local/lib/python3.6/dist-packages (from twine) (2.23.0)\n",
            "Requirement already satisfied: importlib-metadata; python_version < \"3.8\" in /usr/local/lib/python3.6/dist-packages (from twine) (2.0.0)\n",
            "Requirement already satisfied: tqdm>=4.14 in /usr/local/lib/python3.6/dist-packages (from twine) (4.41.1)\n",
            "Requirement already satisfied: setuptools>=0.7.0 in /usr/local/lib/python3.6/dist-packages (from twine) (50.3.2)\n",
            "Collecting readme-renderer>=21.0\n",
            "  Downloading https://files.pythonhosted.org/packages/54/18/0adfcac99c08a6d45947e5da4e1388a7bb9957502a2b4ad12176fed6aeaf/readme_renderer-28.0-py2.py3-none-any.whl\n",
            "Collecting rfc3986>=1.4.0\n",
            "  Downloading https://files.pythonhosted.org/packages/78/be/7b8b99fd74ff5684225f50dd0e865393d2265656ef3b4ba9eaaaffe622b8/rfc3986-1.4.0-py2.py3-none-any.whl\n",
            "Collecting SecretStorage>=3.2; sys_platform == \"linux\"\n",
            "  Downloading https://files.pythonhosted.org/packages/63/a2/a6d9099b14eb5dbbb04fb722d2b5322688f8f99b471bdf2097e33efa8091/SecretStorage-3.3.0-py3-none-any.whl\n",
            "Collecting jeepney>=0.4.2; sys_platform == \"linux\"\n",
            "\u001b[?25l  Downloading https://files.pythonhosted.org/packages/51/b0/a6ea72741aaac3f37fb96d195e4ee576a103c4c04e279bc6b446a70960e1/jeepney-0.6.0-py3-none-any.whl (45kB)\n",
            "\u001b[K     |████████████████████████████████| 51kB 5.3MB/s \n",
            "\u001b[?25hRequirement already satisfied: urllib3!=1.25.0,!=1.25.1,<1.26,>=1.21.1 in /usr/local/lib/python3.6/dist-packages (from requests>=2.20->twine) (1.24.3)\n",
            "Requirement already satisfied: certifi>=2017.4.17 in /usr/local/lib/python3.6/dist-packages (from requests>=2.20->twine) (2020.11.8)\n",
            "Requirement already satisfied: chardet<4,>=3.0.2 in /usr/local/lib/python3.6/dist-packages (from requests>=2.20->twine) (3.0.4)\n",
            "Requirement already satisfied: idna<3,>=2.5 in /usr/local/lib/python3.6/dist-packages (from requests>=2.20->twine) (2.10)\n",
            "Requirement already satisfied: zipp>=0.5 in /usr/local/lib/python3.6/dist-packages (from importlib-metadata; python_version < \"3.8\"->twine) (3.4.0)\n",
            "Requirement already satisfied: Pygments>=2.5.1 in /usr/local/lib/python3.6/dist-packages (from readme-renderer>=21.0->twine) (2.6.1)\n",
            "Requirement already satisfied: docutils>=0.13.1 in /usr/local/lib/python3.6/dist-packages (from readme-renderer>=21.0->twine) (0.16)\n",
            "Requirement already satisfied: six in /usr/local/lib/python3.6/dist-packages (from readme-renderer>=21.0->twine) (1.15.0)\n",
            "Requirement already satisfied: bleach>=2.1.0 in /usr/local/lib/python3.6/dist-packages (from readme-renderer>=21.0->twine) (3.2.1)\n",
            "Collecting cryptography>=2.0\n",
            "\u001b[?25l  Downloading https://files.pythonhosted.org/packages/4c/a2/6565c5271a79e3c96d7a079053b4d8408a740d4bf365f0f5f244a807bd09/cryptography-3.2.1-cp35-abi3-manylinux2010_x86_64.whl (2.6MB)\n",
            "\u001b[K     |████████████████████████████████| 2.6MB 17.8MB/s \n",
            "\u001b[?25hRequirement already satisfied: packaging in /usr/local/lib/python3.6/dist-packages (from bleach>=2.1.0->readme-renderer>=21.0->twine) (20.4)\n",
            "Requirement already satisfied: webencodings in /usr/local/lib/python3.6/dist-packages (from bleach>=2.1.0->readme-renderer>=21.0->twine) (0.5.1)\n",
            "Requirement already satisfied: cffi!=1.11.3,>=1.8 in /usr/local/lib/python3.6/dist-packages (from cryptography>=2.0->SecretStorage>=3.2; sys_platform == \"linux\"->keyring>=15.1->twine) (1.14.3)\n",
            "Requirement already satisfied: pyparsing>=2.0.2 in /usr/local/lib/python3.6/dist-packages (from packaging->bleach>=2.1.0->readme-renderer>=21.0->twine) (2.4.7)\n",
            "Requirement already satisfied: pycparser in /usr/local/lib/python3.6/dist-packages (from cffi!=1.11.3,>=1.8->cryptography>=2.0->SecretStorage>=3.2; sys_platform == \"linux\"->keyring>=15.1->twine) (2.20)\n",
            "Installing collected packages: colorama, jeepney, cryptography, SecretStorage, keyring, requests-toolbelt, pkginfo, readme-renderer, rfc3986, twine\n",
            "Successfully installed SecretStorage-3.3.0 colorama-0.4.4 cryptography-3.2.1 jeepney-0.6.0 keyring-21.5.0 pkginfo-1.6.1 readme-renderer-28.0 requests-toolbelt-0.9.1 rfc3986-1.4.0 twine-3.2.0\n"
          ],
          "name": "stdout"
        }
      ]
    },
    {
      "cell_type": "code",
      "metadata": {
        "colab": {
          "base_uri": "https://localhost:8080/"
        },
        "id": "KZcVW3hCItd-",
        "outputId": "616b8d2c-d16b-44b8-adbd-81e55c467f91"
      },
      "source": [
        "!ls"
      ],
      "execution_count": 5,
      "outputs": [
        {
          "output_type": "stream",
          "text": [
            "autorch  sample_data\n"
          ],
          "name": "stdout"
        }
      ]
    },
    {
      "cell_type": "code",
      "metadata": {
        "id": "hwUeokmrIy_D"
      },
      "source": [
        "!cd autorch"
      ],
      "execution_count": 6,
      "outputs": []
    },
    {
      "cell_type": "code",
      "metadata": {
        "id": "NGOkqjvzI7Hr"
      },
      "source": [
        "import os\n",
        "os.chdir(\"autorch\")"
      ],
      "execution_count": 8,
      "outputs": []
    },
    {
      "cell_type": "code",
      "metadata": {
        "colab": {
          "base_uri": "https://localhost:8080/"
        },
        "id": "Z63f9SfdJFq5",
        "outputId": "d0c5a4fd-24f0-4d7b-c4af-85b8fe62aad2"
      },
      "source": [
        "!ls"
      ],
      "execution_count": 9,
      "outputs": [
        {
          "output_type": "stream",
          "text": [
            "autorch  benchmarks  examples  LICENSE\tREADME.md  setup.py\n"
          ],
          "name": "stdout"
        }
      ]
    },
    {
      "cell_type": "code",
      "metadata": {
        "colab": {
          "base_uri": "https://localhost:8080/"
        },
        "id": "RD7U9j99JK7n",
        "outputId": "632540ae-409e-4709-8494-25d03f6367bf"
      },
      "source": [
        "!python setup.py sdist bdist_wheel"
      ],
      "execution_count": 10,
      "outputs": [
        {
          "output_type": "stream",
          "text": [
            "running sdist\n",
            "running egg_info\n",
            "creating autorch.egg-info\n",
            "writing autorch.egg-info/PKG-INFO\n",
            "writing dependency_links to autorch.egg-info/dependency_links.txt\n",
            "writing requirements to autorch.egg-info/requires.txt\n",
            "writing top-level names to autorch.egg-info/top_level.txt\n",
            "writing manifest file 'autorch.egg-info/SOURCES.txt'\n",
            "writing manifest file 'autorch.egg-info/SOURCES.txt'\n",
            "running check\n",
            "creating autorch-0.1.8\n",
            "creating autorch-0.1.8/autorch\n",
            "creating autorch-0.1.8/autorch.egg-info\n",
            "creating autorch-0.1.8/autorch/function\n",
            "creating autorch-0.1.8/autorch/transferlearning\n",
            "creating autorch-0.1.8/autorch/utils\n",
            "creating autorch-0.1.8/benchmarks\n",
            "creating autorch-0.1.8/examples\n",
            "copying files to autorch-0.1.8...\n",
            "copying .gitignore -> autorch-0.1.8\n",
            "copying .pypirc -> autorch-0.1.8\n",
            "copying LICENSE -> autorch-0.1.8\n",
            "copying README.md -> autorch-0.1.8\n",
            "copying setup.py -> autorch-0.1.8\n",
            "copying autorch/__init__.py -> autorch-0.1.8/autorch\n",
            "copying autorch.egg-info/PKG-INFO -> autorch-0.1.8/autorch.egg-info\n",
            "copying autorch.egg-info/SOURCES.txt -> autorch-0.1.8/autorch.egg-info\n",
            "copying autorch.egg-info/dependency_links.txt -> autorch-0.1.8/autorch.egg-info\n",
            "copying autorch.egg-info/requires.txt -> autorch-0.1.8/autorch.egg-info\n",
            "copying autorch.egg-info/top_level.txt -> autorch-0.1.8/autorch.egg-info\n",
            "copying autorch/function/__init__.py -> autorch-0.1.8/autorch/function\n",
            "copying autorch/function/sp2wt.py -> autorch-0.1.8/autorch/function\n",
            "copying autorch/transferlearning/__init__.py -> autorch-0.1.8/autorch/transferlearning\n",
            "copying autorch/transferlearning/wadda.py -> autorch-0.1.8/autorch/transferlearning\n",
            "copying autorch/utils/__init__.py -> autorch-0.1.8/autorch/utils\n",
            "copying autorch/utils/part.py -> autorch-0.1.8/autorch/utils\n",
            "copying benchmarks/train.PNG -> autorch-0.1.8/benchmarks\n",
            "copying examples/autorch_example.ipynb -> autorch-0.1.8/examples\n",
            "copying examples/autorch_example_gpu.ipynb -> autorch-0.1.8/examples\n",
            "copying examples/wadda_example.ipynb -> autorch-0.1.8/examples\n",
            "Writing autorch-0.1.8/setup.cfg\n",
            "creating dist\n",
            "Creating tar archive\n",
            "removing 'autorch-0.1.8' (and everything under it)\n",
            "running bdist_wheel\n",
            "running build\n",
            "running build_py\n",
            "creating build\n",
            "creating build/lib\n",
            "creating build/lib/autorch\n",
            "copying autorch/__init__.py -> build/lib/autorch\n",
            "creating build/lib/autorch/function\n",
            "copying autorch/function/__init__.py -> build/lib/autorch/function\n",
            "copying autorch/function/sp2wt.py -> build/lib/autorch/function\n",
            "creating build/lib/autorch/transferlearning\n",
            "copying autorch/transferlearning/__init__.py -> build/lib/autorch/transferlearning\n",
            "copying autorch/transferlearning/wadda.py -> build/lib/autorch/transferlearning\n",
            "creating build/lib/autorch/utils\n",
            "copying autorch/utils/__init__.py -> build/lib/autorch/utils\n",
            "copying autorch/utils/part.py -> build/lib/autorch/utils\n",
            "installing to build/bdist.linux-x86_64/wheel\n",
            "running install\n",
            "running install_lib\n",
            "creating build/bdist.linux-x86_64\n",
            "creating build/bdist.linux-x86_64/wheel\n",
            "creating build/bdist.linux-x86_64/wheel/autorch\n",
            "creating build/bdist.linux-x86_64/wheel/autorch/function\n",
            "copying build/lib/autorch/function/__init__.py -> build/bdist.linux-x86_64/wheel/autorch/function\n",
            "copying build/lib/autorch/function/sp2wt.py -> build/bdist.linux-x86_64/wheel/autorch/function\n",
            "copying build/lib/autorch/__init__.py -> build/bdist.linux-x86_64/wheel/autorch\n",
            "creating build/bdist.linux-x86_64/wheel/autorch/transferlearning\n",
            "copying build/lib/autorch/transferlearning/__init__.py -> build/bdist.linux-x86_64/wheel/autorch/transferlearning\n",
            "copying build/lib/autorch/transferlearning/wadda.py -> build/bdist.linux-x86_64/wheel/autorch/transferlearning\n",
            "creating build/bdist.linux-x86_64/wheel/autorch/utils\n",
            "copying build/lib/autorch/utils/__init__.py -> build/bdist.linux-x86_64/wheel/autorch/utils\n",
            "copying build/lib/autorch/utils/part.py -> build/bdist.linux-x86_64/wheel/autorch/utils\n",
            "running install_egg_info\n",
            "Copying autorch.egg-info to build/bdist.linux-x86_64/wheel/autorch-0.1.8-py3.6.egg-info\n",
            "running install_scripts\n",
            "adding license file \"LICENSE\" (matched pattern \"LICEN[CS]E*\")\n",
            "creating build/bdist.linux-x86_64/wheel/autorch-0.1.8.dist-info/WHEEL\n",
            "creating 'dist/autorch-0.1.8-py3-none-any.whl' and adding 'build/bdist.linux-x86_64/wheel' to it\n",
            "adding 'autorch/__init__.py'\n",
            "adding 'autorch/function/__init__.py'\n",
            "adding 'autorch/function/sp2wt.py'\n",
            "adding 'autorch/transferlearning/__init__.py'\n",
            "adding 'autorch/transferlearning/wadda.py'\n",
            "adding 'autorch/utils/__init__.py'\n",
            "adding 'autorch/utils/part.py'\n",
            "adding 'autorch-0.1.8.dist-info/LICENSE'\n",
            "adding 'autorch-0.1.8.dist-info/METADATA'\n",
            "adding 'autorch-0.1.8.dist-info/WHEEL'\n",
            "adding 'autorch-0.1.8.dist-info/top_level.txt'\n",
            "adding 'autorch-0.1.8.dist-info/RECORD'\n",
            "removing build/bdist.linux-x86_64/wheel\n"
          ],
          "name": "stdout"
        }
      ]
    },
    {
      "cell_type": "code",
      "metadata": {
        "colab": {
          "base_uri": "https://localhost:8080/"
        },
        "id": "Fe-ZqRi7JT0X",
        "outputId": "53984c41-4ef1-46e8-f56b-231b408bdc90"
      },
      "source": [
        "!twine upload dist/* --user skywalker0803r --password ricky@0803"
      ],
      "execution_count": 12,
      "outputs": [
        {
          "output_type": "stream",
          "text": [
            "Uploading distributions to https://upload.pypi.org/legacy/\n",
            "Uploading autorch-0.1.8-py3-none-any.whl\n",
            "100% 10.8k/10.8k [00:01<00:00, 5.66kB/s]\n",
            "Uploading autorch-0.1.8.tar.gz\n",
            "100% 132k/132k [00:01<00:00, 107kB/s]\n",
            "\n",
            "View at:\n",
            "https://pypi.org/project/autorch/0.1.8/\n"
          ],
          "name": "stdout"
        }
      ]
    }
  ]
}