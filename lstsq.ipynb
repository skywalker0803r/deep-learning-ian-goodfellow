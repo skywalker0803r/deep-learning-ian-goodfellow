{
  "nbformat": 4,
  "nbformat_minor": 0,
  "metadata": {
    "colab": {
      "name": "lstsq.ipynb",
      "provenance": [],
      "authorship_tag": "ABX9TyOFq2GYCeVz4sR7StecxA2D",
      "include_colab_link": true
    },
    "kernelspec": {
      "name": "python3",
      "display_name": "Python 3"
    }
  },
  "cells": [
    {
      "cell_type": "markdown",
      "metadata": {
        "id": "view-in-github",
        "colab_type": "text"
      },
      "source": [
        "<a href=\"https://colab.research.google.com/github/skywalker0803r/deep-learning-ian-goodfellow/blob/master/lstsq.ipynb\" target=\"_parent\"><img src=\"https://colab.research.google.com/assets/colab-badge.svg\" alt=\"Open In Colab\"/></a>"
      ]
    },
    {
      "cell_type": "code",
      "metadata": {
        "id": "ZVi5vlFsQP03",
        "colab_type": "code",
        "colab": {}
      },
      "source": [
        "from sklearn import datasets\n",
        "from sklearn.utils import shuffle\n",
        "import warnings;warnings.simplefilter('ignore')\n",
        "import matplotlib.pyplot as plt\n",
        "from sklearn.preprocessing import StandardScaler\n",
        "from sklearn.decomposition import PCA\n",
        "import pandas as pd\n",
        "import numpy as np\n",
        "\n",
        "# load\n",
        "data = datasets.load_boston()\n",
        "x = pd.DataFrame(data.data,columns=data.feature_names)\n",
        "y = pd.DataFrame(data.target,columns=['price'])\n",
        "df = x.join(y)\n",
        "\n",
        "# split\n",
        "df = shuffle(df)\n",
        "train = df[:-100]\n",
        "test = df[-100:]\n",
        "\n",
        "# scale\n",
        "ss = StandardScaler()\n",
        "train[:] = ss.fit_transform(train)\n",
        "test[:] = ss.transform(test)"
      ],
      "execution_count": 0,
      "outputs": []
    },
    {
      "cell_type": "markdown",
      "metadata": {
        "id": "9-jEoww3Su6Y",
        "colab_type": "text"
      },
      "source": [
        "# numpy format"
      ]
    },
    {
      "cell_type": "code",
      "metadata": {
        "id": "t2pzNR5SQ0By",
        "colab_type": "code",
        "colab": {
          "base_uri": "https://localhost:8080/",
          "height": 34
        },
        "outputId": "896f8e33-80fa-4734-f87f-0b3a552cfb55"
      },
      "source": [
        "A = train.drop('price',axis=1).values\n",
        "b = train['price'].values\n",
        "A.shape,b.shape"
      ],
      "execution_count": 2,
      "outputs": [
        {
          "output_type": "execute_result",
          "data": {
            "text/plain": [
              "((406, 13), (406,))"
            ]
          },
          "metadata": {
            "tags": []
          },
          "execution_count": 2
        }
      ]
    },
    {
      "cell_type": "markdown",
      "metadata": {
        "id": "OCL-mo1YRhIF",
        "colab_type": "text"
      },
      "source": [
        "# using numpy "
      ]
    },
    {
      "cell_type": "code",
      "metadata": {
        "id": "i92ARhQFQ-c2",
        "colab_type": "code",
        "colab": {
          "base_uri": "https://localhost:8080/",
          "height": 68
        },
        "outputId": "c4a9f207-98c3-4ed5-9cf7-b6bef21144fa"
      },
      "source": [
        "from numpy.linalg import lstsq,inv\n",
        "w1 = lstsq(A,b,rcond=-1)[0]\n",
        "w1"
      ],
      "execution_count": 3,
      "outputs": [
        {
          "output_type": "execute_result",
          "data": {
            "text/plain": [
              "array([-0.11802871,  0.14585878, -0.01561675,  0.07786731, -0.21456858,\n",
              "        0.24148372, -0.02759173, -0.40934102,  0.28116062, -0.20388614,\n",
              "       -0.2146101 ,  0.09129367, -0.42828407])"
            ]
          },
          "metadata": {
            "tags": []
          },
          "execution_count": 3
        }
      ]
    },
    {
      "cell_type": "markdown",
      "metadata": {
        "id": "dyVkcp2gRksd",
        "colab_type": "text"
      },
      "source": [
        "# scratch"
      ]
    },
    {
      "cell_type": "code",
      "metadata": {
        "id": "l1gCDAteRANa",
        "colab_type": "code",
        "colab": {
          "base_uri": "https://localhost:8080/",
          "height": 68
        },
        "outputId": "5c2ecf83-0aeb-4ac5-9da2-0535afea1a63"
      },
      "source": [
        "w2 = inv(A.T@A)@A.T@b\n",
        "w2"
      ],
      "execution_count": 4,
      "outputs": [
        {
          "output_type": "execute_result",
          "data": {
            "text/plain": [
              "array([-0.11802871,  0.14585878, -0.01561675,  0.07786731, -0.21456858,\n",
              "        0.24148372, -0.02759173, -0.40934102,  0.28116062, -0.20388614,\n",
              "       -0.2146101 ,  0.09129367, -0.42828407])"
            ]
          },
          "metadata": {
            "tags": []
          },
          "execution_count": 4
        }
      ]
    },
    {
      "cell_type": "markdown",
      "metadata": {
        "id": "_J-P6x4vSoF8",
        "colab_type": "text"
      },
      "source": [
        "# metrics"
      ]
    },
    {
      "cell_type": "code",
      "metadata": {
        "id": "1uyCBoSCRAZP",
        "colab_type": "code",
        "colab": {
          "base_uri": "https://localhost:8080/",
          "height": 34
        },
        "outputId": "eb2cbc0b-64e5-4807-e829-4ff7b3804151"
      },
      "source": [
        "from sklearn.metrics import r2_score\n",
        "\n",
        "y_pred = train.drop('price',axis=1).values@w2\n",
        "y_real = train['price'].values\n",
        "r2_score(y_real,y_pred)"
      ],
      "execution_count": 5,
      "outputs": [
        {
          "output_type": "execute_result",
          "data": {
            "text/plain": [
              "0.7231848723123615"
            ]
          },
          "metadata": {
            "tags": []
          },
          "execution_count": 5
        }
      ]
    },
    {
      "cell_type": "code",
      "metadata": {
        "id": "jUtc-0JcSfLk",
        "colab_type": "code",
        "colab": {
          "base_uri": "https://localhost:8080/",
          "height": 34
        },
        "outputId": "10a74724-4689-47d5-d4f9-27f658f0c147"
      },
      "source": [
        "y_pred = test.drop('price',axis=1).values@w2\n",
        "y_real = test['price'].values\n",
        "r2_score(y_real,y_pred)"
      ],
      "execution_count": 6,
      "outputs": [
        {
          "output_type": "execute_result",
          "data": {
            "text/plain": [
              "0.7945158416499495"
            ]
          },
          "metadata": {
            "tags": []
          },
          "execution_count": 6
        }
      ]
    },
    {
      "cell_type": "code",
      "metadata": {
        "id": "329Ol9UWUfTU",
        "colab_type": "code",
        "colab": {}
      },
      "source": [
        ""
      ],
      "execution_count": 0,
      "outputs": []
    }
  ]
}