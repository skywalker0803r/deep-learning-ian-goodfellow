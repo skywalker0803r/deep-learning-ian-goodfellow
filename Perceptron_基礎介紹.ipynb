{
  "nbformat": 4,
  "nbformat_minor": 0,
  "metadata": {
    "colab": {
      "name": "Perceptron_基礎介紹.ipynb",
      "provenance": [],
      "authorship_tag": "ABX9TyNwRwWpbMQM/2+ON1C9Q9ZI",
      "include_colab_link": true
    },
    "kernelspec": {
      "name": "python3",
      "display_name": "Python 3"
    },
    "widgets": {
      "application/vnd.jupyter.widget-state+json": {
        "ef4960a2c2654d3982e0bfc8ff36c01c": {
          "model_module": "@jupyter-widgets/controls",
          "model_name": "HBoxModel",
          "state": {
            "_view_name": "HBoxView",
            "_dom_classes": [],
            "_model_name": "HBoxModel",
            "_view_module": "@jupyter-widgets/controls",
            "_model_module_version": "1.5.0",
            "_view_count": null,
            "_view_module_version": "1.5.0",
            "box_style": "",
            "layout": "IPY_MODEL_cc60c06de2ad4c7a9aee08fe0af7af38",
            "_model_module": "@jupyter-widgets/controls",
            "children": [
              "IPY_MODEL_a545af1235934f239ade61a88e8a3637",
              "IPY_MODEL_66444efa800144e7ab59afb03a31fb35"
            ]
          }
        },
        "cc60c06de2ad4c7a9aee08fe0af7af38": {
          "model_module": "@jupyter-widgets/base",
          "model_name": "LayoutModel",
          "state": {
            "_view_name": "LayoutView",
            "grid_template_rows": null,
            "right": null,
            "justify_content": null,
            "_view_module": "@jupyter-widgets/base",
            "overflow": null,
            "_model_module_version": "1.2.0",
            "_view_count": null,
            "flex_flow": null,
            "width": null,
            "min_width": null,
            "border": null,
            "align_items": null,
            "bottom": null,
            "_model_module": "@jupyter-widgets/base",
            "top": null,
            "grid_column": null,
            "overflow_y": null,
            "overflow_x": null,
            "grid_auto_flow": null,
            "grid_area": null,
            "grid_template_columns": null,
            "flex": null,
            "_model_name": "LayoutModel",
            "justify_items": null,
            "grid_row": null,
            "max_height": null,
            "align_content": null,
            "visibility": null,
            "align_self": null,
            "height": null,
            "min_height": null,
            "padding": null,
            "grid_auto_rows": null,
            "grid_gap": null,
            "max_width": null,
            "order": null,
            "_view_module_version": "1.2.0",
            "grid_template_areas": null,
            "object_position": null,
            "object_fit": null,
            "grid_auto_columns": null,
            "margin": null,
            "display": null,
            "left": null
          }
        },
        "a545af1235934f239ade61a88e8a3637": {
          "model_module": "@jupyter-widgets/controls",
          "model_name": "FloatProgressModel",
          "state": {
            "_view_name": "ProgressView",
            "style": "IPY_MODEL_63b1a5a52076439b8196ebe3c7f83512",
            "_dom_classes": [],
            "description": "100%",
            "_model_name": "FloatProgressModel",
            "bar_style": "success",
            "max": 1000,
            "_view_module": "@jupyter-widgets/controls",
            "_model_module_version": "1.5.0",
            "value": 1000,
            "_view_count": null,
            "_view_module_version": "1.5.0",
            "orientation": "horizontal",
            "min": 0,
            "description_tooltip": null,
            "_model_module": "@jupyter-widgets/controls",
            "layout": "IPY_MODEL_730d3ffa954d4c1fa03377772409faae"
          }
        },
        "66444efa800144e7ab59afb03a31fb35": {
          "model_module": "@jupyter-widgets/controls",
          "model_name": "HTMLModel",
          "state": {
            "_view_name": "HTMLView",
            "style": "IPY_MODEL_34ffa29c784b48e0ad082e2319481138",
            "_dom_classes": [],
            "description": "",
            "_model_name": "HTMLModel",
            "placeholder": "​",
            "_view_module": "@jupyter-widgets/controls",
            "_model_module_version": "1.5.0",
            "value": " 1000/1000 [00:12&lt;00:00, 82.79it/s]",
            "_view_count": null,
            "_view_module_version": "1.5.0",
            "description_tooltip": null,
            "_model_module": "@jupyter-widgets/controls",
            "layout": "IPY_MODEL_3f49a05befad4e12b1cffc9ed2baef0c"
          }
        },
        "63b1a5a52076439b8196ebe3c7f83512": {
          "model_module": "@jupyter-widgets/controls",
          "model_name": "ProgressStyleModel",
          "state": {
            "_view_name": "StyleView",
            "_model_name": "ProgressStyleModel",
            "description_width": "initial",
            "_view_module": "@jupyter-widgets/base",
            "_model_module_version": "1.5.0",
            "_view_count": null,
            "_view_module_version": "1.2.0",
            "bar_color": null,
            "_model_module": "@jupyter-widgets/controls"
          }
        },
        "730d3ffa954d4c1fa03377772409faae": {
          "model_module": "@jupyter-widgets/base",
          "model_name": "LayoutModel",
          "state": {
            "_view_name": "LayoutView",
            "grid_template_rows": null,
            "right": null,
            "justify_content": null,
            "_view_module": "@jupyter-widgets/base",
            "overflow": null,
            "_model_module_version": "1.2.0",
            "_view_count": null,
            "flex_flow": null,
            "width": null,
            "min_width": null,
            "border": null,
            "align_items": null,
            "bottom": null,
            "_model_module": "@jupyter-widgets/base",
            "top": null,
            "grid_column": null,
            "overflow_y": null,
            "overflow_x": null,
            "grid_auto_flow": null,
            "grid_area": null,
            "grid_template_columns": null,
            "flex": null,
            "_model_name": "LayoutModel",
            "justify_items": null,
            "grid_row": null,
            "max_height": null,
            "align_content": null,
            "visibility": null,
            "align_self": null,
            "height": null,
            "min_height": null,
            "padding": null,
            "grid_auto_rows": null,
            "grid_gap": null,
            "max_width": null,
            "order": null,
            "_view_module_version": "1.2.0",
            "grid_template_areas": null,
            "object_position": null,
            "object_fit": null,
            "grid_auto_columns": null,
            "margin": null,
            "display": null,
            "left": null
          }
        },
        "34ffa29c784b48e0ad082e2319481138": {
          "model_module": "@jupyter-widgets/controls",
          "model_name": "DescriptionStyleModel",
          "state": {
            "_view_name": "StyleView",
            "_model_name": "DescriptionStyleModel",
            "description_width": "",
            "_view_module": "@jupyter-widgets/base",
            "_model_module_version": "1.5.0",
            "_view_count": null,
            "_view_module_version": "1.2.0",
            "_model_module": "@jupyter-widgets/controls"
          }
        },
        "3f49a05befad4e12b1cffc9ed2baef0c": {
          "model_module": "@jupyter-widgets/base",
          "model_name": "LayoutModel",
          "state": {
            "_view_name": "LayoutView",
            "grid_template_rows": null,
            "right": null,
            "justify_content": null,
            "_view_module": "@jupyter-widgets/base",
            "overflow": null,
            "_model_module_version": "1.2.0",
            "_view_count": null,
            "flex_flow": null,
            "width": null,
            "min_width": null,
            "border": null,
            "align_items": null,
            "bottom": null,
            "_model_module": "@jupyter-widgets/base",
            "top": null,
            "grid_column": null,
            "overflow_y": null,
            "overflow_x": null,
            "grid_auto_flow": null,
            "grid_area": null,
            "grid_template_columns": null,
            "flex": null,
            "_model_name": "LayoutModel",
            "justify_items": null,
            "grid_row": null,
            "max_height": null,
            "align_content": null,
            "visibility": null,
            "align_self": null,
            "height": null,
            "min_height": null,
            "padding": null,
            "grid_auto_rows": null,
            "grid_gap": null,
            "max_width": null,
            "order": null,
            "_view_module_version": "1.2.0",
            "grid_template_areas": null,
            "object_position": null,
            "object_fit": null,
            "grid_auto_columns": null,
            "margin": null,
            "display": null,
            "left": null
          }
        }
      }
    }
  },
  "cells": [
    {
      "cell_type": "markdown",
      "metadata": {
        "id": "view-in-github",
        "colab_type": "text"
      },
      "source": [
        "<a href=\"https://colab.research.google.com/github/skywalker0803r/deep-learning-ian-goodfellow/blob/master/Perceptron_%E5%9F%BA%E7%A4%8E%E4%BB%8B%E7%B4%B9.ipynb\" target=\"_parent\"><img src=\"https://colab.research.google.com/assets/colab-badge.svg\" alt=\"Open In Colab\"/></a>"
      ]
    },
    {
      "cell_type": "markdown",
      "metadata": {
        "id": "g_0wwrBom4ll"
      },
      "source": [
        "# Perceptron 基礎介紹"
      ]
    },
    {
      "cell_type": "markdown",
      "metadata": {
        "id": "dzL2G5StniwB"
      },
      "source": [
        "感知器（英語：Perceptron）是Frank Rosenblatt在1957年就職於康奈爾航空實驗室（Cornell Aeronautical Laboratory）時所發明的一種人工神經網路。它可以被視為一種最簡單形式的前饋神經網路，是一種二元線性分類器。\n",
        "\n",
        "Frank Rosenblatt給出了相應的感知機學習算法，常用的有感知機學習、最小二乘法和梯度下降法。譬如，感知機利用梯度下降法對損失函數進行極小化，求出可將訓練數據進行線性劃分的分離超平面，從而求得感知機模型。"
      ]
    },
    {
      "cell_type": "markdown",
      "metadata": {
        "id": "ibcJNoOpt-w1"
      },
      "source": [
        "![img](data:image/jpeg;base64,/9j/4AAQSkZJRgABAQAAAQABAAD/2wCEAAkGBxITEhUSExMVFRUVGBUXGBcXGBcXFxYXFxUWFxUVFxgYHSggGBolHRUVITEhJSkrLi4uFx8zODMtNygtLisBCgoKDQ0NDw0PDysZFRkrKysrKy0rKysrKystKzc3KysrLSsrKysrLTcrKy0tLSs3KysrKystKysrKysrKysrLf/AABEIAQAAxQMBIgACEQEDEQH/xAAbAAABBQEBAAAAAAAAAAAAAAAEAAECAwUGB//EADoQAAEDAgQEAwYFAgYDAAAAAAEAAhEDIQQSMUEFUWFxIoGRBhOhscHwMkJS0eEU8RUjYnKCkiSywv/EABYBAQEBAAAAAAAAAAAAAAAAAAABAv/EABYRAQEBAAAAAAAAAAAAAAAAAAABEf/aAAwDAQACEQMRAD8AIxuOqVHZnOJPoB0ACqp4l7TIe4EbgkKLgowstLquLqOMue4nS5Jso++dzPqoQnhBMPPMp855qAClCCWY80s55pBPlQSp1XDRxHYkKT3uOpJ7yVo4ThsAPfvo3c9+SlWqtbrkF7AXgdVBntoP5FW1KBaJJH1VGJ4v4oFx6Qhq7mPMuzeTigIaZ0vaUiENQw7W/hc71WnScCOewI+qAXMU4cVc5nIKsNQMXHqokqZASKCtPmKkWpQima48yrWOI3PqogKYRDl55lJtR3M+qaEkRYzEOGjiOxKZQISWaoCE0KRSWw0J4TgJ0DNCk1qQCNwVAwXmABuVA9PAWlxjpqrme7peKMx66WTtNOc2tpA25klZeP43mkNIJ6adgTogK4niKrxJcKbRfKCM0czy9VzWKxJuASAOszukcU55yPBN99ZV1PDi4I063j6qgKmXEgPaIO5+BlF0nflPw06qytUaPBHbkeg67oR2MuZFwb9QPzjkeaAqgXB5E9jsehW1gaMjvssKhiQ4yI09Rz+a2mVsoDhcC57bpQfhaV9FY/DHkgf8Qy+tu32Uececkj47qAWphyFU1t1oDxMzc9u6Ee2Lbn5IKnJgFKEgECCkAowphAySctTQiGKdIhJRQMJQpFMFQk4SUgqHYLqvimPAiHkU2Hxxp66AxsOalVMNMa7a67C3VY+Ixv8ATta0sY5x1MS4EmTNo7FQNxrjBqMAptc1hsZESFn8MYSbkjzgH6K+niRVadhrYEmVKliMvgym24B0VBj6zRAIjnO/UHQpcSqeDO0+IRP+ofugMTRJtBANxpE842PZBB72WMn9v3QX/wBeC0F12nXn/peOoMhRxDyDmBki87OHZAaEjQH0v9CmovIEHbTogIbiINrbjoT9F0HB8eA9oOjxpy5tPWRPkFzHuzMbbdERRDgQeRv05GyDT4pjCx5btNhyubdlscE/zR4nZWAXOYDWwifuyxsZh/eQTrr35j5fFLCUXXvoDA57Sg2MbjyyqabHBzAQAW3Ggi+/fotPh7885je0FZlDh5a0F+U5ri8mAAbgafiC2MNhWtyubYcuU31UE8TQI0sLd45qgx1+ErVxDJE76jqN1lOF0F1Si0NDg4SY8Mgmd9NlUEmNkgSBJiToOpS3ItY7aFQPCWVOE8KhNSUgE6zRllIBOUgFoOE6cBPCAbHOIYSNWlrh5Eei5HimKaHZRrvfzHzXZ4p4FN06Rfe03XC8XY3+oqZZy5jlHQ3EchdWC/AV9w2DzG/xWuMcYvTcev4f3lUcNwJLQQzX4dOvdamG9mXvdyHxQZb6gJ/M0+X8IdtN5MC4Xe0fZdsDMZR2H4BTbeE0efU+DOdsiKXAXbhegDAtGgT/ANKFNHDjgkCytp8MjZdg+gEHWohNHOnCR0VlLh5AD57dvufRaNejYoWljMoLHWGx+MILsLUYRkNjFjz1+KuwrizwnT8rufRc9W4kKdSHGW6ybiNjZbVGrTqsIa8Ea2N2oI4niPiyg6XHbkrQ+VlPoAkQZg2O/YrTGilE5UgoNCsCCbU4UArAqJsSTJlmqzSkApEJwFpCAShSCSCuoyQRzELh8Pg3VKsR/EarvG7XhZXAKTTXe4C0mLyg6HgfDgxglb1FoQlBGUioolrUz0wemcggQFBwspFQcUA9RCVEVUCHeEQLVOyyeIYXVa1VCYhwVGRhMK4OBuRroDqtKlUYDkDBa4sJg6gFVYeuGkki/TRNi8S10EWO/O2l1RL3Q1B30/dFQserVexw6wO47LWCgkArGqCsaEChSCUKQQPCZSSUGckFJIKhBJOnQQ6rM9nXSSRpNvVaNQWWR7OOhzx+lxHog7agUVTQWHdZHUVFEU2qUJmOUnOQQyqtwVhcq3vQUvCGqNRLlRUqAboM+swqh2HOqMOLpzdwHmrczSDBCqMepgTBgR8kKcPEGJj67ro6cER5LK4rh3Bpyam2tkGNjjLWncGO63cOGRL3ZRC57gWJfUaQ4AAPN4v2laHEXucRlEhvL4lBovYBoZB0PRSCGwL5Z2uiAgmFIKIUwgRSTpIACmUyFEoEmKSRQQcVlcOp5cU9uzvGPOxW3hsNnMSB1OiFxWCdTrU32i7CRuDcfEfFBu4MLSYFymI442mcgku35DzQ9Tj9Q/hCYO1lRNRcDW4/irw0jvHwV2B9oqxMVG+YTF12j6lln4vibWAklXYYOe2VznH8LfxGyIExvtU9zoY2Pih/8QrP1b5kwfQIKrRcTDbD71KH4lwau0jLmeCNZIuRHwN4VGhUoVHHNmj0+a0uG13NPiMlZWH4PWa3N4hfQk6I7DUHnW6Dp8LXBIPNF45wcw/fdYmBYWlarXbKDm6DWsc4AHUmOvNX4bEkOB5H+6N4phQKge3QAAjysUFXAziN1Qc2kGlwGhMjsbqQUn6N7JKBBTCjCm1BKElIBJAAVEqRCigaExCkQmJQPTJBsYOysxWMDmgGxBafQjdUSjBRDm9wgzMdw9pcXkarIqiq52Sk2B+qNOq6+hSDhBV9PDNboAmjzvEcCxBqRDnC0mT+oGetgQtzCezjhlsev7912bVNlOU0VcIoljAw3hYftIyXNHNdLRHiXO8aZNRA/C8CzLLmydFptYOSp4e7wgLRaxADVozZUjBAbLWyhC1igAbSgyrhsqq9RSoP0QB8erFrhAkkD4ShcNw97v8AMJEcuSN40052n/T9f5UcJmDSDvsgscZTgJgpgIHhOAkFIILqFIu0SUqG94SWbqzGWVEqRCaFpEYTEKyExCCohE4F8OjmqYSag1izK7uiqcLNZiARcwREdeiOwz0BbGBTqQAqy9D1a+yir6TpKxuM075uS18NUAPZZ3Gq7Q2VUA4Sq4Q6LFbtKsCFyWG47TjJmki1pjtOi0OE4uZaedkHQEoXFFTDkLiXoAK77q/DlAVKl0VhnIDq92dkG1Fn8DkIAgeFMKIUggkFNqiAphA6SSSgBKZSKaFQyYhShJBWQmIVhCiQgg9siCjsFVi06INWUig13VLKqlSm6qpGUZSMIOZx+DxTKuam4uB5m0dtj1QeMFU2qA/RdvllCYzAhyDjDR2i3RafDaBBB0COq8MDSp02BqoPpPshcY6yqNaFXVq2UGe43ReEcs8vujcAVRuYRmYEc1RhajHVXUXNykbzdW4R8ArGx+MDcX77a472gKDUxWFyHmOaqCJw2La9sGLqutQLeo5oIgKQCZqkECSSKSgEKaFJyZURhIBOkgiVEhTKigaEk6QQEYaqEVVr5RMSsetI8Q8x9URhcVmGqCnEcffoKbh/xMpUeI1eTwP9pj5I/wDqBEFFUsa0CICDlK2IrPJyte7roPiqXYfEnW3cyuqxePbG3ksHEY2TYqiGHpOb+J0norsRV2Q1OomqvQRlH0qgY2T5DmVn0uZ0G6d9UuvsLNHffzQbOHxBIjfUrE4vWuBzK1cNRyMvqde65riFaa0A6W80G9hcRAAEHnz9Fp4PiMWOnIrmKYOvrf4BXU8UdL/2Qddla67fMKCyeG4o6yt3BllQHYhQUJIp+DOxSRWU5JOUyIZJOmKBioqZCiUEU6UJ4QMhnUMpzN0Oo+o/ZFwnCCqMwQFbhNT8jjHKStC7TIFtx9QiKeNbEyEHMu4TVGs+sqYwxC2q3EWEoKti2qgYMgKp10sRiBEnRCMBqa2Z8Sgua/N/t/8AY9ei0+G4bMcx0GnUqjB4bOcosBqfotyA0QEAnEa4a0uOjQSuJFTMZN5n1XQ+0D5ApzGa5PQfysyjhY3skF1Im3SNeY3RdGnfUfKCfmqqOGOxH7/yjcPh9J1+HzQWYemQQNvoUfgapbUJneD6DVSw+HGv3oh+H1AX1REQ7/5buoOgOJ6J1RQAIlJQAlMpFMqEmTpIGhNCmmQRhKFOFTVrgIJqLqkIZ+ISFTmguLzEodmCFWk5wkPBNwYne4VlZ9kR7KEO98JkBw+IQcXXxNRjoLJjef4TtxFR2jQO66rj/Cbl7RY69CuecwhUVUaJJlxko+k0uIa3U/BBFx0FydF0nC8F7tsm7jqfogKw9EU2gD+55pnuUiUJj3Q2Oevb7soMrEQ95fE6AA/p6d5Krp0oJEaaduXRE050gQLfKNVbTYQT8Ta3T7uqI0qPraD/ABzWlh6QsbyOf3cKpgHT4a+uqJLrWI7ax6KCYmDzlCcMB95WBA/E0+rB+yNAPLbsEFhGEYmptLKZ16uFkGnTcQIhJQq3tyny6JKCspJykqGhPCSkEDQmhJ7wBcrOxXEAbNQW4nFico1QhMa6qgbndIGVRdKeg+T2Vbj6BX4ewncqBYp/hmVL2EcTUqnZ0R/xP8oHibvDqZNuy3PZPDZGyNrIOmqYcOELlOM8KcyS1pI5ASR/C6bifFKeHpGrUMNEDzNguMpe0FSq6p7ppruzAtMZQ1h/KZ5Hlz1SKt4fwUsPvHi+w5fyjnLX4XX9/SBcwseLOadiLeYUK2CRGUEDXcS4x/bqtnFUcjSfIdysuOg52+9EA1Oi2RaZFjFyep5kBX+6aL62/jVW1WiJ5XHzUhBggajtv+EoExgt9wrAL9woMa6TpvfpyhWMJ7fvoAgu1F/PZZTKn/mNsfFTc3/q63zWnMmDMrE4pWjE4czH4m+pFkG538o++qSeR8d06ggUwTkJlQ6RMBJB8Trhre6DL4ljMxgGypw43QgdLjyR9IwBZUTLlBr1Fz+eqmRa2qCdMSbIrW8XQ2FYUVUdB5TZQAYlsuA2ldjwSjFMdVyVEZn+cLvMDThoHRKMP2vpZm0hqA4ujnAjfuVzOKa/DuFahRy0qeYe8Z4i5oMOLpkC4N4XWe0zvEwcgTvzEaX2XP8AE6Rq4d1N1QtP4ne7JcSNs9Jwa7T9IvySCwe1NNtZopPFRxu6LZhvtE/su4oubUaHtMg3H3zXkvsw8Fz2B3vBTIyOywYO17gTsvUOCYY02X/NcjklID48RLW9C76D6rHEbSPL7KO40+ariIMQBPSJ+ZWZ70+vXftKC99SBb1NuipYYt5juTpH3qmdTtqD9PNSbT2i/wB2HTVBJtT67H72U7m0fT5a/wApC+kx8tx6q0NmIt03QTaOZB++S5j2jxObE0aNPVpBPdxH0E+a1+McVbh2F0S8iGtP6vq1c/7IYN1So7EPMmTBO7ifEfS3mg7EiI08xPzSVlNnMEnsI6XKZBWUlItSyoGhYfHKniAW9lWBxVn+YeyDMo6oxxtfyQooODp2KLqAwAqB2kySiWGQI1UWUjqpUmQ42QE0OajiTYz1HqpsHRD4tx0B5eSgI4LQLngASZXetIaI3XG8Ec+nGW02PZdQ8ENtdxsO5Sq57ihc41X5oIa6D+nKLR5ri+LUcVUrufBL6OUPfSgxazgJuYBXc+1NBtHBVZcQ5wFwJJdMgRyJCq9l8fRq0vBTDCGjPJuXXOv5tzO0ojJ9guFUzU942oambxOkQZ6juV32KqQ0noVxHstxNn9e6mxuRmUjLtnB8WS2k/uut4o//Kcdz4R63+AKVXO++1c7a825xaQqnvi4M3sDty+B+Cd9SdCdN7jXp3HoqHuJMSbbaeXmiHpuzX56R80bTYQALSI522kqnDjz5mO6lWnrr0vOnVA5Z4iBETPmIF/TRLFYplNjnvcYb/21iIH4lGmOhmdzvzvsuL9ocTVqVS12jDDWjT/dHM3+7kBq9SpiqwJ1cYaNmNJ37Ddeg8Nwop0gxt4EdT1+qyPZrg5pt948HO/a0gcu66amyNR36deytEHuA6ykoYll9/j9CElkf//Z)"
      ]
    },
    {
      "cell_type": "markdown",
      "metadata": {
        "id": "M6B8Pk4IuLYa"
      },
      "source": [
        "神經細胞結構示意圖\n",
        "感知機是生物神經細胞的簡單抽象。神經細胞結構大致可分為：樹突、突觸、細胞體及軸突。單個神經細胞可被視為一種只有兩種狀態的機器——激動時為『是』，而未激動時為『否』。神經細胞的狀態取決於從其它的神經細胞收到的輸入信號量，及突觸的強度（抑制或加強）。當信號量總和超過了某個閾值時，細胞體就會激動，產生電脈衝。電脈衝沿著軸突並通過突觸傳遞到其它神經元。為了模擬神經細胞行為，與之對應的感知機基礎概念被提出，如權量（突觸）、偏置（閾值）及激活函數（細胞體）。\n",
        "\n",
        "在人工神經網絡領域中，感知機也被指為單層的人工神經網絡，以區別於較複雜的多層感知機（Multilayer Perceptron）。作為一種線性分類器，（單層）感知機可說是最簡單的前向人工神經網絡形式。儘管結構簡單，感知機能夠學習並解決相當複雜的問題。感知機主要的本質缺陷是它不能處理線性不可分問題。"
      ]
    },
    {
      "cell_type": "markdown",
      "metadata": {
        "id": "VM3bH9nsnBy5"
      },
      "source": [
        "![img](https://miro.medium.com/max/424/1*J0zzv7JjJOUh6ycSOVfl3Q.png)"
      ]
    },
    {
      "cell_type": "markdown",
      "metadata": {
        "id": "j4HQyda4uXnY"
      },
      "source": [
        "Perceptron 在程式中實際運作流程圖如下"
      ]
    },
    {
      "cell_type": "markdown",
      "metadata": {
        "id": "yTs1xWY4nxNz"
      },
      "source": [
        "![img](https://pythonmachinelearning.pro/wp-content/uploads/2017/09/Single-Perceptron.png.webp)"
      ]
    },
    {
      "cell_type": "markdown",
      "metadata": {
        "id": "yhxhV2Tgum1L"
      },
      "source": [
        "# 課程大綱"
      ]
    },
    {
      "cell_type": "markdown",
      "metadata": {
        "id": "ogBJTlunurKj"
      },
      "source": [
        "* 1 導入函式庫\n",
        "* 2 製作數據\n",
        "* 3 定義感知器模型架構\n",
        "* 4 訓練感知器模型(用梯度下降法)\n",
        "* 5.評估感知器模型\n",
        "* 6.多層感知器(multiple layer perceptron)"
      ]
    },
    {
      "cell_type": "markdown",
      "metadata": {
        "id": "fzglODb0q8vv"
      },
      "source": [
        "# 1.導入套件"
      ]
    },
    {
      "cell_type": "code",
      "metadata": {
        "id": "Fkap6FYAq6t5"
      },
      "source": [
        "# jax 可以想成有微分功能的numpy\n",
        "import jax\n",
        "import jax.numpy as jnp\n",
        "from jax import random\n",
        "import numpy as np\n",
        "\n",
        "# 進度條\n",
        "from tqdm import tqdm_notebook as tqdm\n",
        "\n",
        "# 機器學習套件庫sklearn\n",
        "from sklearn.metrics import accuracy_score\n",
        "from sklearn.datasets import make_blobs\n",
        "\n",
        "# 繪圖用\n",
        "import matplotlib.pyplot as plt\n",
        "\n",
        "# 整理&操作表格數據用\n",
        "import pandas as pd"
      ],
      "execution_count": 1,
      "outputs": []
    },
    {
      "cell_type": "markdown",
      "metadata": {
        "id": "rSGV8J_osWYc"
      },
      "source": [
        "# 2.製作數據"
      ]
    },
    {
      "cell_type": "markdown",
      "metadata": {
        "id": "K1mtxu-MvcH1"
      },
      "source": [
        "這裡以一個簡單的二分類數據當範例 特徵有 x1,x2 輸出為y(0或1)"
      ]
    },
    {
      "cell_type": "code",
      "metadata": {
        "colab": {
          "base_uri": "https://localhost:8080/",
          "height": 198
        },
        "id": "2swcTFBQrHgo",
        "outputId": "95dda2f3-d8b0-4f7f-9e72-902bfc1e1647"
      },
      "source": [
        "X, y = make_blobs(n_samples=100,centers=2, n_features=2,random_state=0)\n",
        "df = pd.DataFrame()\n",
        "df['x1'] = X[:,0]\n",
        "df['x2'] = X[:,1]\n",
        "df['y'] = y\n",
        "df.head()"
      ],
      "execution_count": 2,
      "outputs": [
        {
          "output_type": "execute_result",
          "data": {
            "text/html": [
              "<div>\n",
              "<style scoped>\n",
              "    .dataframe tbody tr th:only-of-type {\n",
              "        vertical-align: middle;\n",
              "    }\n",
              "\n",
              "    .dataframe tbody tr th {\n",
              "        vertical-align: top;\n",
              "    }\n",
              "\n",
              "    .dataframe thead th {\n",
              "        text-align: right;\n",
              "    }\n",
              "</style>\n",
              "<table border=\"1\" class=\"dataframe\">\n",
              "  <thead>\n",
              "    <tr style=\"text-align: right;\">\n",
              "      <th></th>\n",
              "      <th>x1</th>\n",
              "      <th>x2</th>\n",
              "      <th>y</th>\n",
              "    </tr>\n",
              "  </thead>\n",
              "  <tbody>\n",
              "    <tr>\n",
              "      <th>0</th>\n",
              "      <td>4.218503</td>\n",
              "      <td>2.234192</td>\n",
              "      <td>1</td>\n",
              "    </tr>\n",
              "    <tr>\n",
              "      <th>1</th>\n",
              "      <td>0.907799</td>\n",
              "      <td>0.459844</td>\n",
              "      <td>1</td>\n",
              "    </tr>\n",
              "    <tr>\n",
              "      <th>2</th>\n",
              "      <td>-0.276525</td>\n",
              "      <td>5.081278</td>\n",
              "      <td>0</td>\n",
              "    </tr>\n",
              "    <tr>\n",
              "      <th>3</th>\n",
              "      <td>0.088484</td>\n",
              "      <td>2.322991</td>\n",
              "      <td>0</td>\n",
              "    </tr>\n",
              "    <tr>\n",
              "      <th>4</th>\n",
              "      <td>3.243297</td>\n",
              "      <td>1.214606</td>\n",
              "      <td>1</td>\n",
              "    </tr>\n",
              "  </tbody>\n",
              "</table>\n",
              "</div>"
            ],
            "text/plain": [
              "         x1        x2  y\n",
              "0  4.218503  2.234192  1\n",
              "1  0.907799  0.459844  1\n",
              "2 -0.276525  5.081278  0\n",
              "3  0.088484  2.322991  0\n",
              "4  3.243297  1.214606  1"
            ]
          },
          "metadata": {
            "tags": []
          },
          "execution_count": 2
        }
      ]
    },
    {
      "cell_type": "markdown",
      "metadata": {
        "id": "-lVPEF0Zsaq2"
      },
      "source": [
        "針對上面的表格數據,可以用視覺化套件繪製出來幫助我們更好的理解數據"
      ]
    },
    {
      "cell_type": "code",
      "metadata": {
        "colab": {
          "base_uri": "https://localhost:8080/",
          "height": 279
        },
        "id": "94FzaphysfUU",
        "outputId": "7a76fad7-74ec-42e6-f762-afecbfd21d92"
      },
      "source": [
        "def plot_data(class_zero,class_one):\n",
        "  plt.scatter(class_zero.x1,class_zero.x2,label='class_zero',color='red')\n",
        "  plt.scatter(class_one.x1,class_one.x2,label='class_one',color='blue')\n",
        "  plt.xlabel('x1')\n",
        "  plt.ylabel('x2')\n",
        "  plt.legend()\n",
        "  plt.show()\n",
        "plot_data(df[df.y == 0],df[df.y == 1])"
      ],
      "execution_count": 3,
      "outputs": [
        {
          "output_type": "display_data",
          "data": {
            "image/png": "[encoded data removed]",
            "text/plain": [
              "<Figure size 432x288 with 1 Axes>"
            ]
          },
          "metadata": {
            "tags": [],
            "needs_background": "light"
          }
        }
      ]
    },
    {
      "cell_type": "markdown",
      "metadata": {
        "id": "IfozF8zfwp3A"
      },
      "source": [
        "# 3.定義感知器模型參數"
      ]
    },
    {
      "cell_type": "markdown",
      "metadata": {
        "id": "fR2V5ys-2tux"
      },
      "source": [
        "在開始正式訓練之前我們先把模型建立起來 並隨機設定其中的weight(權重) 和bias(偏置) 看看這樣隨機的參數表現如何"
      ]
    },
    {
      "cell_type": "code",
      "metadata": {
        "id": "xgM6b4daxrMV",
        "outputId": "8760330c-7305-4ae7-df91-4c71a2afb3b2",
        "colab": {
          "base_uri": "https://localhost:8080/"
        }
      },
      "source": [
        "# model weights 隨機設定初始值\n",
        "key = random.PRNGKey(0)\n",
        "params = {\n",
        "    'w': random.uniform(key,minval=-1.0,maxval=1.0,shape=(2,)),\n",
        "    'b': 0.\n",
        "}\n",
        "\n",
        "# model forward method\n",
        "def forward(params,X):\n",
        "    return jax.nn.sigmoid(jnp.dot(X,params['w'] + params['b']))"
      ],
      "execution_count": 4,
      "outputs": [
        {
          "output_type": "stream",
          "text": [
            "WARNING:absl:No GPU/TPU found, falling back to CPU. (Set TF_CPP_MIN_LOG_LEVEL=0 and rerun for more info.)\n"
          ],
          "name": "stderr"
        }
      ]
    },
    {
      "cell_type": "markdown",
      "metadata": {
        "id": "74wEjv3T3_sw"
      },
      "source": [
        "forward 輸出值經過 sigmoid函數 會被限制在0~1之間"
      ]
    },
    {
      "cell_type": "markdown",
      "metadata": {
        "id": "q-vcnRbU4UxH"
      },
      "source": [
        "![img](https://www.googleapis.com/download/storage/v1/b/kaggle-forum-message-attachments/o/inbox%2F5152157%2F366ce717ad74dfe967a940d9a2161f9b%2Fmain-qimg-6b67bea3311c3429bfb34b6b1737fe0c.jpg?generation=1605711218576073&alt=media)\n",
        "\n"
      ]
    },
    {
      "cell_type": "code",
      "metadata": {
        "colab": {
          "base_uri": "https://localhost:8080/"
        },
        "id": "_2bewc2R2SGd",
        "outputId": "1b3cfda5-8661-4c2b-bd46-901395714ed6"
      },
      "source": [
        "y_pred = forward(params,df[['x1','x2']].values)\n",
        "y_pred"
      ],
      "execution_count": 5,
      "outputs": [
        {
          "output_type": "execute_result",
          "data": {
            "text/plain": [
              "DeviceArray([0.26217878, 0.44142163, 0.96258616, 0.796206  , 0.24945992,\n",
              "             0.70374334, 0.8725847 , 0.30773067, 0.8908764 , 0.35807458,\n",
              "             0.9134364 , 0.36440393, 0.9268777 , 0.9315171 , 0.50499606,\n",
              "             0.19814704, 0.12827411, 0.90262073, 0.4615074 , 0.5361069 ,\n",
              "             0.90078026, 0.9067656 , 0.67655736, 0.9634862 , 0.2647489 ,\n",
              "             0.914678  , 0.33175138, 0.95867646, 0.8823558 , 0.5043432 ,\n",
              "             0.1820572 , 0.9011494 , 0.50954664, 0.1809794 , 0.6795155 ,\n",
              "             0.78339076, 0.4456674 , 0.6131762 , 0.66066056, 0.6208687 ,\n",
              "             0.85754675, 0.88971645, 0.98549336, 0.8051815 , 0.7734105 ,\n",
              "             0.41860783, 0.21275859, 0.22172746, 0.9633958 , 0.9541805 ,\n",
              "             0.27530482, 0.56852525, 0.91471004, 0.9081617 , 0.4728595 ,\n",
              "             0.9034644 , 0.5437719 , 0.41312283, 0.27912343, 0.12462027,\n",
              "             0.53793913, 0.8073177 , 0.9648636 , 0.31999302, 0.9461732 ,\n",
              "             0.697632  , 0.9007727 , 0.6010229 , 0.30036306, 0.7543441 ,\n",
              "             0.7968443 , 0.30150902, 0.24439263, 0.8492316 , 0.8138472 ,\n",
              "             0.90052843, 0.59417266, 0.39946872, 0.889589  , 0.91216403,\n",
              "             0.73697126, 0.84797037, 0.96689314, 0.8463187 , 0.8369278 ,\n",
              "             0.94306666, 0.22236454, 0.89062035, 0.421386  , 0.25463635,\n",
              "             0.36419517, 0.18207762, 0.64042085, 0.2704682 , 0.7486236 ,\n",
              "             0.9803529 , 0.16695526, 0.24868599, 0.94532734, 0.6430738 ],            dtype=float32)"
            ]
          },
          "metadata": {
            "tags": []
          },
          "execution_count": 5
        }
      ]
    },
    {
      "cell_type": "markdown",
      "metadata": {
        "id": "C-VTYGs-380I"
      },
      "source": [
        "我們實際有兩個類別0和1,所以可以把模型原始輸出再做轉換 大於0.5的變成1小於0.5的變成0"
      ]
    },
    {
      "cell_type": "code",
      "metadata": {
        "colab": {
          "base_uri": "https://localhost:8080/"
        },
        "id": "7yM5SIvCzxb4",
        "outputId": "7fa7d09d-48e8-41ea-e907-fd7988a8e829"
      },
      "source": [
        "y_pred = (y_pred>=0.5).astype(int)\n",
        "y_pred"
      ],
      "execution_count": 6,
      "outputs": [
        {
          "output_type": "execute_result",
          "data": {
            "text/plain": [
              "DeviceArray([0, 0, 1, 1, 0, 1, 1, 0, 1, 0, 1, 0, 1, 1, 1, 0, 0, 1, 0, 1,\n",
              "             1, 1, 1, 1, 0, 1, 0, 1, 1, 1, 0, 1, 1, 0, 1, 1, 0, 1, 1, 1,\n",
              "             1, 1, 1, 1, 1, 0, 0, 0, 1, 1, 0, 1, 1, 1, 0, 1, 1, 0, 0, 0,\n",
              "             1, 1, 1, 0, 1, 1, 1, 1, 0, 1, 1, 0, 0, 1, 1, 1, 1, 0, 1, 1,\n",
              "             1, 1, 1, 1, 1, 1, 0, 1, 0, 0, 0, 0, 1, 0, 1, 1, 0, 0, 1, 1],            dtype=int32)"
            ]
          },
          "metadata": {
            "tags": []
          },
          "execution_count": 6
        }
      ]
    },
    {
      "cell_type": "code",
      "metadata": {
        "id": "1MoVvzafC3LV"
      },
      "source": [
        "df['y_pred'] = list(y_pred)"
      ],
      "execution_count": 7,
      "outputs": []
    },
    {
      "cell_type": "markdown",
      "metadata": {
        "id": "8XJhKNFr4JN1"
      },
      "source": [
        "看看正確率如何(訓練前)"
      ]
    },
    {
      "cell_type": "code",
      "metadata": {
        "colab": {
          "base_uri": "https://localhost:8080/"
        },
        "id": "yJA_-3Sj25td",
        "outputId": "8ceddc49-cbec-4609-fe55-7fd9917111c1"
      },
      "source": [
        "accuracy_score(df['y'].values,df['y_pred'].values)"
      ],
      "execution_count": 8,
      "outputs": [
        {
          "output_type": "execute_result",
          "data": {
            "text/plain": [
              "0.17"
            ]
          },
          "metadata": {
            "tags": []
          },
          "execution_count": 8
        }
      ]
    },
    {
      "cell_type": "markdown",
      "metadata": {
        "id": "w8rMk1gS9nzc"
      },
      "source": [
        "可視化預測結果"
      ]
    },
    {
      "cell_type": "code",
      "metadata": {
        "colab": {
          "base_uri": "https://localhost:8080/",
          "height": 577
        },
        "id": "OrqijKBy9nWa",
        "outputId": "2c55ed32-9260-4bf1-fa21-f55571d1ee50"
      },
      "source": [
        "print('實際情況')\n",
        "plot_data(df[df.y == 0],df[df.y == 1])\n",
        "print('預測情況')\n",
        "plot_data(df[df.y_pred == 0],df[df.y_pred == 1])"
      ],
      "execution_count": 9,
      "outputs": [
        {
          "output_type": "stream",
          "text": [
            "實際情況\n"
          ],
          "name": "stdout"
        },
        {
          "output_type": "display_data",
          "data": {
            "image/png": "[encoded data removed]",
            "text/plain": [
              "<Figure size 432x288 with 1 Axes>"
            ]
          },
          "metadata": {
            "tags": [],
            "needs_background": "light"
          }
        },
        {
          "output_type": "stream",
          "text": [
            "預測情況\n"
          ],
          "name": "stdout"
        },
        {
          "output_type": "display_data",
          "data": {
            "image/png": "[encoded data removed]",
            "text/plain": [
              "<Figure size 432x288 with 1 Axes>"
            ]
          },
          "metadata": {
            "tags": [],
            "needs_background": "light"
          }
        }
      ]
    },
    {
      "cell_type": "markdown",
      "metadata": {
        "id": "Uv1j3VbQ5P_y"
      },
      "source": [
        "# 4.訓練感知器模型(用梯度下降法)"
      ]
    },
    {
      "cell_type": "markdown",
      "metadata": {
        "id": "J3KbsuyB5_kA"
      },
      "source": [
        "梯度下降解決的問題是這樣的\n",
        "\n",
        "1.給定一個損失函數例如:J(w)\n",
        "\n",
        "2.找到一組w讓J(w)最小"
      ]
    },
    {
      "cell_type": "markdown",
      "metadata": {
        "id": "oj3w3GhJ54pI"
      },
      "source": [
        "![img](https://miro.medium.com/max/700/0*owEkv2m9XluM2Ta_.png)"
      ]
    },
    {
      "cell_type": "markdown",
      "metadata": {
        "id": "disTMFld6YEO"
      },
      "source": [
        "梯度下降求解的思路是這樣的:\n",
        "\n",
        "1.對每一個w去計算∂J(w)/ ∂w(所謂的梯度)\n",
        "\n",
        "2.根據梯度的方向和大小去更新w\n",
        "\n",
        "3.通常會在梯度前面乘上一個learning_rate(控制更新步長)"
      ]
    },
    {
      "cell_type": "markdown",
      "metadata": {
        "id": "tzk-y2Wd5XNw"
      },
      "source": [
        "![img](https://miro.medium.com/max/700/0*qKCRY2P2eAbClDcm.gif)"
      ]
    },
    {
      "cell_type": "markdown",
      "metadata": {
        "id": "lfQLvznt7MuA"
      },
      "source": [
        "定義一個損失函數(loss_function)簡稱J(吃模型的參數(params)(weight和bias)吐出loss)"
      ]
    },
    {
      "cell_type": "code",
      "metadata": {
        "colab": {
          "base_uri": "https://localhost:8080/"
        },
        "id": "Q77NPQvR8v6O",
        "outputId": "7fa7605a-18f7-44eb-f813-f9ecd58c94a9"
      },
      "source": [
        "def J(params):\n",
        "  y_pred = forward(params,X) # 預測值\n",
        "  loss = jnp.mean(jnp.square(y_pred - y)) # 預測值跟真實值之間的mse loss\n",
        "  return loss\n",
        "loss = J(params)\n",
        "print('loss:',loss)"
      ],
      "execution_count": 10,
      "outputs": [
        {
          "output_type": "stream",
          "text": [
            "loss: 0.5773976\n"
          ],
          "name": "stdout"
        }
      ]
    },
    {
      "cell_type": "markdown",
      "metadata": {
        "id": "mwYPAjU3_gbJ"
      },
      "source": [
        "對損失函數求偏微分(梯度),這裡使用jax套件提供的功能非常方便,可以輕鬆取得 損失函數 的 導函數"
      ]
    },
    {
      "cell_type": "markdown",
      "metadata": {
        "id": "wOe-OkkaITPb"
      },
      "source": [
        "導函數複習： 若有函數 f(x) = x**2 則其導函數 f'(x) = 2x"
      ]
    },
    {
      "cell_type": "code",
      "metadata": {
        "colab": {
          "base_uri": "https://localhost:8080/"
        },
        "id": "vn_csMr-_q5L",
        "outputId": "8dd35ec2-cdc6-4ef9-fa5b-996adf7b7450"
      },
      "source": [
        "grad_fn = jax.grad(J) #損失函數的導函數\n",
        "grad = grad_fn(params) #利用導函數求導數(梯度)\n",
        "print('grad:',grad)"
      ],
      "execution_count": 11,
      "outputs": [
        {
          "output_type": "stream",
          "text": [
            "grad: {'b': DeviceArray(0.07400565, dtype=float32), 'w': DeviceArray([-0.15146564,  0.22547129], dtype=float32)}\n"
          ],
          "name": "stdout"
        }
      ]
    },
    {
      "cell_type": "markdown",
      "metadata": {
        "id": "GUvNFgLnAnuE"
      },
      "source": [
        "用 梯度下降公式 更新模型參數"
      ]
    },
    {
      "cell_type": "markdown",
      "metadata": {
        "id": "oMHrvnBFA9jT"
      },
      "source": [
        "![img](https://miro.medium.com/max/279/0*MyJf92jsXJMpumzx.png)"
      ]
    },
    {
      "cell_type": "code",
      "metadata": {
        "colab": {
          "base_uri": "https://localhost:8080/"
        },
        "id": "I1QxntWxAnSv",
        "outputId": "d5fd53bc-2b54-492f-853b-a87a12ee2dc5"
      },
      "source": [
        "def update(params, grads,lr = 0.01): # lr代表學習率\n",
        "  new_params = jax.tree_multimap(lambda p, g: p - lr * g, params, grads)\n",
        "  return new_params\n",
        "\n",
        "print('舊參數',params)\n",
        "new_params = update(params,grad_fn(params))\n",
        "print('新參數:',new_params)"
      ],
      "execution_count": 12,
      "outputs": [
        {
          "output_type": "stream",
          "text": [
            "舊參數 {'w': DeviceArray([-0.5674093 ,  0.60824823], dtype=float32), 'b': 0.0}\n",
            "新參數: {'b': DeviceArray(-0.00074006, dtype=float32), 'w': DeviceArray([-0.5658946,  0.6059935], dtype=float32)}\n"
          ],
          "name": "stdout"
        }
      ]
    },
    {
      "cell_type": "markdown",
      "metadata": {
        "id": "RDR10Y3rFAxi"
      },
      "source": [
        "所謂的機器學習(訓練)其實就是反覆執行多次參數更新"
      ]
    },
    {
      "cell_type": "code",
      "metadata": {
        "colab": {
          "base_uri": "https://localhost:8080/",
          "height": 485,
          "referenced_widgets": [
            "ef4960a2c2654d3982e0bfc8ff36c01c",
            "cc60c06de2ad4c7a9aee08fe0af7af38",
            "a545af1235934f239ade61a88e8a3637",
            "66444efa800144e7ab59afb03a31fb35",
            "63b1a5a52076439b8196ebe3c7f83512",
            "730d3ffa954d4c1fa03377772409faae",
            "34ffa29c784b48e0ad082e2319481138",
            "3f49a05befad4e12b1cffc9ed2baef0c"
          ]
        },
        "id": "biVkyjPRm64Z",
        "outputId": "99ee45b7-ffe6-4004-c68a-03e5f24b3c32"
      },
      "source": [
        "loss_history = [] # 紀錄每一步的loss\n",
        "for i in tqdm(range(1000)):\n",
        "  loss = J(params)\n",
        "  loss_history.append(loss)\n",
        "  grads = grad_fn(params)\n",
        "  params = update(params, grads)\n",
        "  if i%50 == 0:\n",
        "    print(i,loss)"
      ],
      "execution_count": 13,
      "outputs": [
        {
          "output_type": "stream",
          "text": [
            "/usr/local/lib/python3.6/dist-packages/ipykernel_launcher.py:2: TqdmDeprecationWarning: This function will be removed in tqdm==5.0.0\n",
            "Please use `tqdm.notebook.tqdm` instead of `tqdm.tqdm_notebook`\n",
            "  \n"
          ],
          "name": "stderr"
        },
        {
          "output_type": "display_data",
          "data": {
            "application/vnd.jupyter.widget-view+json": {
              "model_id": "ef4960a2c2654d3982e0bfc8ff36c01c",
              "version_minor": 0,
              "version_major": 2
            },
            "text/plain": [
              "HBox(children=(FloatProgress(value=0.0, max=1000.0), HTML(value='')))"
            ]
          },
          "metadata": {
            "tags": []
          }
        },
        {
          "output_type": "stream",
          "text": [
            "0 0.5773976\n",
            "50 0.5067307\n",
            "100 0.39113837\n",
            "150 0.34271637\n",
            "200 0.30199292\n",
            "250 0.2574211\n",
            "300 0.2162299\n",
            "350 0.18447956\n",
            "400 0.16191307\n",
            "450 0.14602408\n",
            "500 0.13460481\n",
            "550 0.12615803\n",
            "600 0.11972843\n",
            "650 0.11470637\n",
            "700 0.1106946\n",
            "750 0.10742735\n",
            "800 0.10472178\n",
            "850 0.102448866\n",
            "900 0.10051547\n",
            "950 0.09885283\n",
            "\n"
          ],
          "name": "stdout"
        }
      ]
    },
    {
      "cell_type": "markdown",
      "metadata": {
        "id": "KAsnFHUnHlas"
      },
      "source": [
        "觀察 loss下降曲線"
      ]
    },
    {
      "cell_type": "code",
      "metadata": {
        "colab": {
          "base_uri": "https://localhost:8080/",
          "height": 287
        },
        "id": "HnyN10HsHlj5",
        "outputId": "beb4888e-42df-4013-d4c8-362a0b3016bb"
      },
      "source": [
        "plt.plot(loss_history)"
      ],
      "execution_count": 14,
      "outputs": [
        {
          "output_type": "execute_result",
          "data": {
            "text/plain": [
              "[<matplotlib.lines.Line2D at 0x7f933e72b320>]"
            ]
          },
          "metadata": {
            "tags": []
          },
          "execution_count": 14
        },
        {
          "output_type": "display_data",
          "data": {
            "image/png": "[encoded data removed]",
            "text/plain": [
              "<Figure size 432x288 with 1 Axes>"
            ]
          },
          "metadata": {
            "tags": [],
            "needs_background": "light"
          }
        }
      ]
    },
    {
      "cell_type": "markdown",
      "metadata": {
        "id": "0AB0RTVOGpih"
      },
      "source": [
        "# 5.評估感知器模型(訓練後)"
      ]
    },
    {
      "cell_type": "code",
      "metadata": {
        "colab": {
          "base_uri": "https://localhost:8080/"
        },
        "id": "OFR1Xhqeqpub",
        "outputId": "27153cde-a353-4564-86f1-e61586bbac32"
      },
      "source": [
        "y_pred = forward(params,df[['x1','x2']].values)\n",
        "y_pred = (y_pred>=0.5).astype(int)\n",
        "df['y_pred'] = list(y_pred)\n",
        "accuracy_score(df['y'].values,df['y_pred'].values)"
      ],
      "execution_count": 15,
      "outputs": [
        {
          "output_type": "execute_result",
          "data": {
            "text/plain": [
              "0.87"
            ]
          },
          "metadata": {
            "tags": []
          },
          "execution_count": 15
        }
      ]
    },
    {
      "cell_type": "markdown",
      "metadata": {
        "id": "iLsa_vcKG_ey"
      },
      "source": [
        "可視化預測結果"
      ]
    },
    {
      "cell_type": "code",
      "metadata": {
        "colab": {
          "base_uri": "https://localhost:8080/",
          "height": 577
        },
        "id": "rQ1ZfoY5G4WT",
        "outputId": "558dd23e-3bca-410d-d55b-c6fc8d1d41c4"
      },
      "source": [
        "print('實際情況')\n",
        "plot_data(df[df.y == 0],df[df.y == 1])\n",
        "print('預測情況')\n",
        "plot_data(df[df.y_pred == 0],df[df.y_pred == 1])"
      ],
      "execution_count": 16,
      "outputs": [
        {
          "output_type": "stream",
          "text": [
            "實際情況\n"
          ],
          "name": "stdout"
        },
        {
          "output_type": "display_data",
          "data": {
            "image/png": "[encoded data removed]",
            "text/plain": [
              "<Figure size 432x288 with 1 Axes>"
            ]
          },
          "metadata": {
            "tags": [],
            "needs_background": "light"
          }
        },
        {
          "output_type": "stream",
          "text": [
            "預測情況\n"
          ],
          "name": "stdout"
        },
        {
          "output_type": "display_data",
          "data": {
            "image/png": "[encoded data removed]",
            "text/plain": [
              "<Figure size 432x288 with 1 Axes>"
            ]
          },
          "metadata": {
            "tags": [],
            "needs_background": "light"
          }
        }
      ]
    },
    {
      "cell_type": "markdown",
      "metadata": {
        "id": "_op_pughFICl"
      },
      "source": [
        "# 6.多層感知器(multiple layer perceptron)"
      ]
    },
    {
      "cell_type": "markdown",
      "metadata": {
        "id": "RffJgVQTFKu1"
      },
      "source": [
        "![img](http://jihshichen.weebly.com/uploads/7/4/6/2/74629793/_2192882.png)"
      ]
    },
    {
      "cell_type": "markdown",
      "metadata": {
        "id": "m2ina0hzJT3q"
      },
      "source": [
        "導入深度學習套件 tensorflow & keras"
      ]
    },
    {
      "cell_type": "code",
      "metadata": {
        "id": "DnV0E_RrFJnG"
      },
      "source": [
        "import tensorflow as tf\n",
        "from tensorflow import keras\n",
        "from tensorflow.keras import layers\n",
        "from keras.metrics import Accuracy\n",
        "from keras.losses import mean_squared_error"
      ],
      "execution_count": 17,
      "outputs": []
    },
    {
      "cell_type": "markdown",
      "metadata": {
        "id": "_eLcHRnJR9Xf"
      },
      "source": [
        "setting seed value"
      ]
    },
    {
      "cell_type": "code",
      "metadata": {
        "id": "mC2TK1UrRzYA"
      },
      "source": [
        "seed_value= 0\n",
        "import os\n",
        "os.environ['PYTHONHASHSEED']=str(seed_value)\n",
        "import random\n",
        "random.seed(seed_value)\n",
        "import numpy as np\n",
        "np.random.seed(seed_value)\n",
        "import tensorflow as tf\n",
        "tf.random.set_seed(seed_value)"
      ],
      "execution_count": 18,
      "outputs": []
    },
    {
      "cell_type": "markdown",
      "metadata": {
        "id": "bHmuj3FbJdWe"
      },
      "source": [
        "建立順序模型"
      ]
    },
    {
      "cell_type": "code",
      "metadata": {
        "id": "BjqS85sfJh3Q"
      },
      "source": [
        "model = keras.Sequential(\n",
        "    [\n",
        "        layers.Dense(2, activation=\"relu\"),\n",
        "        layers.Dense(32, activation=\"relu\"),\n",
        "        layers.Dense(32, activation=\"relu\"),\n",
        "        layers.Dense(1, activation=\"sigmoid\"),\n",
        "    ]\n",
        ")"
      ],
      "execution_count": 19,
      "outputs": []
    },
    {
      "cell_type": "markdown",
      "metadata": {
        "id": "xi4cyW0qJmvL"
      },
      "source": [
        "先forward一遍 編譯(定義 optimizer & loss_function) 然後看一下模型總結"
      ]
    },
    {
      "cell_type": "code",
      "metadata": {
        "id": "6-kJ2phkF6xu",
        "outputId": "be128942-d7aa-4848-e2cc-19f15c6b253b",
        "colab": {
          "base_uri": "https://localhost:8080/"
        }
      },
      "source": [
        "X = df[['x1','x2']].values\n",
        "y = df['y'].values\n",
        "y = model(X)\n",
        "model.compile(optimizer = 'Adam',\n",
        "              loss = mean_squared_error)\n",
        "model.summary()"
      ],
      "execution_count": 20,
      "outputs": [
        {
          "output_type": "stream",
          "text": [
            "Model: \"sequential\"\n",
            "_________________________________________________________________\n",
            "Layer (type)                 Output Shape              Param #   \n",
            "=================================================================\n",
            "dense (Dense)                (100, 2)                  6         \n",
            "_________________________________________________________________\n",
            "dense_1 (Dense)              (100, 32)                 96        \n",
            "_________________________________________________________________\n",
            "dense_2 (Dense)              (100, 32)                 1056      \n",
            "_________________________________________________________________\n",
            "dense_3 (Dense)              (100, 1)                  33        \n",
            "=================================================================\n",
            "Total params: 1,191\n",
            "Trainable params: 1,191\n",
            "Non-trainable params: 0\n",
            "_________________________________________________________________\n"
          ],
          "name": "stdout"
        }
      ]
    },
    {
      "cell_type": "markdown",
      "metadata": {
        "id": "lpn0NC6qJ2ZH"
      },
      "source": [
        "訓練模型"
      ]
    },
    {
      "cell_type": "code",
      "metadata": {
        "id": "fTF5M9rHGGEj",
        "outputId": "42619732-4390-41e1-f478-8185f90fe306",
        "colab": {
          "base_uri": "https://localhost:8080/"
        }
      },
      "source": [
        "X = df[['x1','x2']].values\n",
        "y = df['y'].values\n",
        "model.fit(X,y,epochs=1000,verbose=0)"
      ],
      "execution_count": 21,
      "outputs": [
        {
          "output_type": "execute_result",
          "data": {
            "text/plain": [
              "<tensorflow.python.keras.callbacks.History at 0x7f930a9a0860>"
            ]
          },
          "metadata": {
            "tags": []
          },
          "execution_count": 21
        }
      ]
    },
    {
      "cell_type": "markdown",
      "metadata": {
        "id": "ydLmhq_wLPB4"
      },
      "source": [
        "模型預測 & 評估"
      ]
    },
    {
      "cell_type": "code",
      "metadata": {
        "id": "DIJCnanOGq54",
        "outputId": "10eb73d1-9686-4efa-ddfd-85eca001eb69",
        "colab": {
          "base_uri": "https://localhost:8080/"
        }
      },
      "source": [
        "y_pred = model.predict(X).ravel()\n",
        "y_pred = (y_pred>=0.5).astype(int)\n",
        "df['y_pred'] = list(y_pred)\n",
        "accuracy_score(df['y'].values,df['y_pred'].values)"
      ],
      "execution_count": 22,
      "outputs": [
        {
          "output_type": "execute_result",
          "data": {
            "text/plain": [
              "0.99"
            ]
          },
          "metadata": {
            "tags": []
          },
          "execution_count": 22
        }
      ]
    },
    {
      "cell_type": "markdown",
      "metadata": {
        "id": "I4sL7HUXLWXJ"
      },
      "source": [
        "可視化"
      ]
    },
    {
      "cell_type": "code",
      "metadata": {
        "id": "S7h_2JxdIb68",
        "outputId": "94e16c14-1906-43cc-c797-bfc5d48ac8f3",
        "colab": {
          "base_uri": "https://localhost:8080/",
          "height": 577
        }
      },
      "source": [
        "print('實際情況')\n",
        "plot_data(df[df.y == 0],df[df.y == 1])\n",
        "print('預測情況')\n",
        "plot_data(df[df.y_pred == 0],df[df.y_pred == 1])"
      ],
      "execution_count": 23,
      "outputs": [
        {
          "output_type": "stream",
          "text": [
            "實際情況\n"
          ],
          "name": "stdout"
        },
        {
          "output_type": "display_data",
          "data": {
            "image/png": "[encoded data removed]",
            "text/plain": [
              "<Figure size 432x288 with 1 Axes>"
            ]
          },
          "metadata": {
            "tags": [],
            "needs_background": "light"
          }
        },
        {
          "output_type": "stream",
          "text": [
            "預測情況\n"
          ],
          "name": "stdout"
        },
        {
          "output_type": "display_data",
          "data": {
            "image/png": "[encoded data removed]",
            "text/plain": [
              "<Figure size 432x288 with 1 Axes>"
            ]
          },
          "metadata": {
            "tags": [],
            "needs_background": "light"
          }
        }
      ]
    }
  ]
}