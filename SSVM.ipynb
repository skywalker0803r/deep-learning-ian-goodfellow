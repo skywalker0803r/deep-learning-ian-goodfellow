{
  "nbformat": 4,
  "nbformat_minor": 0,
  "metadata": {
    "colab": {
      "name": "SSVM.ipynb",
      "provenance": [],
      "authorship_tag": "ABX9TyMppBQkFcVC4QYgVqEJOxS2",
      "include_colab_link": true
    },
    "kernelspec": {
      "name": "python3",
      "display_name": "Python 3"
    }
  },
  "cells": [
    {
      "cell_type": "markdown",
      "metadata": {
        "id": "view-in-github",
        "colab_type": "text"
      },
      "source": [
        "<a href=\"https://colab.research.google.com/github/skywalker0803r/deep-learning-ian-goodfellow/blob/master/SSVM.ipynb\" target=\"_parent\"><img src=\"https://colab.research.google.com/assets/colab-badge.svg\" alt=\"Open In Colab\"/></a>"
      ]
    },
    {
      "cell_type": "code",
      "metadata": {
        "id": "i2FmnTfZdHs1",
        "colab_type": "code",
        "colab": {}
      },
      "source": [
        "import torch\n",
        "from torch import nn\n",
        "import torch.nn.functional as F\n",
        "import numpy as np\n",
        "import pandas as pd\n",
        "import matplotlib.pyplot as plt\n",
        "from sklearn.datasets import load_breast_cancer\n",
        "from sklearn.utils import shuffle\n",
        "from sklearn.model_selection import train_test_split\n",
        "from sklearn.preprocessing import MinMaxScaler\n",
        "import torch.optim as optim\n",
        "\n",
        "# LOAD raw data\n",
        "data = load_breast_cancer()\n",
        "X = pd.DataFrame(data.data,columns=data.feature_names).values\n",
        "y = pd.DataFrame(data.target,columns=['target']).replace(0,-1).values\n",
        "\n",
        "# features scaling\n",
        "X[:] = MinMaxScaler().fit_transform(X)\n",
        "\n",
        "# split train test\n",
        "X_train, X_test, y_train, y_test = train_test_split(X, y, test_size=0.33, random_state=42)\n",
        "\n",
        "# torch format data\n",
        "C = 1\n",
        "A = torch.FloatTensor(X_train)\n",
        "D = np.diag(y_train.ravel())\n",
        "D = torch.FloatTensor(D)\n",
        "\n",
        "# define model\n",
        "model = nn.Sequential(nn.Linear(A.shape[1],1),\n",
        "                      nn.Sigmoid())\n",
        "optimizer = optim.Adam(model.parameters(),lr=0.01)\n",
        "\n",
        "# help get model param\n",
        "def get_param(model):\n",
        "  weight = None\n",
        "  bias = None\n",
        "  for i,p in enumerate(model.parameters()):\n",
        "    if i == 0:\n",
        "      weight = p\n",
        "    if i == 1:\n",
        "      bias = p \n",
        "  return weight,bias"
      ],
      "execution_count": 0,
      "outputs": []
    },
    {
      "cell_type": "markdown",
      "metadata": {
        "id": "1-I5YkxUvLqy",
        "colab_type": "text"
      },
      "source": [
        "# loss function"
      ]
    },
    {
      "cell_type": "code",
      "metadata": {
        "id": "rCq5vPIavLzb",
        "colab_type": "code",
        "colab": {}
      },
      "source": [
        "def loss_function(A,D,model):\n",
        "  W,b = get_param(model)\n",
        "  return (C/2)*torch.norm(F.softplus((1-D@(A@W.T+b)),beta=5),p=2)**2 + (1/2)*(torch.norm(W.T)**2 + b**2)"
      ],
      "execution_count": 0,
      "outputs": []
    },
    {
      "cell_type": "markdown",
      "metadata": {
        "id": "eiHU78xVqlvr",
        "colab_type": "text"
      },
      "source": [
        "# train"
      ]
    },
    {
      "cell_type": "code",
      "metadata": {
        "id": "O6TS35CZqmXh",
        "colab_type": "code",
        "colab": {}
      },
      "source": [
        "def train(model,A,D,loss_function,optimizer,num_epochs=100):\n",
        "    train_history = []\n",
        "    for epoch in range(num_epochs):\n",
        "        loss = loss_function(A,D,model).sum()    \n",
        "        loss.backward()\n",
        "        optimizer.step()\n",
        "        optimizer.zero_grad()\n",
        "        train_history.append(loss.item())\n",
        "    \n",
        "    plt.plot(np.array(train_history),label='train')\n",
        "    plt.title('loss history')\n",
        "    plt.legend()\n",
        "    plt.show()\n",
        "    \n",
        "    return model.eval()"
      ],
      "execution_count": 0,
      "outputs": []
    },
    {
      "cell_type": "code",
      "metadata": {
        "id": "mSlW4ga5rXPZ",
        "colab_type": "code",
        "colab": {
          "base_uri": "https://localhost:8080/",
          "height": 281
        },
        "outputId": "7e5d44fe-a7b3-45ed-e6c3-2d799eef74e0"
      },
      "source": [
        "model = train(model,A,D,loss_function,optimizer,num_epochs=1000)"
      ],
      "execution_count": 4,
      "outputs": [
        {
          "output_type": "display_data",
          "data": {
            "image/png": "[encoded data removed]",
            "text/plain": [
              "<Figure size 432x288 with 1 Axes>"
            ]
          },
          "metadata": {
            "tags": [],
            "needs_background": "light"
          }
        }
      ]
    },
    {
      "cell_type": "markdown",
      "metadata": {
        "id": "VnAsVB61tRJT",
        "colab_type": "text"
      },
      "source": [
        "# evaluate"
      ]
    },
    {
      "cell_type": "code",
      "metadata": {
        "id": "-dkZfXJkrYrv",
        "colab_type": "code",
        "colab": {}
      },
      "source": [
        "y_pred = model(torch.FloatTensor(X_test)).round()\n",
        "y_pred = pd.Series(y_pred.detach().numpy().ravel()).replace(0,-1).values"
      ],
      "execution_count": 0,
      "outputs": []
    },
    {
      "cell_type": "code",
      "metadata": {
        "id": "RZfRbTIwsm_e",
        "colab_type": "code",
        "colab": {}
      },
      "source": [
        "y_real = pd.Series(y_test.reshape(-1)).values"
      ],
      "execution_count": 0,
      "outputs": []
    },
    {
      "cell_type": "code",
      "metadata": {
        "id": "X-2fcDGxsip5",
        "colab_type": "code",
        "colab": {
          "base_uri": "https://localhost:8080/",
          "height": 34
        },
        "outputId": "dceda878-5ef2-4a22-8add-8a9d6ff34d91"
      },
      "source": [
        "from sklearn.metrics import f1_score\n",
        "\n",
        "f1_score(y_real,y_pred)"
      ],
      "execution_count": 7,
      "outputs": [
        {
          "output_type": "execute_result",
          "data": {
            "text/plain": [
              "0.9794238683127573"
            ]
          },
          "metadata": {
            "tags": []
          },
          "execution_count": 7
        }
      ]
    },
    {
      "cell_type": "code",
      "metadata": {
        "id": "1ZbIGMtUtXJm",
        "colab_type": "code",
        "colab": {}
      },
      "source": [
        ""
      ],
      "execution_count": 0,
      "outputs": []
    }
  ]
}