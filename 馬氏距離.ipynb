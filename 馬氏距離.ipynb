{
  "nbformat": 4,
  "nbformat_minor": 0,
  "metadata": {
    "colab": {
      "name": "馬氏距離.ipynb",
      "provenance": [],
      "authorship_tag": "ABX9TyO71TsLRuOMO5JbusTuGGf+",
      "include_colab_link": true
    },
    "kernelspec": {
      "name": "python3",
      "display_name": "Python 3"
    }
  },
  "cells": [
    {
      "cell_type": "markdown",
      "metadata": {
        "id": "view-in-github",
        "colab_type": "text"
      },
      "source": [
        "<a href=\"https://colab.research.google.com/github/skywalker0803r/deep-learning-ian-goodfellow/blob/master/%E9%A6%AC%E6%B0%8F%E8%B7%9D%E9%9B%A2.ipynb\" target=\"_parent\"><img src=\"https://colab.research.google.com/assets/colab-badge.svg\" alt=\"Open In Colab\"/></a>"
      ]
    },
    {
      "cell_type": "code",
      "metadata": {
        "id": "1c2m0RmAfdXJ"
      },
      "source": [
        "import numpy as np\n",
        "import matplotlib.pyplot as plt\n",
        "import pandas as pd"
      ],
      "execution_count": 13,
      "outputs": []
    },
    {
      "cell_type": "markdown",
      "metadata": {
        "id": "MPatBDHvnkl5"
      },
      "source": [
        "# 產生數據"
      ]
    },
    {
      "cell_type": "code",
      "metadata": {
        "id": "7ZLuwXVBffWJ",
        "outputId": "2e42e5dc-a7e5-4e3e-9fd1-7d2cac763618",
        "colab": {
          "base_uri": "https://localhost:8080/",
          "height": 282
        }
      },
      "source": [
        "x = np.random.normal(size=100)\n",
        "noise = np.random.normal(scale=2.0,size=100)\n",
        "y = 2*x + noise\n",
        "plt.scatter(x,y)"
      ],
      "execution_count": 14,
      "outputs": [
        {
          "output_type": "execute_result",
          "data": {
            "text/plain": [
              "<matplotlib.collections.PathCollection at 0x7feac12b55c0>"
            ]
          },
          "metadata": {
            "tags": []
          },
          "execution_count": 14
        },
        {
          "output_type": "display_data",
          "data": {
            "image/png": "[encoded data removed]",
            "text/plain": [
              "<Figure size 432x288 with 1 Axes>"
            ]
          },
          "metadata": {
            "tags": [],
            "needs_background": "light"
          }
        }
      ]
    },
    {
      "cell_type": "markdown",
      "metadata": {
        "id": "_Ov_9fxTmu5f"
      },
      "source": [
        "# 計算馬氏距離"
      ]
    },
    {
      "cell_type": "code",
      "metadata": {
        "id": "U-JzsT3vhv1J"
      },
      "source": [
        "SI = np.linalg.inv(np.cov(x,y))\n",
        "A = np.stack((x,y),axis=1)\n",
        "u = A.mean(axis=0)\n",
        "d = []\n",
        "for i in range(100):\n",
        "  d.append(np.sqrt((A[i]-u).T@SI@(A[i]-u)))\n",
        "d = pd.Series(d)"
      ],
      "execution_count": 15,
      "outputs": []
    },
    {
      "cell_type": "markdown",
      "metadata": {
        "id": "lN9wiJOhnFB1"
      },
      "source": [
        "# 定義離群值"
      ]
    },
    {
      "cell_type": "code",
      "metadata": {
        "id": "eV-zu1CBkSGa",
        "outputId": "83191b6a-f1f5-47a7-fe5d-ca3d8cc8cdca",
        "colab": {
          "base_uri": "https://localhost:8080/",
          "height": 282
        }
      },
      "source": [
        "ub = d.mean() + d.std()\n",
        "out_idx = d[d>ub].index\n",
        "\n",
        "plt.scatter(x,y)\n",
        "plt.scatter(x[out_idx],y[out_idx],color='red')"
      ],
      "execution_count": 16,
      "outputs": [
        {
          "output_type": "execute_result",
          "data": {
            "text/plain": [
              "<matplotlib.collections.PathCollection at 0x7feac12d0be0>"
            ]
          },
          "metadata": {
            "tags": []
          },
          "execution_count": 16
        },
        {
          "output_type": "display_data",
          "data": {
            "image/png": "[encoded data removed]",
            "text/plain": [
              "<Figure size 432x288 with 1 Axes>"
            ]
          },
          "metadata": {
            "tags": [],
            "needs_background": "light"
          }
        }
      ]
    },
    {
      "cell_type": "code",
      "metadata": {
        "id": "kb7V9pqtknMy"
      },
      "source": [
        ""
      ],
      "execution_count": 11,
      "outputs": []
    }
  ]
}